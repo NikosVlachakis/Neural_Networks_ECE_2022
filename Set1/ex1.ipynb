{
 "cells": [
  {
   "cell_type": "code",
   "execution_count": 287,
   "metadata": {},
   "outputs": [
    {
     "name": "stdout",
     "output_type": "stream",
     "text": [
      "(366, 35)\n"
     ]
    }
   ],
   "source": [
    "import os\n",
    "import numpy as np\n",
    "import pandas as pd\n",
    "import sklearn as sk\n",
    "import matplotlib as mpl\n",
    "\n",
    "# Set the working directory\n",
    "root_dir = \"Datasets\"\n",
    "\n",
    "# Read dataset and save it in a dataframe\n",
    "df = pd.read_csv(os.path.join(root_dir, \"dermatology.data\"), header=None, delimiter=\",\")\n",
    "print(df.shape)"
   ]
  },
  {
   "cell_type": "markdown",
   "metadata": {},
   "source": [
    "### Dataset review\n",
    "\n",
    "- **Dataset presentation:** The dataset consists of clinical cases of patients that suffer from erythemato-squamous diseases.\n",
    "\n",
    "- **File conversion:** We did not need to convert our plain text, we used the read_csv function from pandas.\n",
    "\n",
    "- **Entry and attribute count:** The dataset consists of 366 entries, each of which has 34 attributes. All of them are ordinal, except the family history which is binary and age which is numeric.\n",
    "\n",
    "- **Indexes and headers:** There are no row indexes or column headers.\n",
    "\n",
    "- **Class labels:** Class labels (found in column 35) are integers from 1 to 6, that represent psoriasis, seboreic dermatitis, lichen planus,pityriasis rosea, cronic dermatitis, and pityriasis rubra pilaris respectively.\n",
    "\n",
    "- **Missing values:** There are 8 missing values in the age column and they represent 8/366= 0.022% of the entries.\n",
    "\n",
    "- **Class count:** As we can see from the table below, the dataset is not balanced.\n",
    "\n",
    "    Class      | Number of instances | Percentages |\n",
    "    ----------- | ----------- | ----------- |\n",
    "    psoriasis      | 112       | 30.6% |\n",
    "    seboreic dermatitis   | 61        | 16.6% |\n",
    "    lichen planus         | 72       | 19.6% |\n",
    "    pityriasis rosea   | 49        | 13.4% |\n",
    "    cronic dermatitis         | 52       | 14.3% |\n",
    "    pityriasis rubra pilaris    | 20        | 5.5% |\n",
    "\n",
    "\n",
    "      \n",
    "\n",
    "\n"
   ]
  },
  {
   "cell_type": "markdown",
   "metadata": {},
   "source": [
    "### Dataset split\n",
    "\n",
    "- **Splitting method:** We used the train_test_split function from sklearn.model_selection to split the dataset into training and testing sets. We used a 70/30 split, meaning that 70% of the dataset was used for training and 30% for testing.\n",
    "\n"
   ]
  },
  {
   "cell_type": "code",
   "execution_count": 288,
   "metadata": {},
   "outputs": [
    {
     "name": "stdout",
     "output_type": "stream",
     "text": [
      "(256, 34)\n",
      "(110, 34)\n",
      "(256,)\n",
      "(110,)\n"
     ]
    }
   ],
   "source": [
    "from sklearn.model_selection import train_test_split\n",
    "\n",
    "# Split the dataset into labels and features\n",
    "X = df.iloc[:, :-1]\n",
    "y = df.iloc[:, -1]\n",
    "\n",
    "#split the df into train and test sets with 30% of the data in the test set\n",
    "X_train, X_test, y_train, y_test = train_test_split(X, y, test_size=0.3)\n",
    "\n",
    "print(X_train.shape)\n",
    "print(X_test.shape)\n",
    "print(y_train.shape)\n",
    "print(y_test.shape)\n"
   ]
  },
  {
   "cell_type": "markdown",
   "metadata": {},
   "source": [
    "### Missing values\n",
    "\n",
    "- **Missing values treatment:** Since we had missing values in the age column, we decided to replace them with the median of the column. We did this because the column is numeric and the median is a good approximation of the missing values. We also decided to replace the missing values with the median because the number of missing values is small compared to the number of entries.\n",
    "To achieve this, we first replaced the missing values with NaN, then we calculated the median of the column and finally we replaced the NaN values with the median.\n"
   ]
  },
  {
   "cell_type": "code",
   "execution_count": 289,
   "metadata": {},
   "outputs": [],
   "source": [
    "from sklearn.impute import SimpleImputer\n",
    "\n",
    "\n",
    "# replace ? with NaN\n",
    "Χ_train = X_train.replace('?', np.nan)\n",
    "Χ_test = X_test.replace('?', np.nan)\n",
    "\n",
    "# Use SimpleImputer to replace missing values with the median of the column\n",
    "imp = SimpleImputer(missing_values=np.nan, strategy='median')\n",
    "\n",
    "X_train = imp.fit_transform(Χ_train)\n",
    "X_test = imp.fit_transform(Χ_test)\n"
   ]
  },
  {
   "cell_type": "markdown",
   "metadata": {},
   "source": [
    "### Feature types\n",
    "\n",
    "- **Feature types:** All of the features are ordinal, except the family history which is binary and age which is numeric. We did not need to convert any of the features to a different type."
   ]
  },
  {
   "cell_type": "markdown",
   "metadata": {},
   "source": [
    "### Classification\n",
    "\n",
    "- **Classifiers:** We will test the following classifiers: dummy, Gaussian Naive Bayes,  k-nearest neighbors, Logistic Regression.\n",
    "\n",
    "- **Evaluation metrics:** We will use the accuracy and the F1 score to evaluate the performance of the classifiers.\n",
    "\n",
    "- **Cross-validation:** We will use 10-fold cross-validation to evaluate the performance of the classifiers.\n",
    "\n",
    "\n",
    "\n"
   ]
  },
  {
   "cell_type": "markdown",
   "metadata": {},
   "source": [
    "#### Out-of-the-box performance\n",
    "\n"
   ]
  },
  {
   "cell_type": "code",
   "execution_count": 290,
   "metadata": {},
   "outputs": [],
   "source": [
    "# import dummy,GNB,kNN,LR\n",
    "from sklearn.dummy import DummyClassifier\n",
    "from sklearn.naive_bayes import GaussianNB\n",
    "from sklearn.neighbors import KNeighborsClassifier\n",
    "from sklearn.linear_model import LogisticRegression\n",
    "\n",
    "# import metrics\n",
    "from sklearn.metrics import accuracy_score, f1_score\n",
    "\n",
    "# import cross validation \n",
    "from sklearn.model_selection import cross_validate\n",
    "\n",
    "# define the classifiers\n",
    "clf1 = DummyClassifier()\n",
    "clf2 = GaussianNB()\n",
    "clf3 = KNeighborsClassifier()\n",
    "clf4 = LogisticRegression()\n",
    "\n",
    "# fit the classifiers and print the accuracy and f1 score for each classifier and save them in a dataframe\n",
    "df = pd.DataFrame(columns=['Accuracy', 'F1 Score'])\n",
    "for clf in [clf1, clf2, clf3, clf4]:\n",
    "    clf.fit(X_train, y_train)\n",
    "    y_pred = clf.predict(X_test)\n",
    "    df.loc[clf.__class__.__name__] = [accuracy_score(y_test, y_pred), f1_score(y_test, y_pred, average='weighted')]\n"
   ]
  },
  {
   "cell_type": "code",
   "execution_count": 291,
   "metadata": {},
   "outputs": [
    {
     "data": {
      "text/markdown": [
       "|                      |   Accuracy |   F1 Score |\n",
       "|:---------------------|-----------:|-----------:|\n",
       "| DummyClassifier      |   0.254545 |   0.103294 |\n",
       "| GaussianNB           |   0.881818 |   0.866078 |\n",
       "| KNeighborsClassifier |   0.809091 |   0.80755  |\n",
       "| LogisticRegression   |   0.936364 |   0.937213 |"
      ],
      "text/plain": [
       "<IPython.core.display.Markdown object>"
      ]
     },
     "execution_count": 291,
     "metadata": {},
     "output_type": "execute_result"
    },
    {
     "data": {
      "image/png": "[encoded data removed]",
      "text/plain": [
       "<Figure size 640x480 with 1 Axes>"
      ]
     },
     "metadata": {},
     "output_type": "display_data"
    }
   ],
   "source": [
    "from IPython.display import Markdown as md\n",
    "\n",
    "\n",
    "\n",
    "# display the results of the classifiers in a comparison bar plot\n",
    "comparisonBarPlot = df.plot.bar()\n",
    "\n",
    "# display the results of the classifiers in a markdown table\n",
    "markDownTableResults = df.to_markdown()\n",
    "md(markDownTableResults)\n",
    "\n"
   ]
  },
  {
   "cell_type": "markdown",
   "metadata": {},
   "source": [
    "### Result analysis\n",
    "\n",
    "- **Dummy classifier:** The dummy classifier does not perform well in neither metric. This is expected because the dataset is not balanced and the dummy classifier always predicts the most frequent class.\n",
    "\n",
    "- **Gaussian Naive Bayes:** The Gaussian Naive Bayes classifier performs better than the dummy classifier in both metrics. This is expected because the dataset is not balanced and the Gaussian Naive Bayes classifier is a good classifier for imbalanced datasets.\n",
    "\n",
    "- **k-nearest neighbors:** The k-nearest neighbors classifier performs better than the dummy classifier and has similar results to GNB in both metrics. \n",
    "\n",
    "- **Logistic Regression:** The Logistic Regression classifier performs slightly better than all the other classifier in both metrics.\n",
    "\n"
   ]
  }
 ],
 "metadata": {
  "kernelspec": {
   "display_name": "Python 3.10.8 64-bit",
   "language": "python",
   "name": "python3"
  },
  "language_info": {
   "codemirror_mode": {
    "name": "ipython",
    "version": 3
   },
   "file_extension": ".py",
   "mimetype": "text/x-python",
   "name": "python",
   "nbconvert_exporter": "python",
   "pygments_lexer": "ipython3",
   "version": "3.10.8"
  },
  "orig_nbformat": 4,
  "vscode": {
   "interpreter": {
    "hash": "b0fa6594d8f4cbf19f97940f81e996739fb7646882a419484c72d19e05852a7e"
   }
  }
 },
 "nbformat": 4,
 "nbformat_minor": 2
}
