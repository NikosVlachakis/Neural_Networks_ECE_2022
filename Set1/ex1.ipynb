{
 "cells": [
  {
   "cell_type": "code",
   "execution_count": 34,
   "metadata": {},
   "outputs": [
    {
     "name": "stdout",
     "output_type": "stream",
     "text": [
      "(366, 35)\n"
     ]
    }
   ],
   "source": [
    "import os\n",
    "import numpy as np\n",
    "import pandas as pd\n",
    "import sklearn as sk\n",
    "\n",
    "# Set the working directory\n",
    "root_dir = \"Datasets\"\n",
    "\n",
    "# Read dataset and save it in a dataframe\n",
    "df = pd.read_csv(os.path.join(root_dir, \"dermatology.data\"), header=None, delimiter=\",\")\n",
    "print(df.shape)\n"
   ]
  },
  {
   "cell_type": "markdown",
   "metadata": {},
   "source": [
    "### Dataset review\n",
    "\n",
    "- **Dataset presentation:** The dataset consists of clinical cases of patients that suffer from erythemato-squamous diseases.\n",
    "\n",
    "- **File conversion:** We did not need to convert our plain text, we used the read_csv function from pandas.\n",
    "\n",
    "- **Entry and attribute count:** The dataset consists of 366 entries, each of which has 34 attributes. All of them are ordinal, except the family history which is binary and age which is numeric.\n",
    "\n",
    "- **Indexes and headers:** There are no row indexes or column headers.\n",
    "\n",
    "- **Class labels:** Class labels (found in column 35) are integers from 1 to 6, that represent psoriasis, seboreic dermatitis, lichen planus,pityriasis rosea, cronic dermatitis, and pityriasis rubra pilaris respectively.\n",
    "\n",
    "- **Missing values:** There are 8 missing values in the age column and they represent 8/366= 0.022% of the entries.\n",
    "\n",
    "- **Class count:** As we can see from the table below, the dataset is not balanced.\n",
    "\n",
    "    Class      | Number of instances | Percentages |\n",
    "    ----------- | ----------- | ----------- |\n",
    "    psoriasis      | 112       | 30.6% |\n",
    "    seboreic dermatitis   | 61        | 16.6% |\n",
    "    lichen planus         | 72       | 19.6% |\n",
    "    pityriasis rosea   | 49        | 13.4% |\n",
    "    cronic dermatitis         | 52       | 14.3% |\n",
    "    pityriasis rubra pilaris    | 20        | 5.5% |\n",
    "\n",
    "\n",
    "      \n",
    "\n",
    "\n"
   ]
  }
 ],
 "metadata": {
  "kernelspec": {
   "display_name": "Python 3.10.8 64-bit",
   "language": "python",
   "name": "python3"
  },
  "language_info": {
   "codemirror_mode": {
    "name": "ipython",
    "version": 3
   },
   "file_extension": ".py",
   "mimetype": "text/x-python",
   "name": "python",
   "nbconvert_exporter": "python",
   "pygments_lexer": "ipython3",
   "version": "3.10.8"
  },
  "orig_nbformat": 4,
  "vscode": {
   "interpreter": {
    "hash": "b0fa6594d8f4cbf19f97940f81e996739fb7646882a419484c72d19e05852a7e"
   }
  }
 },
 "nbformat": 4,
 "nbformat_minor": 2
}
