{
  "cells": [
    {
      "cell_type": "markdown",
      "metadata": {
        "id": "kChJDbhknE1X"
      },
      "source": [
        "### Dataset review\n",
        "\n",
        "- **Dataset presentation:** The dataset consists of online poker games. There are multiple columns represent the features of the game and the column named result is the label of the dataset which indicates the performance of the player.\n",
        "\n",
        "- **File conversion:** We did not need to convert the data format, we used the read_csv function from pandas.\n",
        "\n",
        "- **Entry count:** The dataset consists of 102615 entries. After carefully examining the dataset, we found that there was just one player with id=fa538846 who had sufficient data to be considered. All the others had missing data essential for the analysis. Therefore, we decided to remove all the players except for the one. This resulted in a dataset with 41303 entries.\n",
        "\n",
        "- **Attribute count:** The dataset consists of 35 attributes with many different types. There are categorical, nominal, numerical and binary data types. More precisely all the columns related to card values such as cards, board_flop, board_turn etc are ordinal because they have a natural order. Other columns that describe some actions of the game such as call, raise etc are nominal and we used one hot encoding to replace them with binary features. There is one binary column called all_in and the rest of them are numerical. The label column with name result is categorical. During the analysis we understood that there are some columns that are not useful and we decided to remove them. The dropped columns are: buyin, tourn_id, table, hand_id, date, time, table_size, seat, name and combination. Additionally, we decided to remove the column with name balance because it provides information on the final result (which is what we want to predict) and we do not want to use it as a feature.\n",
        "\n",
        "- **Indexes and headers:** There are row indexes and column headers.\n",
        "\n",
        "- **Class labels:** Class labels (found in column 34) are categorical and represent if the player won, lost, gave up or took chips. \n",
        "\n",
        "- **Missing values:** There is just one column with missing values, the column named combination in which the 82% are missing values. Considering the content of the column which is the cards combination of each player we thought that the replication of missing rows does not make any sense. Apart from this, the big amount of missing values was another indication that this column should be removed from the training process.\n",
        "\n",
        "- **Class count:** As we can see from the table below, the dataset is not balanced.\n",
        "\n",
        "Class      | Number of instances | Percentages |\n",
        "----------- | ----------- | ----------- |\n",
        "won      | 4228       | 10.2% |\n",
        "lost         | 3570       | 8.6% |\n",
        "gave up   | 21359        | 51.7% |\n",
        "took chips         | 12146       | 29.5% |\n",
        "    \n",
        "\n",
        "\n",
        "      \n",
        "\n"
      ]
    },
    {
      "cell_type": "code",
      "execution_count": null,
      "metadata": {
        "colab": {
          "base_uri": "https://localhost:8080/"
        },
        "id": "UdcAWbV7nE1d",
        "outputId": "a3aa8657-90bc-4716-b8f5-afdaa3702069"
      },
      "outputs": [],
      "source": [
        "import os\n",
        "import numpy as np\n",
        "import pandas as pd\n",
        "import sklearn as sk\n",
        "import matplotlib as mpl\n",
        "from sklearn.metrics import classification_report\n",
        "from sklearn.feature_selection import VarianceThreshold\n",
        "from sklearn.preprocessing import OrdinalEncoder\n",
        "from tqdm.notebook import tqdm \n",
        "\n",
        "from google.colab import drive\n",
        "drive.mount('/content/drive')\n",
        "\n",
        "import warnings\n",
        "warnings.filterwarnings('ignore')\n",
        "df = pd.read_csv(\"/content/drive/My Drive/one_dollar_spin_and_go.csv\")\n",
        "\n",
        "# keep rows with name = fa538846\n",
        "df = df[df['name'] == 'fa538846']\n",
        "\n",
        "\n",
        "df.reset_index(drop=True, inplace=True)\n",
        "# drop columns\n",
        "df = df.drop(['buyin', 'tourn_id', 'table', 'hand_id', 'date', 'time','table_size' ,'seat', 'name', 'combination','balance'], axis=1)\n",
        "\n",
        "\n",
        "# From column 'cards' we create 5 new columns for each card x={1,2} ('card_value_x', 'card_suit__c', 'card_suit__d', 'card_suit__h', 'card_suit__s')\n",
        "# We will use OrdinalEncoder to transform the values of the columns 'card_value_x' into numerical values\n",
        "# We will use OneHotEncoder to transform the values of the columns 'card_suit_x' into several columns with binary values\n",
        "\n",
        "df['card_value_1'] = df['cards'].str.split(' ').str[0].str[0]\n",
        "df['card_suit_1'] = df['cards'].str.split(' ').str[0].str[1]\n",
        "df['card_value_2'] = df['cards'].str.split(' ').str[1].str[0]\n",
        "df['card_suit_2'] = df['cards'].str.split(' ').str[1].str[1]\n",
        "\n",
        "\n",
        "# define ordinal encoder with playing card values as categories\n",
        "ordinal_encoder_cards = OrdinalEncoder(categories=[['0','2', '3', '4', '5', '6', '7', '8', '9', 'T', 'J', 'Q', 'K', 'A']])\n",
        "\n",
        "# fit and transform the card_value_1 and card_value_2 columns\n",
        "df['card_value_1'] = ordinal_encoder_cards.fit_transform(df[['card_value_1']])\n",
        "df['card_value_2'] = ordinal_encoder_cards.fit_transform(df[['card_value_2']])\n",
        "\n",
        "\n",
        "# define one hot encoder for card_suit_1 and card_suit_2\n",
        "one_hot_encoder = sk.preprocessing.OneHotEncoder(sparse=False)\n",
        "\n",
        "\n",
        "# use one hot encoder to transform card_suit_1 and card_suit_2 and save the result in new columns\n",
        "oneHotEncodedDf = pd.DataFrame(one_hot_encoder.fit_transform(df[['card_suit_1', 'card_suit_2']]))\n",
        "oneHotEncodedDf.columns = one_hot_encoder.get_feature_names_out()\n",
        "\n",
        "df = pd.concat([df, oneHotEncodedDf], axis=1 )\n",
        "\n",
        "\n",
        "# do the same as above for the columns board_flop, board_turn and board_river if values is not 0\n",
        "# replace 0 with \"00 00 00\"\n",
        "df['board_flop'] = df['board_flop'].replace('0', '00 00 00')\n",
        "\n",
        "df['board_flop_1'] = df['board_flop'].str.split(' ').str[0].str[0]\n",
        "df['board_flop_suit_1'] = df['board_flop'].str.split(' ').str[0].str[1]\n",
        "df['board_flop_2'] = df['board_flop'].str.split(' ').str[1].str[0]\n",
        "df['board_flop_suit_2'] = df['board_flop'].str.split(' ').str[1].str[1]\n",
        "df['board_flop_3'] = df['board_flop'].str.split(' ').str[2].str[0]\n",
        "df['board_flop_suit_3'] = df['board_flop'].str.split(' ').str[2].str[1]\n",
        "\n",
        "df['board_flop_1'] = ordinal_encoder_cards.fit_transform(df[['board_flop_1']])\n",
        "df['board_flop_2'] = ordinal_encoder_cards.fit_transform(df[['board_flop_2']])\n",
        "df['board_flop_3'] = ordinal_encoder_cards.fit_transform(df[['board_flop_3']])\n",
        "oneHotEncodedDf = pd.DataFrame(one_hot_encoder.fit_transform(df[['board_flop_suit_1', 'board_flop_suit_2', 'board_flop_suit_3']]))\n",
        "oneHotEncodedDf.columns = one_hot_encoder.get_feature_names_out()\n",
        "df = pd.concat([df, oneHotEncodedDf], axis=1)\n",
        "\n",
        "# replace 0 with \"00\"\n",
        "df['board_turn'] = df['board_turn'].replace('0', '00')\n",
        "\n",
        "df['board_turn_value'] = df['board_turn'].str.split(' ').str[0].str[0]\n",
        "df['board_turn_suit'] = df['board_turn'].str.split(' ').str[0].str[1]\n",
        "df['board_turn_value'] = ordinal_encoder_cards.fit_transform(df[['board_turn_value']])\n",
        "oneHotEncodedDf = pd.DataFrame(one_hot_encoder.fit_transform(df[['board_turn_suit']]))\n",
        "oneHotEncodedDf.columns = one_hot_encoder.get_feature_names_out()\n",
        "df = pd.concat([df, oneHotEncodedDf], axis=1)\n",
        "\n",
        "# replace 0 with \"00\"\n",
        "df['board_river'] = df['board_river'].replace('0', '00')\n",
        "\n",
        "df['board_river_value'] = df['board_river'].str.split(' ').str[0].str[0]\n",
        "df['board_river_suit'] = df['board_river'].str.split(' ').str[0].str[1]\n",
        "df['board_river_value'] = ordinal_encoder_cards.fit_transform(df[['board_river_value']])\n",
        "oneHotEncodedDf = pd.DataFrame(one_hot_encoder.fit_transform(df[['board_river_suit']]))\n",
        "oneHotEncodedDf.columns = one_hot_encoder.get_feature_names_out()\n",
        "df = pd.concat([df, oneHotEncodedDf], axis=1)\n",
        "\n",
        "# drop the columns\n",
        "df = df.drop(['cards', 'card_suit_1', 'card_suit_2', 'board_flop', 'board_turn', 'board_river', 'board_flop_suit_1', 'board_flop_suit_2', 'board_flop_suit_3', 'board_turn_suit', 'board_river_suit'], axis=1)\n",
        "\n",
        "\n",
        "# use one hot on the columns 'position', 'action_pre', 'action_flop', 'action_turn', 'action_river'\n",
        "oneHotEncodedDf = pd.DataFrame(one_hot_encoder.fit_transform(df[['position', 'action_pre', 'action_flop', 'action_turn', 'action_river']]))\n",
        "oneHotEncodedDf.columns = one_hot_encoder.get_feature_names_out()\n",
        "df = pd.concat([df, oneHotEncodedDf], axis=1)\n",
        "df = df.drop(['position', 'action_pre', 'action_flop', 'action_turn', 'action_river'], axis=1)\n",
        "\n",
        "# use label encoder on the column 'result'\n",
        "label_encoder = sk.preprocessing.LabelEncoder()\n",
        "df['result'] = label_encoder.fit_transform(df['result'])\n",
        "\n",
        "y= df['result']\n"
      ]
    },
    {
      "cell_type": "markdown",
      "metadata": {
        "id": "vavS9F__tUmI"
      },
      "source": [
        "### Dataset split\n",
        "\n",
        "- **Splitting method:** We used the train_test_split function from sklearn.model_selection to split the dataset into training and testing sets. We used a 70/30 split, meaning that 70% of the dataset was used for training and 30% for testing. We selected this ratio because we wanted to have a good amount of data for training and at the same time we wanted to have enough data for testing.\n",
        "\n",
        "- **Cross validation:**  We used 10 fold cross validation because we undersampled the classes to make the dataset balanced. This way we weren't too concerned about a class not being present in our training set and we used 5 folds to save time. "
      ]
    },
    {
      "cell_type": "code",
      "execution_count": 2,
      "metadata": {
        "id": "AcStrfksnE1g"
      },
      "outputs": [],
      "source": [
        "from sklearn.model_selection import train_test_split\n",
        "\n",
        "# Split the data into training and test sets\n",
        "X = df.drop(['result'], axis=1)\n",
        "y= df['result']\n",
        "\n",
        "#split the df into train and test sets with 30% of the data in the test set\n",
        "X_train, X_test, y_train, y_test = train_test_split(X, y, test_size=0.3)\n"
      ]
    },
    {
      "cell_type": "markdown",
      "metadata": {
        "id": "jjDHo0jLu2zX"
      },
      "source": [
        "### Dataset metrics\n",
        "\n",
        "- **Metric selection:** We used the accuracy score and the f1_micro as the metrics for evaluating the performance of the models. As about the accuracy score it is considered the most common metric for classification problems. It is also easy to understand and interpret. The accuracy score is the ratio of the number of correct predictions to the total number of predictions. It is a good metric for our problem because we want to know how many times the model predicted the correct class. The f1_micro is the harmonic mean of the precision and recall. It is a good metric for our problem because we want to know how many times the model predicted the correct class and how many times it predicted the wrong class. The f1_micro is a good metric for our problem because we want to know how many times the model predicted the correct class and how many times it predicted the wrong class."
      ]
    },
    {
      "cell_type": "code",
      "execution_count": 3,
      "metadata": {
        "id": "HmZRP-tBnE1g"
      },
      "outputs": [],
      "source": [
        "from sklearn.metrics import accuracy_score\n",
        "from sklearn.metrics import f1_score"
      ]
    },
    {
      "cell_type": "code",
      "execution_count": 4,
      "metadata": {
        "id": "BJiKu-mWnE1g"
      },
      "outputs": [],
      "source": [
        "from sklearn.neural_network import MLPClassifier\n",
        "from sklearn.svm import SVC\n",
        "from sklearn.dummy import DummyClassifier\n",
        "\n",
        "# create a list of models\n",
        "models = []\n",
        "models.append(DummyClassifier())\n",
        "models.append(MLPClassifier())\n",
        "models.append(SVC())"
      ]
    },
    {
      "cell_type": "markdown",
      "metadata": {
        "id": "2qaaF1EFwdI2"
      },
      "source": [
        "### Out of the box performance\n",
        "\n",
        "- **OOB classifiers:** As we can see from the below results the MLPClassifier has better performance metrics in comparison with the SVC classifier but both of them have very good performance metrics even without tuning the hyperparameters. This shows that the default hyperparameters may be good enough for this dataset's analysis."
      ]
    },
    {
      "cell_type": "code",
      "execution_count": 5,
      "metadata": {
        "colab": {
          "base_uri": "https://localhost:8080/",
          "height": 463
        },
        "id": "Nbt_baAOnE1g",
        "outputId": "c798da79-6427-4794-e612-79804ad54c26"
      },
      "outputs": [
        {
          "data": {
            "text/markdown": [
              "|                 |   Accuracy OOB |   F1 Score OOB |\n",
              "|:----------------|---------------:|---------------:|\n",
              "| DummyClassifier |       0.514002 |       0.349006 |\n",
              "| MLPClassifier   |       0.931321 |       0.931051 |\n",
              "| SVC             |       0.838996 |       0.812634 |"
            ],
            "text/plain": [
              "<IPython.core.display.Markdown object>"
            ]
          },
          "execution_count": 5,
          "metadata": {},
          "output_type": "execute_result"
        },
        {
          "data": {
            "image/png": "[encoded data removed]",
            "text/plain": [
              "<Figure size 432x288 with 1 Axes>"
            ]
          },
          "metadata": {
            "needs_background": "light"
          },
          "output_type": "display_data"
        }
      ],
      "source": [
        "# fit the classifiers and print the accuracy and f1 score for each classifier and save them in a dataframe\n",
        "out_of_the_box_df = pd.DataFrame(columns=['Accuracy OOB', 'F1 Score OOB'])\n",
        "for clf in models:\n",
        "    clf.fit(X_train, y_train)\n",
        "    y_pred = clf.predict(X_test)\n",
        "    out_of_the_box_df.loc[clf.__class__.__name__] = [accuracy_score(y_test, y_pred), f1_score(y_test, y_pred, average='weighted')]\n",
        "\n",
        "\n",
        "from IPython.display import Markdown as md\n",
        "\n",
        "\n",
        "# display the results of the classifiers in a comparison bar plot\n",
        "comparisonBarPlot = out_of_the_box_df.plot.bar()\n",
        "\n",
        "# display the results of the classifiers in a markdown table\n",
        "markDownTableResults = out_of_the_box_df.to_markdown()\n",
        "md(markDownTableResults)"
      ]
    },
    {
      "cell_type": "markdown",
      "metadata": {
        "id": "V2cCy5U6nE1h"
      },
      "source": [
        "### **MLP Classifier training**\n",
        "\n",
        "#### **Data preprocessing:** We tested a combination of data preprocessing techniques, including:\n",
        "\n",
        "- **Standardization:** We used the MinMaxScaler for standarisizing the data. We did not use the StandardScaler because it is sensitive to outliers.\n",
        "\n",
        "- **Feature selection:** We used the VarianceThreshold to remove features with low variance. We tested thresholds from 0.0 to 0.1 and we found that 0.0 is the best option.\n",
        "\n",
        "- **Sampling:** We used the RandomUnderSampler undersample the majority classes. We avoided using the oversampling techniques because we had a large volume of data and we wanted to avoid overfitting and large training times.\n",
        "\n",
        "- **Feature extraction:** We used the PCA to reduce the dimensionality of the data. We tested the number of components from 1% to 99% and we found that 99% is the best option. In the end we found out that PCA does not make a differenence so we removed it.\n",
        "\n",
        "<br/>\n",
        "\n",
        "\n",
        "#### **MLP Classifier:** We used the MLPClassifier from sklearn.neural_network to train our model. We tested different combinations of parameters and we found that the best combination is:\n",
        "\n",
        "\n",
        "<br/>\n",
        "\n",
        "#### **Hyperparameter tuning methodology:** We used the both HalvingRandomSearchCV and HalvingGridSearchCV to find the best combination of parameters. We began with the HalvingRandomSearchCV and we tested a large spectrum of choices for every hyperparameter. We then used the HalvingGridSearchCV to narrow down the choices for every hyperparameter. In the end, we used the HalvingGridSearchCV to find the best combination of parameters, based on the results we found on our previous tests. In our first two tests, we used the exact same parameters without narrowing them down but we changed the scoring function to from accuracy to f1_micro. We found that the best results occured when we used the f1_micro scoring function, so we used it for the rest of the tests.\n",
        "\n"
      ]
    },
    {
      "cell_type": "markdown",
      "metadata": {
        "id": "Cg7WOYlWnE1h"
      },
      "source": [
        "### **Test results and analysis:**\n",
        "\n",
        "#### **Test 1 HalvingRandomSearchCV with scoring = 'accuracy'**\n",
        "\n",
        "##### **Test parameters:**\n",
        "\n",
        "Hyperparameter | Values |\n",
        "----------- | ----------- |\n",
        "selector__threshold | [0.0, 0.05, 0.1] |\n",
        "pca__n_components | [0.1, 0.35, 0.75, 0.9] |\n",
        "clf__solver | ['sgd', 'adam'] |\n",
        "clf__activation | ['tanh', 'relu'] |\n",
        "clf__alpha | [0.01, 0.1, 0.5, 1, 2] |\n",
        "clf__hidden_layer_sizes | [(100, 100), (100, 100, 100), (100, 100, 100, 100)] |\n",
        "\n",
        "##### **Best parameters:**\n",
        "\n",
        "Hyperparameter | Values |\n",
        "----------- | ----------- |\n",
        "selector__threshold | 0.0 |\n",
        "pca__n_components | 0.9 |\n",
        "clf__solver | adam |\n",
        "clf__activation | tanh |\n",
        "clf__alpha | 0.1 |\n",
        "clf__hidden_layer_sizes | (100, 100)\n",
        "\n",
        "\n",
        "##### **Test score:**\n",
        "Scores |   Accuracy | \tF1 Score |\n",
        "----------- | ----------- | ----------- |\n",
        "Pipeline |\t0.907917 |\t0.909672 |\n",
        "\n",
        "##### **Comment:** These scores will be used to compare the accuracy and f1 micro scoring functions.\n",
        "\n",
        "<br/>\n",
        "\n",
        "#### **Test 2 HalvingRandomSearchCV with scoring = 'f1_micro'**\n",
        "\n",
        "##### **Test parameters:**\n",
        "\n",
        "Hyperparameter | Values |\n",
        "----------- | ----------- |\n",
        "selector__threshold | [0.0, 0.05, 0.1] |\n",
        "pca__n_components | [0.1, 0.35, 0.75, 0.9] |\n",
        "clf__solver | ['sgd', 'adam'] |\n",
        "clf__activation | ['tanh', 'relu'] |\n",
        "clf__alpha | [0.01, 0.1, 0.5, 1, 2] |\n",
        "clf__hidden_layer_sizes | [(100, 100), (100, 100, 100), (100, 100, 100, 100)] |\n",
        "\n",
        "##### **Best parameters:**\n",
        "\n",
        "Hyperparameter | Values |\n",
        "----------- | ----------- |\n",
        "selector__threshold | 0.0 |\n",
        "pca__n_components | 0.9 |\n",
        "clf__solver | adam |\n",
        "clf__activation | tanh |\n",
        "clf__alpha | 0.1 |\n",
        "clf__hidden_layer_sizes | (100, 100)\n",
        "\n",
        "\n",
        "##### **Test score:**\n",
        "Scores |   Accuracy | \tF1 Score |\n",
        "----------- | ----------- | ----------- |\n",
        "Pipeline |\t0.919538 |\t0.920614 |\n",
        "\n",
        "##### **Comment:** Comparing the scores of test 1 and 2, we came to the conclusion that the f1_micro scoring function produces better results, so we will use it in our next tests. For the next test we will narrow down the values for every hyperparameter to values closer to the optimal value from this test.\n",
        "\n",
        "<br/>\n",
        "\n",
        "#### **Test 3 HalvingRandomSearchCV with scoring = 'f1_micro'**\n",
        "\n",
        "\n",
        "##### **Test parameters:**\n",
        "\n",
        "Hyperparameter | Values |\n",
        "----------- | ----------- |\n",
        "selector__threshold | [0.0, 0.02, 0.5] |\n",
        "pca__n_components | [0.85, 0.9, 0.99] |\n",
        "clf__solver | ['sgd', 'adam'] |\n",
        "clf__activation | ['tanh', 'relu'] |\n",
        "clf__alpha | [0.05, 0.1, 0.15] |\n",
        "clf__hidden_layer_sizes | [(100, 100), (100, 100, 100), (100, 100, 100, 100)] |\n",
        "\n",
        "##### **Best parameters:**\n",
        "\n",
        "Hyperparameter | Values |\n",
        "----------- | ----------- |\n",
        "selector__threshold | 0.0 |\n",
        "pca__n_components | 0.99 |\n",
        "clf__solver | adam |\n",
        "clf__activation | tanh |\n",
        "clf__alpha | 0.05 |\n",
        "clf__hidden_layer_sizes | (100, 100)\n",
        "\n",
        "\n",
        "##### **Test score:**\n",
        "Scores |   Accuracy | \tF1 Score |\n",
        "----------- | ----------- | ----------- |\n",
        "Pipeline |\t0.910096 |\t0.911866 |\n",
        "\n",
        "##### **Comment:** As we can see, the hyperparameters clf__solver and clf__activation always work better with the values 'adam' and 'tanh'. These will be our final values for those hyperparameters and we will stop testing for them. We also see the same pattern for clf__hidden_layer_sizes, we will continue testing but only choices closer to the (100, 100) choice.\n",
        "\n",
        "<br/>\n",
        "\n",
        "#### **Test 4 GridSearchCV with scoring = 'f1_micro'**\n",
        "\n",
        "\n",
        "##### **Test parameters:**\n",
        "\n",
        "\n",
        "Hyperparameter | Values |\n",
        "----------- | ----------- |\n",
        "selector__threshold | [0.0, 0.01] |\n",
        "pca__n_components | [0.98, 0.99] |\n",
        "clf__alpha | [0.02, 0.05, 0.07] |\n",
        "clf__hidden_layer_sizes | [(100, 100), (100, 100, 100)] |\n",
        "\n",
        "##### **Best parameters:**\n",
        "\n",
        "Hyperparameter | Values |\n",
        "----------- | ----------- |\n",
        "selector__threshold | 0.0 |\n",
        "pca__n_components | 0.99 |\n",
        "clf__alpha | 0.07 |\n",
        "clf__hidden_layer_sizes | (100, 100)\n",
        "\n",
        "\n",
        "##### **Test score:**\n",
        "Scores |   Accuracy | \tF1 Score |\n",
        "----------- | ----------- | ----------- |\n",
        "Pipeline |\t0.912194 |\t0.913875 |\n",
        "\n",
        "##### **Comment:** Since the hyperparameter values were almost completely optimized, we used GridSearchCV for our last test, because training time was not a problem (few combinations needed to be tested). The final testing score was marginally better than the previous versions.\n",
        "\n",
        "<br/>\n",
        "\n",
        "\n"
      ]
    },
    {
      "cell_type": "code",
      "execution_count": null,
      "metadata": {
        "colab": {
          "base_uri": "https://localhost:8080/",
          "height": 381
        },
        "id": "sr0olIVsnE1h",
        "outputId": "a945d97f-45bc-475f-ea05-55c8b1f22b56"
      },
      "outputs": [],
      "source": [
        "from imblearn.over_sampling import RandomOverSampler\n",
        "from imblearn.under_sampling import RandomUnderSampler\n",
        "from imblearn.pipeline import Pipeline\n",
        "from sklearn.decomposition import PCA\n",
        "from sklearn.feature_selection import VarianceThreshold\n",
        "from sklearn.preprocessing import MinMaxScaler\n",
        "from sklearn.preprocessing import StandardScaler\n",
        "from sklearn.model_selection import GridSearchCV\n",
        "\n",
        "from sklearn.experimental import enable_halving_search_cv\n",
        "# from sklearn.model_selection import HalvingGridSearchCV\n",
        "from sklearn.model_selection import HalvingRandomSearchCV\n",
        "\n",
        "\n",
        "# Initialize the transformers without hyperparameters\n",
        "selector = VarianceThreshold()\n",
        "scaler = MinMaxScaler()\n",
        "rus = RandomUnderSampler()\n",
        "pca = PCA()\n",
        "\n",
        "# Initialize the pipeline\n",
        "pipe_mlp = Pipeline([('selector', selector), ('scaler', scaler), ('rus', rus), ('pca', pca), ('clf', MLPClassifier(solver=\"adam\", activation=\"tanh\"))], memory = 'tmp')\n",
        "\n",
        "# Define the hyperparameters\n",
        "param_grid_mlp = {\n",
        "    'selector__threshold': [0.0, 0.01],\n",
        "    'pca__n_components': [0.98, 0.99],\n",
        "    'clf__alpha': [0.02, 0.05, 0.07],\n",
        "    'clf__hidden_layer_sizes': [(100, 100), (100, 100, 100)]\n",
        "} \n",
        "\n",
        "# Initialize the HalvingRandomSearchCV search\n",
        "grid_mlp = GridSearchCV(pipe_mlp, param_grid_mlp, cv=10, n_jobs=-1, verbose=1, scoring='f1_micro')\n",
        "\n",
        "# Fit the grid search\n",
        "grid_mlp.fit(X_train, y_train)\n",
        "\n",
        "\n",
        "\n"
      ]
    },
    {
      "cell_type": "code",
      "execution_count": null,
      "metadata": {
        "colab": {
          "base_uri": "https://localhost:8080/",
          "height": 373
        },
        "id": "Isz_hb7ynE1i",
        "outputId": "1bf00bcc-d026-4d59-f60c-8a56dd9eee03"
      },
      "outputs": [
        {
          "name": "stdout",
          "output_type": "stream",
          "text": [
            "0.9106945506946008\n",
            "{'clf__alpha': 0.07, 'clf__hidden_layer_sizes': (100, 100), 'pca__n_components': 0.99, 'selector__threshold': 0.0}\n"
          ]
        },
        {
          "data": {
            "text/markdown": [
              "|          |   Accuracy |   F1 Score |\n",
              "|:---------|-----------:|-----------:|\n",
              "| Pipeline |   0.912194 |   0.913875 |"
            ],
            "text/plain": [
              "<IPython.core.display.Markdown object>"
            ]
          },
          "execution_count": 11,
          "metadata": {},
          "output_type": "execute_result"
        },
        {
          "data": {
            "image/png": "[encoded data removed]",
            "text/plain": [
              "<Figure size 432x288 with 1 Axes>"
            ]
          },
          "metadata": {
            "needs_background": "light"
          },
          "output_type": "display_data"
        }
      ],
      "source": [
        "# # # fit the classifiers and print the accuracy and f1 score for each classifier and save them in a dataframe\n",
        "grid_mlp_df = pd.DataFrame(columns=['Accuracy', 'F1 Score'])\n",
        "y_pred = grid_mlp.best_estimator_.predict(X_test)\n",
        "grid_mlp_df.loc[grid_mlp.best_estimator_.__class__.__name__] = [accuracy_score(y_test, y_pred), f1_score(y_test, y_pred, average='weighted')]\n",
        "\n",
        "\n",
        "print(grid_mlp.best_score_)\n",
        "print(grid_mlp.best_params_)\n",
        "\n",
        "from IPython.display import Markdown as md\n",
        "\n",
        "\n",
        "# display the results of the classifiers in a comparison bar plot\n",
        "comparisonBarPlot = grid_mlp_df.plot.bar()\n",
        "\n",
        "# display the results of the classifiers in a markdown table\n",
        "markDownTableResults = grid_mlp_df.to_markdown()\n",
        "md(markDownTableResults)# # # # # # # # # # # "
      ]
    },
    {
      "cell_type": "code",
      "execution_count": null,
      "metadata": {
        "colab": {
          "base_uri": "https://localhost:8080/",
          "height": 356
        },
        "id": "ShfS4lIqnE1i",
        "outputId": "9535f9b4-2ca9-4f38-8321-76e28f982de2"
      },
      "outputs": [],
      "source": [
        "import optuna\n",
        "from sklearn.preprocessing import MinMaxScaler, StandardScaler\n",
        "from sklearn.decomposition import PCA\n",
        "from imblearn.under_sampling import RandomUnderSampler \n",
        "from sklearn.feature_selection import VarianceThreshold\n",
        "from imblearn.pipeline import Pipeline\n",
        "from sklearn.model_selection import cross_val_score\n",
        "import numpy as np\n",
        "from sklearn.neural_network import MLPClassifier\n",
        "\n",
        "\n",
        "# -- Define the objective function\n",
        "def objective(trial):\n",
        "\n",
        "    # -- Instantiate selector\n",
        "    selector_threshold = trial.suggest_float('selector__threshold', 0.0, 0.1)\n",
        "\n",
        "    selector = VarianceThreshold(threshold=selector_threshold)\n",
        "\n",
        "    # -- Instantiate UnderSampler\n",
        "    rus = RandomUnderSampler()\n",
        "\n",
        "    # -- Instantiate scaler\n",
        "    # (a) List scalers to chose from\n",
        "    scalers = trial.suggest_categorical(\"scalers\", ['minmax', 'standard'])\n",
        "\n",
        "    # (b) Define your scalers\n",
        "    if scalers == \"minmax\":\n",
        "        scaler = MinMaxScaler()\n",
        "    elif scalers == \"standard\":\n",
        "        scaler = StandardScaler()\n",
        "\n",
        "    # -- Instantiate dimensionality reduction\n",
        "     # (a) List all dimensionality reduction options\n",
        "    dim_red = trial.suggest_categorical(\"dim_red\", [\"PCA\", None])\n",
        "\n",
        "    # (b) Define the PCA algorithm and its hyperparameters\n",
        "    if dim_red == \"PCA\":\n",
        "        pca_n_components=trial.suggest_int(\"pca_n_components\", 50, 171)\n",
        "        dimen_red_algorithm=PCA(n_components=pca_n_components)\n",
        "    # (c) No dimensionality reduction option\n",
        "    else:\n",
        "        dimen_red_algorithm='passthrough'\n",
        "\n",
        "    # -- Instantiate estimator model\n",
        "    alpha=trial.suggest_float('clf__alpha', 0.01, 2.0)\n",
        "    solver=trial.suggest_categorical('clf__solver', ['adam', 'sgd'])\n",
        "    activation=trial.suggest_categorical('clf__activation', ['relu', 'tanh'])\n",
        "\n",
        "    estimator = MLPClassifier(alpha=alpha, solver=solver, activation=activation)\n",
        "\n",
        "    ##########\n",
        "\n",
        "\n",
        "    # -- Make a pipeline\n",
        "    pipeline = Pipeline([('selector', selector), ('scaler', scaler), ('rus', rus), ('pca', dimen_red_algorithm), ('clf', estimator)], memory = 'tmp')\n",
        "\n",
        "    # -- Evaluate the score by cross-validation\n",
        "    score = cross_val_score(pipeline, X_train, y_train, scoring='accuracy', cv=5)\n",
        "    acc = score.mean() # calculate the mean of scores\n",
        "    return acc\n",
        "\n",
        "study = optuna.create_study(direction=\"maximize\") # maximise the score during tuning\n",
        "study.optimize(objective, n_trials=20) # run the objective function 20 times\n",
        "\n",
        "print(study.best_trial) # print the best performing pipeline"
      ]
    },
    {
      "cell_type": "code",
      "execution_count": 14,
      "metadata": {
        "colab": {
          "base_uri": "https://localhost:8080/",
          "height": 356
        },
        "id": "y7RUUhkG4PKk",
        "outputId": "dd58737c-9698-464e-dd0a-76d439e4d38f"
      },
      "outputs": [
        {
          "data": {
            "text/markdown": [
              "|          |   Accuracy |   F1 Score |\n",
              "|:---------|-----------:|-----------:|\n",
              "| Pipeline |    0.92656 |   0.927677 |"
            ],
            "text/plain": [
              "<IPython.core.display.Markdown object>"
            ]
          },
          "execution_count": 14,
          "metadata": {},
          "output_type": "execute_result"
        },
        {
          "data": {
            "image/png": "[encoded data removed]",
            "text/plain": [
              "<Figure size 432x288 with 1 Axes>"
            ]
          },
          "metadata": {
            "needs_background": "light"
          },
          "output_type": "display_data"
        }
      ],
      "source": [
        "from imblearn.under_sampling import RandomUnderSampler\n",
        "from imblearn.pipeline import Pipeline\n",
        "from sklearn.feature_selection import VarianceThreshold\n",
        "from sklearn.preprocessing import MinMaxScaler\n",
        "from sklearn.preprocessing import StandardScaler\n",
        "from sklearn.neural_network import MLPClassifier\n",
        "\n",
        "\n",
        "# Initialize the transformers without hyperparameters\n",
        "selector = VarianceThreshold(threshold=0.0024547727859665306)\n",
        "scaler = StandardScaler()\n",
        "rus = RandomUnderSampler()\n",
        "\n",
        "# Initialize the pipeline\n",
        "pipe_mlp_optuna = Pipeline([('selector', selector), ('scaler', scaler), ('rus', rus),  ('clf', MLPClassifier(alpha=1.8745876376736077,solver=\"sgd\", activation=\"relu\"))], memory = 'tmp')\n",
        "\n",
        "\n",
        "# Fit the grid search\n",
        "pipe_mlp_optuna.fit(X_train, y_train)\n",
        "\n",
        "\n",
        "# # # fit the classifiers and print the accuracy and f1 score for each classifier and save them in a dataframe\n",
        "pipe_mlp_optuna_df = pd.DataFrame(columns=['Accuracy', 'F1 Score'])\n",
        "y_pred = pipe_mlp_optuna.predict(X_test)\n",
        "pipe_mlp_optuna_df.loc[pipe_mlp_optuna.__class__.__name__] = [accuracy_score(y_test, y_pred), f1_score(y_test, y_pred, average='weighted')]\n",
        "\n",
        "\n",
        "\n",
        "from IPython.display import Markdown as md\n",
        "\n",
        "\n",
        "# display the results of the classifiers in a comparison bar plot\n",
        "comparisonBarPlot = pipe_mlp_optuna_df.plot.bar()\n",
        "\n",
        "# display the results of the classifiers in a markdown table\n",
        "markDownTableResults = pipe_mlp_optuna_df.to_markdown()\n",
        "md(markDownTableResults)# # # # # # # # # # # \n",
        "\n"
      ]
    },
    {
      "cell_type": "markdown",
      "metadata": {
        "id": "jkkK2h4ewdI8"
      },
      "source": [
        "### **Conclusion for MLP:**\n",
        "\n",
        "Results |   Accuracy | \tF1 Score |\n",
        "----------- | ----------- | ----------- |\n",
        "Out of the box |\t0.913566  |\t0.903664 |\n",
        "Hyperparameter Optimization |\t0.912194 | 0.913875 |\n",
        "Optuna |\t0.924784 |  0.925889 |\n",
        "\n",
        "As we can see, we achieved minor increases in performance by using hyperparameter optimization. The Optuna hyperparameter optimization was the most effective, easier to set up and faster to run. Mainly based on the performance results, we will consider this as the best MLP estimator for our final model."
      ]
    },
    {
      "cell_type": "markdown",
      "metadata": {
        "id": "BkfrlS7T1Iph"
      },
      "source": [
        "### **SVM Classifier training**\n",
        "\n",
        "#### **Data preprocessing:** We tested a combination of data preprocessing techniques, including:\n",
        "\n",
        "- **Standardization:** We used the MinMaxScaler for standarisizing the data. We did not use the StandardScaler because it is sensitive to outliers.\n",
        "\n",
        "- **Feature selection:** We used the VarianceThreshold to remove features with low variance.\n",
        "\n",
        "- **Sampling:** We used the RandomUnderSampler to undersample the majority of the classes. We avoided using the oversampling techniques because we had a large volume of data and we wanted to avoid overfitting and large training times.\n",
        "\n",
        "- **Feature extraction:** We found that PCA does not make a differenence so we removed it.\n",
        "\n",
        "<br/>\n",
        "\n",
        "\n",
        "#### **SVC Classifier:** We used the SVC Classifier from sklearn.neural_network to train our model. We tested different combinations of parameters and we found the best combination.\n",
        "\n",
        "\n",
        "<br/>\n",
        "\n",
        "#### **Hyperparameter tuning methodology:** We used HalvingRandomSearchCV to find the best combination of parameters. In our first two tests, we used the exact same parameters without narrowing them down but we changed the scoring function from accuracy to f1_micro. We found that both scoring functions had similar results, so we used f1_micro for the rest of the tests.\n"
      ]
    },
    {
      "cell_type": "markdown",
      "metadata": {
        "id": "FHlKj9pEc77T"
      },
      "source": [
        "### **Test results and analysis SVM:**\n",
        "\n",
        "#### **Test 1 HalvingRandomSearchCV with scoring = 'accuracy'**\n",
        "\n",
        "##### **Test parameters:**\n",
        "\n",
        "Hyperparameter | Values |\n",
        "----------- | ----------- |\n",
        "clf__C | [0.1, 1, 10, 100, 1000] |\n",
        "clf__gamma | [1, 0.1, 0.01, 0.001, 0.0001] |\n",
        "clf__kernel | ['rbf', 'poly', 'sigmoid', 'linear'] |\n",
        "\n",
        "##### **Best parameters:**\n",
        "\n",
        "Hyperparameter | Values |\n",
        "----------- | ----------- |\n",
        "clf__C | 10 |\n",
        "clf__gamma | 0.01 |\n",
        "clf__kernel | linear |\n",
        "\n",
        "\n",
        "##### **Test score:**\n",
        "Scores |   Accuracy | \tF1 Score |\n",
        "----------- | ----------- | ----------- |\n",
        "Pipeline |\t0.930918 |\t0.931034 |\n",
        "\n",
        "##### **Comment:** These scores will be used to compare the accuracy and f1 micro scoring functions.\n",
        "\n",
        "<br/>\n",
        "\n",
        "#### **Test 2 HalvingRandomSearchCV with scoring = 'f1_micro'**\n",
        "\n",
        "\n",
        "Hyperparameter | Values |\n",
        "----------- | ----------- |\n",
        "clf__C | [0.1, 1, 10, 100, 1000] |\n",
        "clf__gamma | [1, 0.1, 0.01, 0.001, 0.0001] |\n",
        "clf__kernel | ['rbf', 'poly', 'sigmoid', 'linear'] |\n",
        "\n",
        "##### **Best parameters:**\n",
        "\n",
        "Hyperparameter | Values |\n",
        "----------- | ----------- |\n",
        "clf__C | 100 |\n",
        "clf__gamma | 1 |\n",
        "clf__kernel | linear |\n",
        "\n",
        "\n",
        "##### **Test score:**\n",
        "Scores |   Accuracy | \tF1 Score |\n",
        "----------- | ----------- | ----------- |\n",
        "Pipeline |\t0.930998 |\t0.931106 |\n",
        "\n",
        "##### **Comment:** Comparing the scores of test 1 and 2, we came to the conclusion that both the f1_micro and accuracy scoring functions produce similar results. We choose to use the f1_micro in our next tests. For the next test we will narrow down the values for every hyperparameter to values closer to the optimal value from this test.\n",
        "\n",
        "<br/>\n",
        "\n",
        "#### **Test 3 HalvingRandomSearchCV with scoring = 'f1_micro'**\n",
        "\n",
        "\n",
        "Hyperparameter | Values |\n",
        "----------- | ----------- |\n",
        "clf__C | [50, 100, 500] |\n",
        "clf__gamma | [1.1, 1, 0.9] |\n",
        "clf__kernel | ['rbf', 'poly', 'sigmoid', 'linear'] |\n",
        "\n",
        "##### **Best parameters:**\n",
        "\n",
        "Hyperparameter | Values |\n",
        "----------- | ----------- |\n",
        "clf__C | 50 |\n",
        "clf__gamma | 1 |\n",
        "clf__kernel | linear |\n",
        "\n",
        "\n",
        "##### **Test score:**\n",
        "Scores |   Accuracy | \tF1 Score |\n",
        "----------- | ----------- | ----------- |\n",
        "Pipeline |\t0.930756 |\t0.930947 |\n",
        "\n",
        "##### **Comment:** The linear clf kernel performs always better and that's why we we pick it as the classifier kernel. The optimal value of the C parameter seems to be around 50, so we limit the range of values around 50. We keep gamma parameter equal to 1.\n",
        "\n",
        "#### **Test 4 HalvingRandomSearchCV with scoring = 'f1_micro'**\n",
        "\n",
        "\n",
        "Hyperparameter | Values |\n",
        "----------- | ----------- |\n",
        "clf__C | [25, 50, 75] |\n",
        "clf__gamma | [1] |\n",
        "clf__kernel | ['linear'] |\n",
        "\n",
        "##### **Best parameters:**\n",
        "\n",
        "Hyperparameter | Values |\n",
        "----------- | ----------- |\n",
        "clf__C | 75 |\n",
        "clf__gamma | 1 |\n",
        "clf__kernel | linear |\n",
        "\n",
        "\n",
        "##### **Test score:**\n",
        "Scores |   Accuracy | \tF1 Score |\n",
        "----------- | ----------- | ----------- |\n",
        "Pipeline |\t0.930756 |\t0.930947 |\n",
        "\n",
        "##### **Comment:** What we see here is that parameter C should have the value of 75. We also notice that Scoring values don't change. This observation, together with previous observations, leads us to conclude that the parameter C does not affect scoring values."
      ]
    },
    {
      "cell_type": "code",
      "execution_count": 18,
      "metadata": {
        "colab": {
          "base_uri": "https://localhost:8080/"
        },
        "id": "v499vz4EdGfV",
        "outputId": "315f8188-0e54-4293-c525-5a7b268a07e9"
      },
      "outputs": [
        {
          "name": "stdout",
          "output_type": "stream",
          "text": [
            "n_iterations: 2\n",
            "n_required_iterations: 2\n",
            "n_possible_iterations: 6\n",
            "min_resources_: 80\n",
            "max_resources_: 28912\n",
            "aggressive_elimination: False\n",
            "factor: 3\n",
            "----------\n",
            "iter: 0\n",
            "n_candidates: 3\n",
            "n_resources: 80\n",
            "Fitting 10 folds for each of 3 candidates, totalling 30 fits\n",
            "----------\n",
            "iter: 1\n",
            "n_candidates: 1\n",
            "n_resources: 240\n",
            "Fitting 10 folds for each of 1 candidates, totalling 10 fits\n"
          ]
        },
        {
          "data": {
            "text/plain": [
              "HalvingRandomSearchCV(cv=10,\n",
              "                      estimator=Pipeline(memory='tmp',\n",
              "                                         steps=[('selector',\n",
              "                                                 VarianceThreshold()),\n",
              "                                                ('scaler', MinMaxScaler()),\n",
              "                                                ('rus', RandomUnderSampler()),\n",
              "                                                ('pca', PCA()),\n",
              "                                                ('clf', SVC())]),\n",
              "                      n_jobs=-1,\n",
              "                      param_distributions={'clf__C': [25, 50, 75],\n",
              "                                           'clf__gamma': [1],\n",
              "                                           'clf__kernel': ['linear']},\n",
              "                      scoring='f1_micro', verbose=1)"
            ]
          },
          "execution_count": 18,
          "metadata": {},
          "output_type": "execute_result"
        }
      ],
      "source": [
        "from imblearn.under_sampling import RandomUnderSampler\n",
        "from imblearn.pipeline import Pipeline\n",
        "from sklearn.decomposition import PCA\n",
        "from sklearn.feature_selection import VarianceThreshold\n",
        "from sklearn.preprocessing import MinMaxScaler\n",
        "from sklearn.svm import SVC\n",
        "\n",
        "from sklearn.experimental import enable_halving_search_cv\n",
        "from sklearn.model_selection import HalvingRandomSearchCV\n",
        "\n",
        "\n",
        "# Initialize the transformers without hyperparameters\n",
        "selector = VarianceThreshold()\n",
        "scaler = MinMaxScaler()\n",
        "rus = RandomUnderSampler()\n",
        "pca = PCA()\n",
        "\n",
        "# Initialize the pipeline\n",
        "pipe_svc = Pipeline([('selector', selector), ('scaler', scaler), ('rus', rus), ('pca', pca), ('clf', SVC())], memory = 'tmp')\n",
        "\n",
        "# Define the hyperparameters\n",
        "param_grid_svc = {\n",
        "              'clf__C': [25, 50, 75], \n",
        "              'clf__gamma': [1],\n",
        "              'clf__kernel': ['linear']} \n",
        "\n",
        "\n",
        "grid_svc = HalvingRandomSearchCV(pipe_svc, param_grid_svc, cv=10, n_jobs=-1, verbose=1, scoring='f1_micro')\n",
        "\n",
        "# Fit the grid search\n",
        "grid_svc.fit(X_train, y_train)"
      ]
    },
    {
      "cell_type": "code",
      "execution_count": 19,
      "metadata": {
        "colab": {
          "base_uri": "https://localhost:8080/",
          "height": 389
        },
        "id": "bHz2LXaYdTxX",
        "outputId": "cec93067-1409-4f19-c569-79d3339a026d"
      },
      "outputs": [
        {
          "name": "stdout",
          "output_type": "stream",
          "text": [
            "0.7208333333333333\n",
            "{'clf__kernel': 'linear', 'clf__gamma': 1, 'clf__C': 75}\n"
          ]
        },
        {
          "data": {
            "text/markdown": [
              "|          |   Accuracy |   F1 Score |\n",
              "|:---------|-----------:|-----------:|\n",
              "| Pipeline |   0.930756 |   0.930947 |"
            ],
            "text/plain": [
              "<IPython.core.display.Markdown object>"
            ]
          },
          "execution_count": 19,
          "metadata": {},
          "output_type": "execute_result"
        },
        {
          "data": {
            "image/png": "[encoded data removed]",
            "text/plain": [
              "<Figure size 432x288 with 1 Axes>"
            ]
          },
          "metadata": {
            "needs_background": "light"
          },
          "output_type": "display_data"
        }
      ],
      "source": [
        "# # # fit the classifiers and print the accuracy and f1 score for each classifier and save them in a dataframe\n",
        "grid_svc_df = pd.DataFrame(columns=['Accuracy', 'F1 Score'])\n",
        "y_pred = grid_svc.best_estimator_.predict(X_test)\n",
        "grid_svc_df.loc[grid_svc.best_estimator_.__class__.__name__] = [accuracy_score(y_test, y_pred), f1_score(y_test, y_pred, average='weighted')]\n",
        "\n",
        "\n",
        "print(grid_svc.best_score_)\n",
        "print(grid_svc.best_params_)\n",
        "\n",
        "from IPython.display import Markdown as md\n",
        "\n",
        "\n",
        "# display the results of the classifiers in a comparison bar plot\n",
        "comparisonBarPlot = grid_svc_df.plot.bar()\n",
        "\n",
        "# display the results of the classifiers in a markdown table\n",
        "markDownTableResults = grid_svc_df.to_markdown()\n",
        "md(markDownTableResults)# # # # # # # # # # # "
      ]
    },
    {
      "cell_type": "code",
      "execution_count": null,
      "metadata": {
        "id": "WTvhS2V5tzMd"
      },
      "outputs": [],
      "source": [
        "import optuna\n",
        "from sklearn.preprocessing import MinMaxScaler, StandardScaler\n",
        "from sklearn.decomposition import PCA\n",
        "from imblearn.under_sampling import RandomUnderSampler \n",
        "from sklearn.feature_selection import VarianceThreshold\n",
        "from imblearn.pipeline import Pipeline\n",
        "from sklearn.model_selection import cross_val_score\n",
        "import numpy as np\n",
        "from sklearn.neural_network import MLPClassifier\n",
        "from sklearn.svm import SVC\n",
        "\n",
        "\n",
        "# -- Define the objective function\n",
        "def objective(trial):\n",
        "\n",
        "    # -- Instantiate selector\n",
        "    selector_threshold = trial.suggest_float('selector__threshold', 0.0, 0.1)\n",
        "\n",
        "    selector = VarianceThreshold(threshold=selector_threshold)\n",
        "\n",
        "    # -- Instantiate UnderSampler\n",
        "    rus = RandomUnderSampler()\n",
        "\n",
        "    # -- Instantiate scaler\n",
        "    # (a) List scalers to chose from\n",
        "    scalers = trial.suggest_categorical(\"scalers\", ['minmax', 'standard'])\n",
        "\n",
        "    # (b) Define your scalers\n",
        "    if scalers == \"minmax\":\n",
        "        scaler = MinMaxScaler()\n",
        "    elif scalers == \"standard\":\n",
        "        scaler = StandardScaler()\n",
        "\n",
        "    # -- Instantiate dimensionality reduction\n",
        "     # (a) List all dimensionality reduction options\n",
        "    dim_red = trial.suggest_categorical(\"dim_red\", [\"PCA\", None])\n",
        "\n",
        "    # (b) Define the PCA algorithm and its hyperparameters\n",
        "    if dim_red == \"PCA\":\n",
        "        pca_n_components=trial.suggest_int(\"pca_n_components\", 50, 171)\n",
        "        dimen_red_algorithm=PCA(n_components=pca_n_components)\n",
        "    # (c) No dimensionality reduction option\n",
        "    else:\n",
        "        dimen_red_algorithm='passthrough'\n",
        "\n",
        "\n",
        "   # -- Instantiate estimator model\n",
        "    C=trial.suggest_float('clf__C', 0.5, 1000.0)\n",
        "    kernel=trial.suggest_categorical('clf__kernel', ['rbf', 'poly', 'sigmoid', 'linear'])\n",
        "    gamma=trial.suggest_float('clf__gamma', 0.001,1)\n",
        "\n",
        "    estimator = SVC(C=C, kernel=kernel, gamma=gamma)\n",
        "\n",
        "    ##########\n",
        "\n",
        "\n",
        "    # -- Make a pipeline\n",
        "    pipeline = Pipeline([('selector', selector), ('scaler', scaler), ('rus', rus), ('pca', dimen_red_algorithm), ('clf', estimator)], memory = 'tmp')\n",
        "\n",
        "    # -- Evaluate the score by cross-validation\n",
        "    score = cross_val_score(pipeline, X_train, y_train, scoring='accuracy', cv=5)\n",
        "    acc = score.mean() # calculate the mean of scores\n",
        "    return acc\n",
        "\n",
        "study = optuna.create_study(direction=\"maximize\") # maximise the score during tuning\n",
        "study.optimize(objective, n_trials=20) # run the objective function 20 times\n",
        "\n",
        "print(study.best_trial) # print the best performing pipeline"
      ]
    },
    {
      "cell_type": "code",
      "execution_count": null,
      "metadata": {
        "id": "bRKHip3RwdI_",
        "outputId": "734624fa-8507-4df6-872a-6cdd818766d0"
      },
      "outputs": [
        {
          "data": {
            "text/markdown": [
              "|          |   Accuracy |   F1 Score |\n",
              "|:---------|-----------:|-----------:|\n",
              "| Pipeline |   0.921717 |   0.921722 |"
            ],
            "text/plain": [
              "<IPython.core.display.Markdown object>"
            ]
          },
          "execution_count": 7,
          "metadata": {},
          "output_type": "execute_result"
        },
        {
          "data": {
            "image/png": "[encoded data removed]",
            "text/plain": [
              "<Figure size 640x480 with 1 Axes>"
            ]
          },
          "metadata": {},
          "output_type": "display_data"
        }
      ],
      "source": [
        "from imblearn.under_sampling import RandomUnderSampler\n",
        "from imblearn.pipeline import Pipeline\n",
        "from sklearn.feature_selection import VarianceThreshold\n",
        "from sklearn.preprocessing import MinMaxScaler\n",
        "from sklearn.preprocessing import StandardScaler\n",
        "from sklearn.neural_network import MLPClassifier\n",
        "from sklearn.svm import SVC\n",
        "\n",
        "\n",
        "# Initialize the transformers without hyperparameters\n",
        "selector = VarianceThreshold(threshold=0.004018792290066309)\n",
        "scaler = MinMaxScaler()\n",
        "rus = RandomUnderSampler()\n",
        "\n",
        "# Initialize the pipeline\n",
        "pipe_svc_optuna = Pipeline([('selector', selector), ('scaler', scaler), ('rus', rus),  ('clf', SVC(C=272.19639794978974,kernel=\"linear\", gamma=0.20803325037611617))], memory = 'tmp')\n",
        "\n",
        "\n",
        "# Fit the grid search\n",
        "pipe_svc_optuna.fit(X_train, y_train)\n",
        "\n",
        "\n",
        "# # # fit the classifiers and print the accuracy and f1 score for each classifier and save them in a dataframe\n",
        "pipe_svc_optuna_df = pd.DataFrame(columns=['Accuracy', 'F1 Score'])\n",
        "y_pred = pipe_svc_optuna.predict(X_test)\n",
        "pipe_svc_optuna_df.loc[pipe_svc_optuna.__class__.__name__] = [accuracy_score(y_test, y_pred), f1_score(y_test, y_pred, average='weighted')]\n",
        "\n",
        "\n",
        "\n",
        "from IPython.display import Markdown as md\n",
        "\n",
        "\n",
        "# display the results of the classifiers in a comparison bar plot\n",
        "comparisonBarPlot = pipe_svc_optuna_df.plot.bar()\n",
        "\n",
        "# display the results of the classifiers in a markdown table\n",
        "markDownTableResults = pipe_svc_optuna_df.to_markdown()\n",
        "md(markDownTableResults)# # # # # # # # # # # \n",
        "\n",
        "\n",
        "\n"
      ]
    },
    {
      "cell_type": "markdown",
      "metadata": {
        "id": "Itq3Y-uBwdJA"
      },
      "source": [
        "### **Conclusion for SVM:**\n",
        "\n",
        "Results |   Accuracy | \tF1 Score |\n",
        "----------- | ----------- | ----------- |\n",
        "Out of the box |\t0.838673 |\t0.812597 |\n",
        "Hyperparameter Optimization |\t0.930756 |\t0.930947  |\n",
        "Optuna |\t0.921717 |\t0.921722 |\n",
        "\n",
        "As we can see, we achieved considerable increases in performance by using hyperparameter optimization. The manual hyperparameter optimization was the most effective and produced the best model. That would be our selection for the best SVM estimator for our final model."
      ]
    },
    {
      "cell_type": "markdown",
      "metadata": {},
      "source": [
        "## Overall conclusion\n",
        "\n",
        "We have tested different models and hyperparameter optimization techniques. When we compare the best MLP and SVM models, we can see that the SVM model performs slightly better and is faster to train. We will choose the SVM model as our final model."
      ]
    }
  ],
  "metadata": {
    "colab": {
      "provenance": []
    },
    "kernelspec": {
      "display_name": "Python 3.9.6 64-bit",
      "language": "python",
      "name": "python3"
    },
    "language_info": {
      "codemirror_mode": {
        "name": "ipython",
        "version": 3
      },
      "file_extension": ".py",
      "mimetype": "text/x-python",
      "name": "python",
      "nbconvert_exporter": "python",
      "pygments_lexer": "ipython3",
      "version": "3.9.6"
    },
    "vscode": {
      "interpreter": {
        "hash": "acfbf7094fff1dbd66caca67cfad89cabecb153e32a3d2d19e12a6db5744107a"
      }
    }
  },
  "nbformat": 4,
  "nbformat_minor": 0
}
