{
    "cells": [
        {
            "cell_type": "markdown",
            "metadata": {
                "id": "kChJDbhknE1X"
            },
            "source": [
                "### Dataset review\n",
                "\n",
                "- **Dataset presentation:** The dataset consists of online poker games. There are multiple columns represent the features of the game and the column named result is the label of the dataset which indicates the performance of the player.\n",
                "\n",
                "- **File conversion:** We did not need to convert the data format, we used the read_csv function from pandas.\n",
                "\n",
                "- **Entry count:** The dataset consists of 102615 entries. After carefully examining the dataset, we found that there was just one player with id=fa538846 who had sufficient data to be considered. All the others had missing data essential for the analysis. Therefore, we decided to remove all the players except for the one. This resulted in a dataset with 41303 entries.\n",
                "\n",
                "- **Attribute count:** The dataset consists of 35 attributes with many different types. There are categorical, nominal, numerical and binary data types. More precisely all the columns related to card values such as cards, board_flop, board_turn etc are ordinal because they have a natural order. Other columns that describe some actions of the game such as call, raise etc are nominal and we used one hot encoding to replace them with binary features. There is one binary column called all_in and the rest of them are numerical. The label column with name result is categorical. During the analysis we understood that there are some columns that are not useful and we decided to remove them. The dropped columns are: buyin, tourn_id, table, hand_id, date, time, table_size, seat, name and combination. Additionally, we decided to remove the column with name balance because it provides information on the final result (which is what we want to predict) and we do not want to use it as a feature.\n",
                "\n",
                "- **Indexes and headers:** There are row indexes and column headers.\n",
                "\n",
                "- **Class labels:** Class labels (found in column 34) are categorical and represent if the player won, lost, gave up or took chips. \n",
                "\n",
                "- **Missing values:** There is just one column with missing values, the column named combination in which the 82% are missing values. Considering the content of the column which is the cards combination of each player we thought that the replication of missing rows does not make any sense. Apart from this, the big amount of missing values was another indication that this column should be removed from the training process.\n",
                "\n",
                "- **Class count:** As we can see from the table below, the dataset is not balanced.\n",
                "\n",
                "Class      | Number of instances | Percentages |\n",
                "----------- | ----------- | ----------- |\n",
                "won      | 4228       | 10.2% |\n",
                "lost         | 3570       | 8.6% |\n",
                "gave up   | 21359        | 51.7% |\n",
                "took chips         | 12146       | 29.5% |\n",
                "    \n",
                "\n",
                "\n",
                "      \n",
                "\n"
            ]
        },
        {
            "cell_type": "code",
            "execution_count": 3,
            "metadata": {
                "id": "UdcAWbV7nE1d"
            },
            "outputs": [],
            "source": [
                "# from google.colab import drive \n",
                "# drive.mount('/content/gdrive')\n",
                "\n",
                "import os\n",
                "import numpy as np\n",
                "import pandas as pd\n",
                "import sklearn as sk\n",
                "import matplotlib as mpl\n",
                "from sklearn.metrics import classification_report\n",
                "from sklearn.feature_selection import VarianceThreshold\n",
                "from sklearn.preprocessing import OrdinalEncoder\n",
                "\n",
                "import warnings\n",
                "warnings.filterwarnings('ignore')\n",
                "\n",
                "\n",
                "\n",
                "# dataset_path = \"/content/gdrive/MyDrive/Datasets/one_dollar_spin_and_go.csv\"\n",
                "\n",
                "# Set the working directory\n",
                "root_dir = \"Datasets\"\n",
                "\n",
                "# # Read dataset and save it in a dataframe\n",
                "df = pd.read_csv(os.path.join(root_dir, \"one_dollar_spin_and_go.csv\"),  delimiter=\",\")\n",
                "\n",
                "# df = pd.read_csv(dataset_path)\n",
                "\n",
                "\n",
                "# keep rows with name = fa538846\n",
                "df = df[df['name'] == 'fa538846']\n",
                "\n",
                "\n",
                "df.reset_index(drop=True, inplace=True)\n",
                "# drop columns\n",
                "df = df.drop(['buyin', 'tourn_id', 'table', 'hand_id', 'date', 'time','table_size' ,'seat', 'name', 'combination','balance'], axis=1)\n",
                "\n",
                "\n",
                "# From column 'cards' we create 5 new columns for each card x={1,2} ('card_value_x', 'card_suit__c', 'card_suit__d', 'card_suit__h', 'card_suit__s')\n",
                "# We will use OrdinalEncoder to transform the values of the columns 'card_value_x' into numerical values\n",
                "# We will use OneHotEncoder to transform the values of the columns 'card_suit_x' into several columns with binary values\n",
                "\n",
                "df['card_value_1'] = df['cards'].str.split(' ').str[0].str[0]\n",
                "df['card_suit_1'] = df['cards'].str.split(' ').str[0].str[1]\n",
                "df['card_value_2'] = df['cards'].str.split(' ').str[1].str[0]\n",
                "df['card_suit_2'] = df['cards'].str.split(' ').str[1].str[1]\n",
                "\n",
                "\n",
                "# define ordinal encoder with playing card values as categories\n",
                "ordinal_encoder_cards = OrdinalEncoder(categories=[['0','2', '3', '4', '5', '6', '7', '8', '9', 'T', 'J', 'Q', 'K', 'A']])\n",
                "\n",
                "# fit and transform the card_value_1 and card_value_2 columns\n",
                "df['card_value_1'] = ordinal_encoder_cards.fit_transform(df[['card_value_1']])\n",
                "df['card_value_2'] = ordinal_encoder_cards.fit_transform(df[['card_value_2']])\n",
                "\n",
                "\n",
                "# define one hot encoder for card_suit_1 and card_suit_2\n",
                "one_hot_encoder = sk.preprocessing.OneHotEncoder(sparse=False)\n",
                "\n",
                "\n",
                "# use one hot encoder to transform card_suit_1 and card_suit_2 and save the result in new columns\n",
                "oneHotEncodedDf = pd.DataFrame(one_hot_encoder.fit_transform(df[['card_suit_1', 'card_suit_2']]))\n",
                "oneHotEncodedDf.columns = one_hot_encoder.get_feature_names_out()\n",
                "\n",
                "df = pd.concat([df, oneHotEncodedDf], axis=1 )\n",
                "\n",
                "\n",
                "# do the same as above for the columns board_flop, board_turn and board_river if values is not 0\n",
                "# replace 0 with \"00 00 00\"\n",
                "df['board_flop'] = df['board_flop'].replace('0', '00 00 00')\n",
                "\n",
                "df['board_flop_1'] = df['board_flop'].str.split(' ').str[0].str[0]\n",
                "df['board_flop_suit_1'] = df['board_flop'].str.split(' ').str[0].str[1]\n",
                "df['board_flop_2'] = df['board_flop'].str.split(' ').str[1].str[0]\n",
                "df['board_flop_suit_2'] = df['board_flop'].str.split(' ').str[1].str[1]\n",
                "df['board_flop_3'] = df['board_flop'].str.split(' ').str[2].str[0]\n",
                "df['board_flop_suit_3'] = df['board_flop'].str.split(' ').str[2].str[1]\n",
                "\n",
                "df['board_flop_1'] = ordinal_encoder_cards.fit_transform(df[['board_flop_1']])\n",
                "df['board_flop_2'] = ordinal_encoder_cards.fit_transform(df[['board_flop_2']])\n",
                "df['board_flop_3'] = ordinal_encoder_cards.fit_transform(df[['board_flop_3']])\n",
                "oneHotEncodedDf = pd.DataFrame(one_hot_encoder.fit_transform(df[['board_flop_suit_1', 'board_flop_suit_2', 'board_flop_suit_3']]))\n",
                "oneHotEncodedDf.columns = one_hot_encoder.get_feature_names_out()\n",
                "df = pd.concat([df, oneHotEncodedDf], axis=1)\n",
                "\n",
                "# replace 0 with \"00\"\n",
                "df['board_turn'] = df['board_turn'].replace('0', '00')\n",
                "\n",
                "df['board_turn_value'] = df['board_turn'].str.split(' ').str[0].str[0]\n",
                "df['board_turn_suit'] = df['board_turn'].str.split(' ').str[0].str[1]\n",
                "df['board_turn_value'] = ordinal_encoder_cards.fit_transform(df[['board_turn_value']])\n",
                "oneHotEncodedDf = pd.DataFrame(one_hot_encoder.fit_transform(df[['board_turn_suit']]))\n",
                "oneHotEncodedDf.columns = one_hot_encoder.get_feature_names_out()\n",
                "df = pd.concat([df, oneHotEncodedDf], axis=1)\n",
                "\n",
                "# replace 0 with \"00\"\n",
                "df['board_river'] = df['board_river'].replace('0', '00')\n",
                "\n",
                "df['board_river_value'] = df['board_river'].str.split(' ').str[0].str[0]\n",
                "df['board_river_suit'] = df['board_river'].str.split(' ').str[0].str[1]\n",
                "df['board_river_value'] = ordinal_encoder_cards.fit_transform(df[['board_river_value']])\n",
                "oneHotEncodedDf = pd.DataFrame(one_hot_encoder.fit_transform(df[['board_river_suit']]))\n",
                "oneHotEncodedDf.columns = one_hot_encoder.get_feature_names_out()\n",
                "df = pd.concat([df, oneHotEncodedDf], axis=1)\n",
                "\n",
                "# drop the columns\n",
                "df = df.drop(['cards', 'card_suit_1', 'card_suit_2', 'board_flop', 'board_turn', 'board_river', 'board_flop_suit_1', 'board_flop_suit_2', 'board_flop_suit_3', 'board_turn_suit', 'board_river_suit'], axis=1)\n",
                "\n",
                "\n",
                "# use one hot on the columns 'position', 'action_pre', 'action_flop', 'action_turn', 'action_river'\n",
                "oneHotEncodedDf = pd.DataFrame(one_hot_encoder.fit_transform(df[['position', 'action_pre', 'action_flop', 'action_turn', 'action_river']]))\n",
                "oneHotEncodedDf.columns = one_hot_encoder.get_feature_names_out()\n",
                "df = pd.concat([df, oneHotEncodedDf], axis=1)\n",
                "df = df.drop(['position', 'action_pre', 'action_flop', 'action_turn', 'action_river'], axis=1)\n",
                "\n",
                "# use label encoder on the column 'result'\n",
                "label_encoder = sk.preprocessing.LabelEncoder()\n",
                "df['result'] = label_encoder.fit_transform(df['result'])\n",
                "\n",
                "y= df['result']\n"
            ]
        },
        {
            "cell_type": "markdown",
            "metadata": {
                "id": "vavS9F__tUmI"
            },
            "source": [
                "### Dataset split\n",
                "\n",
                "- **Splitting method:** We used the train_test_split function from sklearn.model_selection to split the dataset into training and testing sets. We used a 70/30 split, meaning that 70% of the dataset was used for training and 30% for testing. We selected this ratio because we wanted to have a good amount of data for training and at the same time we wanted to have enough data for testing.\n",
                "\n",
                "- **Cross validation:**  We used 10 fold cross validation because we undersampled the classes to make the dataset balanced. This way we weren't too concerned about a class not being present in our training set and we used 5 folds to save time. "
            ]
        },
        {
            "cell_type": "code",
            "execution_count": 4,
            "metadata": {
                "id": "AcStrfksnE1g"
            },
            "outputs": [],
            "source": [
                "from sklearn.model_selection import train_test_split\n",
                "\n",
                "# Split the data into training and test sets\n",
                "X = df.drop(['result'], axis=1)\n",
                "y= df['result']\n",
                "\n",
                "#split the df into train and test sets with 30% of the data in the test set\n",
                "X_train, X_test, y_train, y_test = train_test_split(X, y, test_size=0.3)\n"
            ]
        },
        {
            "cell_type": "markdown",
            "metadata": {
                "id": "jjDHo0jLu2zX"
            },
            "source": [
                "### Dataset metrics\n",
                "\n",
                "- **Metric selection:** We used the accuracy score and the f1_micro as the metrics for evaluating the performance of the models. As about the accuracy score it is considered the most common metric for classification problems. It is also easy to understand and interpret. The accuracy score is the ratio of the number of correct predictions to the total number of predictions. It is a good metric for our problem because we want to know how many times the model predicted the correct class. The f1_micro is the harmonic mean of the precision and recall. It is a good metric for our problem because we want to know how many times the model predicted the correct class and how many times it predicted the wrong class. The f1_micro is a good metric for our problem because we want to know how many times the model predicted the correct class and how many times it predicted the wrong class."
            ]
        },
        {
            "cell_type": "code",
            "execution_count": 5,
            "metadata": {
                "id": "HmZRP-tBnE1g"
            },
            "outputs": [],
            "source": [
                "from sklearn.metrics import accuracy_score\n",
                "from sklearn.metrics import f1_score"
            ]
        },
        {
            "cell_type": "code",
            "execution_count": 6,
            "metadata": {
                "id": "BJiKu-mWnE1g"
            },
            "outputs": [],
            "source": [
                "from sklearn.neural_network import MLPClassifier\n",
                "from sklearn.svm import SVC\n",
                "from sklearn.dummy import DummyClassifier\n",
                "\n",
                "# create a list of models\n",
                "models = []\n",
                "models.append(DummyClassifier())\n",
                "models.append(MLPClassifier())\n",
                "models.append(SVC())"
            ]
        },
        {
            "cell_type": "markdown",
            "metadata": {},
            "source": [
                "### Out of the box performance\n",
                "\n",
                "- **OOB classifiers:** As we can see from the below results the MLPClassifier has better performance metrics in comparison with the SVC classifier but both of them have very good performance metrics even without tuning the hyperparameters. This shows that the default hyperparameters may be good enough for this dataset's analysis."
            ]
        },
        {
            "cell_type": "code",
            "execution_count": null,
            "metadata": {
                "colab": {
                    "base_uri": "https://localhost:8080/",
                    "height": 427
                },
                "id": "Nbt_baAOnE1g",
                "outputId": "1dab61c2-0605-47fe-9cec-30cc2741801c"
            },
            "outputs": [
                {
                    "data": {
                        "text/markdown": [
                            "|                 |   Accuracy OOB |   F1 Score OOB |\n",
                            "|:----------------|---------------:|---------------:|\n",
                            "| DummyClassifier |       0.514809 |       0.349917 |\n",
                            "| MLPClassifier   |       0.913566 |       0.903664 |\n",
                            "| SVC             |       0.838673 |       0.812597 |"
                        ],
                        "text/plain": [
                            "<IPython.core.display.Markdown object>"
                        ]
                    },
                    "execution_count": 9,
                    "metadata": {},
                    "output_type": "execute_result"
                },
                {
                    "data": {
                        "image/png": "[encoded data removed]",
                        "text/plain": [
                            "<Figure size 432x288 with 1 Axes>"
                        ]
                    },
                    "metadata": {
                        "needs_background": "light"
                    },
                    "output_type": "display_data"
                }
            ],
            "source": [
                "# fit the classifiers and print the accuracy and f1 score for each classifier and save them in a dataframe\n",
                "out_of_the_box_df = pd.DataFrame(columns=['Accuracy OOB', 'F1 Score OOB'])\n",
                "for clf in models:\n",
                "    clf.fit(X_train, y_train)\n",
                "    y_pred = clf.predict(X_test)\n",
                "    out_of_the_box_df.loc[clf.__class__.__name__] = [accuracy_score(y_test, y_pred), f1_score(y_test, y_pred, average='weighted')]\n",
                "\n",
                "\n",
                "from IPython.display import Markdown as md\n",
                "\n",
                "\n",
                "# display the results of the classifiers in a comparison bar plot\n",
                "comparisonBarPlot = out_of_the_box_df.plot.bar()\n",
                "\n",
                "# display the results of the classifiers in a markdown table\n",
                "markDownTableResults = out_of_the_box_df.to_markdown()\n",
                "md(markDownTableResults)"
            ]
        },
        {
            "cell_type": "markdown",
            "metadata": {
                "id": "V2cCy5U6nE1h"
            },
            "source": [
                "### **MLP Classifier training**\n",
                "\n",
                "#### **Data preprocessing:** We tested a combination of data preprocessing techniques, including:\n",
                "\n",
                "- **Standardization:** We used the MinMaxScaler for standarisizing the data. We did not use the StandardScaler because it is sensitive to outliers.\n",
                "\n",
                "- **Feature selection:** We used the VarianceThreshold to remove features with low variance. We tested thresholds from 0.0 to 0.1 and we found that 0.0 is the best option.\n",
                "\n",
                "- **Sampling:** We used the RandomUnderSampler undersample the majority classes. We avoided using the oversampling techniques because we had a large volume of data and we wanted to avoid overfitting and large training times.\n",
                "\n",
                "- **Feature extraction:** We used the PCA to reduce the dimensionality of the data. We tested the number of components from 1% to 99% and we found that 99% is the best option. In the end we found out that PCA does not make a differenence so we removed it.\n",
                "\n",
                "<br/>\n",
                "\n",
                "\n",
                "#### **MLP Classifier:** We used the MLPClassifier from sklearn.neural_network to train our model. We tested different combinations of parameters and we found that the best combination is:\n",
                "\n",
                "\n",
                "<br/>\n",
                "\n",
                "#### **Hyperparameter tuning methodology:** We used the both HalvingRandomSearchCV and HalvingGridSearchCV to find the best combination of parameters. We began with the HalvingRandomSearchCV and we tested a large spectrum of choices for every hyperparameter. We then used the HalvingGridSearchCV to narrow down the choices for every hyperparameter. In the end, we used the HalvingGridSearchCV to find the best combination of parameters, based on the results we found on our previous tests. In our first two tests, we used the exact same parameters without narrowing them down but we changed the scoring function to from accuracy to f1_micro. We found that the best results occured when we used the f1_micro scoring function, so we used it for the rest of the tests.\n",
                "\n"
            ]
        },
        {
            "cell_type": "markdown",
            "metadata": {
                "id": "Cg7WOYlWnE1h"
            },
            "source": [
                "### **Test results and analysis:**\n",
                "\n",
                "#### **Test 1 HalvingRandomSearchCV with scoring = 'accuracy'**\n",
                "\n",
                "##### **Test parameters:**\n",
                "\n",
                "Hyperparameter | Values |\n",
                "----------- | ----------- |\n",
                "selector__threshold | [0.0, 0.05, 0.1] |\n",
                "pca__n_components | [0.1, 0.35, 0.75, 0.9] |\n",
                "clf__solver | ['sgd', 'adam'] |\n",
                "clf__activation | ['tanh', 'relu'] |\n",
                "clf__alpha | [0.01, 0.1, 0.5, 1, 2] |\n",
                "clf__hidden_layer_sizes | [(100, 100), (100, 100, 100), (100, 100, 100, 100)] |\n",
                "\n",
                "##### **Best parameters:**\n",
                "\n",
                "Hyperparameter | Values |\n",
                "----------- | ----------- |\n",
                "selector__threshold | 0.0 |\n",
                "pca__n_components | 0.9 |\n",
                "clf__solver | adam |\n",
                "clf__activation | tanh |\n",
                "clf__alpha | 0.1 |\n",
                "clf__hidden_layer_sizes | (100, 100)\n",
                "\n",
                "\n",
                "##### **Test score:**\n",
                "Scores |   Accuracy | \tF1 Score |\n",
                "----------- | ----------- | ----------- |\n",
                "Pipeline |\t0.907917 |\t0.909672 |\n",
                "\n",
                "##### **Comment:** These scores will be used to compare the accuracy and f1 micro scoring functions.\n",
                "\n",
                "<br/>\n",
                "\n",
                "#### **Test 2 HalvingRandomSearchCV with scoring = 'f1_micro'**\n",
                "\n",
                "##### **Test parameters:**\n",
                "\n",
                "Hyperparameter | Values |\n",
                "----------- | ----------- |\n",
                "selector__threshold | [0.0, 0.05, 0.1] |\n",
                "pca__n_components | [0.1, 0.35, 0.75, 0.9] |\n",
                "clf__solver | ['sgd', 'adam'] |\n",
                "clf__activation | ['tanh', 'relu'] |\n",
                "clf__alpha | [0.01, 0.1, 0.5, 1, 2] |\n",
                "clf__hidden_layer_sizes | [(100, 100), (100, 100, 100), (100, 100, 100, 100)] |\n",
                "\n",
                "##### **Best parameters:**\n",
                "\n",
                "Hyperparameter | Values |\n",
                "----------- | ----------- |\n",
                "selector__threshold | 0.0 |\n",
                "pca__n_components | 0.9 |\n",
                "clf__solver | adam |\n",
                "clf__activation | tanh |\n",
                "clf__alpha | 0.1 |\n",
                "clf__hidden_layer_sizes | (100, 100)\n",
                "\n",
                "\n",
                "##### **Test score:**\n",
                "Scores |   Accuracy | \tF1 Score |\n",
                "----------- | ----------- | ----------- |\n",
                "Pipeline |\t0.919538 |\t0.920614 |\n",
                "\n",
                "##### **Comment:** Comparing the scores of test 1 and 2, we came to the conclusion that the f1_micro scoring function produces better results, so we will use it in our next tests. For the next test we will narrow down the values for every hyperparameter to values closer to the optimal value from this test.\n",
                "\n",
                "<br/>\n",
                "\n",
                "#### **Test 3 HalvingRandomSearchCV with scoring = 'f1_micro'**\n",
                "\n",
                "\n",
                "##### **Test parameters:**\n",
                "\n",
                "Hyperparameter | Values |\n",
                "----------- | ----------- |\n",
                "selector__threshold | [0.0, 0.02, 0.5] |\n",
                "pca__n_components | [0.85, 0.9, 0.99] |\n",
                "clf__solver | ['sgd', 'adam'] |\n",
                "clf__activation | ['tanh', 'relu'] |\n",
                "clf__alpha | [0.05, 0.1, 0.15] |\n",
                "clf__hidden_layer_sizes | [(100, 100), (100, 100, 100), (100, 100, 100, 100)] |\n",
                "\n",
                "##### **Best parameters:**\n",
                "\n",
                "Hyperparameter | Values |\n",
                "----------- | ----------- |\n",
                "selector__threshold | 0.0 |\n",
                "pca__n_components | 0.99 |\n",
                "clf__solver | adam |\n",
                "clf__activation | tanh |\n",
                "clf__alpha | 0.05 |\n",
                "clf__hidden_layer_sizes | (100, 100)\n",
                "\n",
                "\n",
                "##### **Test score:**\n",
                "Scores |   Accuracy | \tF1 Score |\n",
                "----------- | ----------- | ----------- |\n",
                "Pipeline |\t0.910096 |\t0.911866 |\n",
                "\n",
                "##### **Comment:** As we can see, the hyperparameters clf__solver and clf__activation always work better with the values 'adam' and 'tanh'. These will be our final values for those hyperparameters and we will stop testing for them. We also see the same pattern for clf__hidden_layer_sizes, we will continue testing but only choices closer to the (100, 100) choice.\n",
                "\n",
                "<br/>\n",
                "\n",
                "#### **Test 4 GridSearchCV with scoring = 'f1_micro'**\n",
                "\n",
                "\n",
                "##### **Test parameters:**\n",
                "\n",
                "\n",
                "Hyperparameter | Values |\n",
                "----------- | ----------- |\n",
                "selector__threshold | [0.0, 0.01] |\n",
                "pca__n_components | [0.98, 0.99] |\n",
                "clf__alpha | [0.02, 0.05, 0.07] |\n",
                "clf__hidden_layer_sizes | [(100, 100), (100, 100, 100)] |\n",
                "\n",
                "##### **Best parameters:**\n",
                "\n",
                "Hyperparameter | Values |\n",
                "----------- | ----------- |\n",
                "selector__threshold | 0.0 |\n",
                "pca__n_components | 0.99 |\n",
                "clf__alpha | 0.07 |\n",
                "clf__hidden_layer_sizes | (100, 100)\n",
                "\n",
                "\n",
                "##### **Test score:**\n",
                "Scores |   Accuracy | \tF1 Score |\n",
                "----------- | ----------- | ----------- |\n",
                "Pipeline |\t0.912194 |\t0.913875 |\n",
                "\n",
                "##### **Comment:** Since the hyperparameter values were almost completely optimized, we used GridSearchCV for our last test, because training time was not a problem (few combinations needed to be tested). The final testing score was marginally better than the previous versions.\n",
                "\n",
                "<br/>\n",
                "\n",
                "\n"
            ]
        },
        {
            "cell_type": "code",
            "execution_count": null,
            "metadata": {
                "colab": {
                    "base_uri": "https://localhost:8080/"
                },
                "id": "sr0olIVsnE1h",
                "outputId": "11e00690-59d6-4077-bc16-f4522850baa7"
            },
            "outputs": [
                {
                    "name": "stdout",
                    "output_type": "stream",
                    "text": [
                        "Fitting 10 folds for each of 24 candidates, totalling 240 fits\n"
                    ]
                },
                {
                    "data": {
                        "text/plain": [
                            "GridSearchCV(cv=10,\n",
                            "             estimator=Pipeline(memory='tmp',\n",
                            "                                steps=[('selector', VarianceThreshold()),\n",
                            "                                       ('scaler', MinMaxScaler()),\n",
                            "                                       ('rus', RandomUnderSampler()),\n",
                            "                                       ('pca', PCA()),\n",
                            "                                       ('clf',\n",
                            "                                        MLPClassifier(activation='tanh'))]),\n",
                            "             n_jobs=-1,\n",
                            "             param_grid={'clf__alpha': [0.02, 0.05, 0.07],\n",
                            "                         'clf__hidden_layer_sizes': [(100, 100),\n",
                            "                                                     (100, 100, 100)],\n",
                            "                         'pca__n_components': [0.98, 0.99],\n",
                            "                         'selector__threshold': [0.0, 0.01]},\n",
                            "             scoring='f1_micro', verbose=1)"
                        ]
                    },
                    "execution_count": 10,
                    "metadata": {},
                    "output_type": "execute_result"
                }
            ],
            "source": [
                "from imblearn.over_sampling import RandomOverSampler\n",
                "from imblearn.under_sampling import RandomUnderSampler\n",
                "from imblearn.pipeline import Pipeline\n",
                "from sklearn.decomposition import PCA\n",
                "from sklearn.feature_selection import VarianceThreshold\n",
                "from sklearn.preprocessing import MinMaxScaler\n",
                "from sklearn.preprocessing import StandardScaler\n",
                "from sklearn.model_selection import GridSearchCV\n",
                "\n",
                "from sklearn.experimental import enable_halving_search_cv\n",
                "# from sklearn.model_selection import HalvingGridSearchCV\n",
                "from sklearn.model_selection import HalvingRandomSearchCV\n",
                "\n",
                "\n",
                "# Initialize the transformers without hyperparameters\n",
                "selector = VarianceThreshold()\n",
                "scaler = MinMaxScaler()\n",
                "rus = RandomUnderSampler()\n",
                "pca = PCA()\n",
                "\n",
                "# Initialize the pipeline\n",
                "pipe_mlp = Pipeline([('selector', selector), ('scaler', scaler), ('rus', rus), ('pca', pca), ('clf', MLPClassifier(solver=\"adam\", activation=\"tanh\"))], memory = 'tmp')\n",
                "\n",
                "# Define the hyperparameters\n",
                "param_grid_mlp = {\n",
                "    'selector__threshold': [0.0, 0.01],\n",
                "    'pca__n_components': [0.98, 0.99],\n",
                "    'clf__alpha': [0.02, 0.05, 0.07],\n",
                "    'clf__hidden_layer_sizes': [(100, 100), (100, 100, 100)]\n",
                "} \n",
                "\n",
                "# Initialize the HalvingRandomSearchCV search\n",
                "grid_mlp = GridSearchCV(pipe_mlp, param_grid_mlp, cv=10, n_jobs=-1, verbose=1, scoring='f1_micro')\n",
                "\n",
                "# Fit the grid search\n",
                "grid_mlp.fit(X_train, y_train)\n",
                "\n",
                "\n",
                "\n"
            ]
        },
        {
            "cell_type": "code",
            "execution_count": null,
            "metadata": {
                "colab": {
                    "base_uri": "https://localhost:8080/",
                    "height": 373
                },
                "id": "Isz_hb7ynE1i",
                "outputId": "1bf00bcc-d026-4d59-f60c-8a56dd9eee03"
            },
            "outputs": [
                {
                    "name": "stdout",
                    "output_type": "stream",
                    "text": [
                        "0.9106945506946008\n",
                        "{'clf__alpha': 0.07, 'clf__hidden_layer_sizes': (100, 100), 'pca__n_components': 0.99, 'selector__threshold': 0.0}\n"
                    ]
                },
                {
                    "data": {
                        "text/markdown": [
                            "|          |   Accuracy |   F1 Score |\n",
                            "|:---------|-----------:|-----------:|\n",
                            "| Pipeline |   0.912194 |   0.913875 |"
                        ],
                        "text/plain": [
                            "<IPython.core.display.Markdown object>"
                        ]
                    },
                    "execution_count": 11,
                    "metadata": {},
                    "output_type": "execute_result"
                },
                {
                    "data": {
                        "image/png": "[encoded data removed]",
                        "text/plain": [
                            "<Figure size 432x288 with 1 Axes>"
                        ]
                    },
                    "metadata": {
                        "needs_background": "light"
                    },
                    "output_type": "display_data"
                }
            ],
            "source": [
                "# # # fit the classifiers and print the accuracy and f1 score for each classifier and save them in a dataframe\n",
                "grid_mlp_df = pd.DataFrame(columns=['Accuracy', 'F1 Score'])\n",
                "y_pred = grid_mlp.best_estimator_.predict(X_test)\n",
                "grid_mlp_df.loc[grid_mlp.best_estimator_.__class__.__name__] = [accuracy_score(y_test, y_pred), f1_score(y_test, y_pred, average='weighted')]\n",
                "\n",
                "\n",
                "print(grid_mlp.best_score_)\n",
                "print(grid_mlp.best_params_)\n",
                "\n",
                "from IPython.display import Markdown as md\n",
                "\n",
                "\n",
                "# display the results of the classifiers in a comparison bar plot\n",
                "comparisonBarPlot = grid_mlp_df.plot.bar()\n",
                "\n",
                "# display the results of the classifiers in a markdown table\n",
                "markDownTableResults = grid_mlp_df.to_markdown()\n",
                "md(markDownTableResults)# # # # # # # # # # # "
            ]
        },
        {
            "cell_type": "code",
            "execution_count": null,
            "metadata": {
                "colab": {
                    "base_uri": "https://localhost:8080/"
                },
                "id": "ShfS4lIqnE1i",
                "outputId": "f17bda75-f0f9-428e-e656-b650e11edb11"
            },
            "outputs": [
                {
                    "name": "stderr",
                    "output_type": "stream",
                    "text": [
                        "\u001b[32m[I 2022-11-28 14:35:59,690]\u001b[0m A new study created in memory with name: no-name-7e3977a3-257d-41fb-8c0e-bd5b90834297\u001b[0m\n",
                        "\u001b[32m[I 2022-11-28 14:39:09,184]\u001b[0m Trial 0 finished with value: 0.9261206689318809 and parameters: {'selector__threshold': 0.0024547727859665306, 'scalers': 'standard', 'dim_red': None, 'clf__alpha': 1.8745876376736077, 'clf__solver': 'sgd', 'clf__activation': 'relu'}. Best is trial 0 with value: 0.9261206689318809.\u001b[0m\n",
                        "\u001b[33m[W 2022-11-28 14:40:39,940]\u001b[0m Trial 1 failed because of the following error: The value nan is not acceptable.\u001b[0m\n",
                        "\u001b[32m[I 2022-11-28 14:43:30,993]\u001b[0m Trial 2 finished with value: 0.8358813954688813 and parameters: {'selector__threshold': 0.05787734573182857, 'scalers': 'minmax', 'dim_red': None, 'clf__alpha': 1.1492184024411989, 'clf__solver': 'sgd', 'clf__activation': 'tanh'}. Best is trial 0 with value: 0.9261206689318809.\u001b[0m\n",
                        "\u001b[32m[I 2022-11-28 14:46:24,141]\u001b[0m Trial 3 finished with value: 0.8224267768461969 and parameters: {'selector__threshold': 0.06664106090925977, 'scalers': 'standard', 'dim_red': 'PCA', 'pca_n_components': 50, 'clf__alpha': 0.30935286310737786, 'clf__solver': 'sgd', 'clf__activation': 'tanh'}. Best is trial 0 with value: 0.9261206689318809.\u001b[0m\n",
                        "\u001b[33m[W 2022-11-28 14:47:44,250]\u001b[0m Trial 4 failed because of the following error: The value nan is not acceptable.\u001b[0m\n",
                        "\u001b[33m[W 2022-11-28 14:48:26,763]\u001b[0m Trial 5 failed because of the following error: The value nan is not acceptable.\u001b[0m\n",
                        "\u001b[32m[I 2022-11-28 14:51:02,199]\u001b[0m Trial 6 finished with value: 0.8642776484445248 and parameters: {'selector__threshold': 0.0005599482727584038, 'scalers': 'minmax', 'dim_red': 'PCA', 'pca_n_components': 56, 'clf__alpha': 1.6456144443459104, 'clf__solver': 'adam', 'clf__activation': 'tanh'}. Best is trial 0 with value: 0.9261206689318809.\u001b[0m\n",
                        "\u001b[33m[W 2022-11-28 14:52:30,317]\u001b[0m Trial 7 failed because of the following error: The value nan is not acceptable.\u001b[0m\n",
                        "\u001b[33m[W 2022-11-28 14:53:56,443]\u001b[0m Trial 8 failed because of the following error: The value nan is not acceptable.\u001b[0m\n",
                        "\u001b[32m[I 2022-11-28 14:57:13,721]\u001b[0m Trial 9 finished with value: 0.9004912536913112 and parameters: {'selector__threshold': 0.012793814280627692, 'scalers': 'standard', 'dim_red': None, 'clf__alpha': 0.8872455955971769, 'clf__solver': 'sgd', 'clf__activation': 'relu'}. Best is trial 0 with value: 0.9261206689318809.\u001b[0m\n",
                        "\u001b[33m[W 2022-11-28 14:58:26,783]\u001b[0m Trial 10 failed because of the following error: The value nan is not acceptable.\u001b[0m\n",
                        "\u001b[32m[I 2022-11-28 15:00:22,996]\u001b[0m Trial 11 finished with value: 0.8300371028694716 and parameters: {'selector__threshold': 0.06142054081336588, 'scalers': 'minmax', 'dim_red': None, 'clf__alpha': 0.7535103004753132, 'clf__solver': 'adam', 'clf__activation': 'tanh'}. Best is trial 0 with value: 0.9261206689318809.\u001b[0m\n",
                        "\u001b[33m[W 2022-11-28 15:01:22,078]\u001b[0m Trial 12 failed because of the following error: The value nan is not acceptable.\u001b[0m\n",
                        "\u001b[33m[W 2022-11-28 15:02:12,426]\u001b[0m Trial 13 failed because of the following error: The value nan is not acceptable.\u001b[0m\n",
                        "\u001b[32m[I 2022-11-28 15:04:27,065]\u001b[0m Trial 14 finished with value: 0.8627902917776928 and parameters: {'selector__threshold': 0.027498763274196605, 'scalers': 'standard', 'dim_red': 'PCA', 'pca_n_components': 54, 'clf__alpha': 0.1468015578262337, 'clf__solver': 'adam', 'clf__activation': 'relu'}. Best is trial 0 with value: 0.9261206689318809.\u001b[0m\n",
                        "\u001b[32m[I 2022-11-28 15:07:07,993]\u001b[0m Trial 15 finished with value: 0.9211745049077816 and parameters: {'selector__threshold': 0.003902491811909781, 'scalers': 'minmax', 'dim_red': None, 'clf__alpha': 0.48343268658476823, 'clf__solver': 'adam', 'clf__activation': 'relu'}. Best is trial 0 with value: 0.9261206689318809.\u001b[0m\n",
                        "\u001b[32m[I 2022-11-28 15:09:24,135]\u001b[0m Trial 16 finished with value: 0.8322149039160033 and parameters: {'selector__threshold': 0.0845466221492684, 'scalers': 'standard', 'dim_red': None, 'clf__alpha': 1.4956817075446085, 'clf__solver': 'sgd', 'clf__activation': 'tanh'}. Best is trial 0 with value: 0.9261206689318809.\u001b[0m\n",
                        "\u001b[32m[I 2022-11-28 15:11:41,746]\u001b[0m Trial 17 finished with value: 0.8373339646441613 and parameters: {'selector__threshold': 0.055815161345689396, 'scalers': 'minmax', 'dim_red': None, 'clf__alpha': 1.0970300752179243, 'clf__solver': 'sgd', 'clf__activation': 'tanh'}. Best is trial 0 with value: 0.9261206689318809.\u001b[0m\n",
                        "\u001b[33m[W 2022-11-28 15:12:58,403]\u001b[0m Trial 18 failed because of the following error: The value nan is not acceptable.\u001b[0m\n",
                        "\u001b[33m[W 2022-11-28 15:13:26,276]\u001b[0m Trial 19 failed because of the following error: The value nan is not acceptable.\u001b[0m\n"
                    ]
                },
                {
                    "name": "stdout",
                    "output_type": "stream",
                    "text": [
                        "FrozenTrial(number=0, values=[0.9261206689318809], datetime_start=datetime.datetime(2022, 11, 28, 14, 35, 59, 695775), datetime_complete=datetime.datetime(2022, 11, 28, 14, 39, 9, 183554), params={'selector__threshold': 0.0024547727859665306, 'scalers': 'standard', 'dim_red': None, 'clf__alpha': 1.8745876376736077, 'clf__solver': 'sgd', 'clf__activation': 'relu'}, distributions={'selector__threshold': FloatDistribution(high=0.1, log=False, low=0.0, step=None), 'scalers': CategoricalDistribution(choices=('minmax', 'standard')), 'dim_red': CategoricalDistribution(choices=('PCA', None)), 'clf__alpha': FloatDistribution(high=2.0, log=False, low=0.01, step=None), 'clf__solver': CategoricalDistribution(choices=('adam', 'sgd')), 'clf__activation': CategoricalDistribution(choices=('relu', 'tanh'))}, user_attrs={}, system_attrs={}, intermediate_values={}, trial_id=0, state=TrialState.COMPLETE, value=None)\n"
                    ]
                }
            ],
            "source": [
                "import optuna\n",
                "from sklearn.preprocessing import MinMaxScaler, StandardScaler\n",
                "from sklearn.decomposition import PCA\n",
                "from imblearn.under_sampling import RandomUnderSampler \n",
                "from sklearn.feature_selection import VarianceThreshold\n",
                "from imblearn.pipeline import Pipeline\n",
                "from sklearn.model_selection import cross_val_score\n",
                "import numpy as np\n",
                "from sklearn.neural_network import MLPClassifier\n",
                "\n",
                "\n",
                "# -- Define the objective function\n",
                "def objective(trial):\n",
                "\n",
                "    # -- Instantiate selector\n",
                "    selector_threshold = trial.suggest_float('selector__threshold', 0.0, 0.1)\n",
                "\n",
                "    selector = VarianceThreshold(threshold=selector_threshold)\n",
                "\n",
                "    # -- Instantiate UnderSampler\n",
                "    rus = RandomUnderSampler()\n",
                "\n",
                "    # -- Instantiate scaler\n",
                "    # (a) List scalers to chose from\n",
                "    scalers = trial.suggest_categorical(\"scalers\", ['minmax', 'standard'])\n",
                "\n",
                "    # (b) Define your scalers\n",
                "    if scalers == \"minmax\":\n",
                "        scaler = MinMaxScaler()\n",
                "    elif scalers == \"standard\":\n",
                "        scaler = StandardScaler()\n",
                "\n",
                "    # -- Instantiate dimensionality reduction\n",
                "     # (a) List all dimensionality reduction options\n",
                "    dim_red = trial.suggest_categorical(\"dim_red\", [\"PCA\", None])\n",
                "\n",
                "    # (b) Define the PCA algorithm and its hyperparameters\n",
                "    if dim_red == \"PCA\":\n",
                "        pca_n_components=trial.suggest_int(\"pca_n_components\", 50, 171)\n",
                "        dimen_red_algorithm=PCA(n_components=pca_n_components)\n",
                "    # (c) No dimensionality reduction option\n",
                "    else:\n",
                "        dimen_red_algorithm='passthrough'\n",
                "\n",
                "    # -- Instantiate estimator model\n",
                "    alpha=trial.suggest_float('clf__alpha', 0.01, 2.0)\n",
                "    solver=trial.suggest_categorical('clf__solver', ['adam', 'sgd'])\n",
                "    activation=trial.suggest_categorical('clf__activation', ['relu', 'tanh'])\n",
                "\n",
                "    estimator = MLPClassifier(alpha=alpha, solver=solver, activation=activation)\n",
                "\n",
                "    ##########\n",
                "\n",
                "\n",
                "    # -- Make a pipeline\n",
                "    pipeline = Pipeline([('selector', selector), ('scaler', scaler), ('rus', rus), ('pca', dimen_red_algorithm), ('clf', estimator)], memory = 'tmp')\n",
                "\n",
                "    # -- Evaluate the score by cross-validation\n",
                "    score = cross_val_score(pipeline, X_train, y_train, scoring='accuracy', cv=5)\n",
                "    acc = score.mean() # calculate the mean of scores\n",
                "    return acc\n",
                "\n",
                "study = optuna.create_study(direction=\"maximize\") # maximise the score during tuning\n",
                "study.optimize(objective, n_trials=20) # run the objective function 20 times\n",
                "\n",
                "print(study.best_trial) # print the best performing pipeline"
            ]
        },
        {
            "cell_type": "code",
            "execution_count": 10,
            "metadata": {
                "colab": {
                    "base_uri": "https://localhost:8080/",
                    "height": 339
                },
                "id": "y7RUUhkG4PKk",
                "outputId": "a7be5143-439a-4651-e4b4-35fcc1209edb"
            },
            "outputs": [
                {
                    "data": {
                        "text/markdown": [
                            "|          |   Accuracy |   F1 Score |\n",
                            "|:---------|-----------:|-----------:|\n",
                            "| Pipeline |   0.924784 |   0.925889 |"
                        ],
                        "text/plain": [
                            "<IPython.core.display.Markdown object>"
                        ]
                    },
                    "execution_count": 10,
                    "metadata": {},
                    "output_type": "execute_result"
                },
                {
                    "data": {
                        "image/png": "[encoded data removed]",
                        "text/plain": [
                            "<Figure size 432x288 with 1 Axes>"
                        ]
                    },
                    "metadata": {
                        "needs_background": "light"
                    },
                    "output_type": "display_data"
                }
            ],
            "source": [
                "#  params={'selector__threshold': 0.0024547727859665306, 'scalers': 'standard', 'dim_red': None, 'clf__alpha': 1.8745876376736077, 'clf__solver': 'sgd', 'clf__activation': 'relu'}\n",
                "\n",
                "from imblearn.under_sampling import RandomUnderSampler\n",
                "from imblearn.pipeline import Pipeline\n",
                "from sklearn.feature_selection import VarianceThreshold\n",
                "from sklearn.preprocessing import MinMaxScaler\n",
                "from sklearn.preprocessing import StandardScaler\n",
                "from sklearn.neural_network import MLPClassifier\n",
                "\n",
                "\n",
                "# Initialize the transformers without hyperparameters\n",
                "selector = VarianceThreshold(threshold=0.0024547727859665306)\n",
                "scaler = StandardScaler()\n",
                "rus = RandomUnderSampler()\n",
                "\n",
                "# Initialize the pipeline\n",
                "pipe_mlp_optuna = Pipeline([('selector', selector), ('scaler', scaler), ('rus', rus),  ('clf', MLPClassifier(alpha=1.8745876376736077,solver=\"sgd\", activation=\"relu\"))], memory = 'tmp')\n",
                "\n",
                "\n",
                "# Fit the grid search\n",
                "pipe_mlp_optuna.fit(X_train, y_train)\n",
                "\n",
                "\n",
                "# # # fit the classifiers and print the accuracy and f1 score for each classifier and save them in a dataframe\n",
                "pipe_mlp_optuna_df = pd.DataFrame(columns=['Accuracy', 'F1 Score'])\n",
                "y_pred = pipe_mlp_optuna.predict(X_test)\n",
                "pipe_mlp_optuna_df.loc[pipe_mlp_optuna.__class__.__name__] = [accuracy_score(y_test, y_pred), f1_score(y_test, y_pred, average='weighted')]\n",
                "\n",
                "\n",
                "\n",
                "from IPython.display import Markdown as md\n",
                "\n",
                "\n",
                "# display the results of the classifiers in a comparison bar plot\n",
                "comparisonBarPlot = pipe_mlp_optuna_df.plot.bar()\n",
                "\n",
                "# display the results of the classifiers in a markdown table\n",
                "markDownTableResults = pipe_mlp_optuna_df.to_markdown()\n",
                "md(markDownTableResults)# # # # # # # # # # # \n",
                "\n"
            ]
        },
        {
            "cell_type": "markdown",
            "metadata": {},
            "source": [
                "### **Conclusion for MLP:**\n",
                "\n",
                "Results |   Accuracy | \tF1 Score |\n",
                "----------- | ----------- | ----------- |\n",
                "Out of the box |\t0.913566  |\t0.903664 |\n",
                "Hyperparameter Optimization |\t0.912194 | 0.913875 |\n",
                "Optuna |\t0.924784 |  0.925889 |\n",
                "\n",
                "As we can see, we achieved minor increases in performance by using hyperparameter optimization. The Optuna hyperparameter optimization was the most effective, easier to set up and faster to run. Mainly based on the performance results, we will consider this as the best MLP estimator for our final model."
            ]
        },
        {
            "cell_type": "markdown",
            "metadata": {
                "id": "FHlKj9pEc77T"
            },
            "source": [
                "### **Test results and analysis SVC:**\n",
                "\n",
                "#### **Test 1 HalvingRandomSearchCV with scoring = 'accuracy'**\n",
                "\n",
                "##### **Test parameters:**\n",
                "\n",
                "Hyperparameter | Values |\n",
                "----------- | ----------- |\n",
                "clf__C | [0.1, 1, 10, 100, 1000] |\n",
                "clf__gamma | [1, 0.1, 0.01, 0.001, 0.0001] |\n",
                "clf__kernel | ['rbf', 'poly', 'sigmoid', 'linear'] |\n",
                "\n",
                "##### **Best parameters:**\n",
                "\n",
                "Hyperparameter | Values |\n",
                "----------- | ----------- |\n",
                "clf__C | 10 |\n",
                "clf__gamma | 0.01 |\n",
                "clf__kernel | linear |\n",
                "\n",
                "\n",
                "##### **Test score:**\n",
                "Scores |   Accuracy | \tF1 Score |\n",
                "----------- | ----------- | ----------- |\n",
                "Pipeline |\t0.930918 |\t0.931034 |\n",
                "\n",
                "##### **Comment:** These scores will be used to compare the accuracy and f1 micro scoring functions.\n",
                "\n",
                "<br/>\n",
                "\n",
                "#### **Test 2 HalvingRandomSearchCV with scoring = 'f1_micro'**\n",
                "\n",
                "\n",
                "Hyperparameter | Values |\n",
                "----------- | ----------- |\n",
                "clf__C | [0.1, 1, 10, 100, 1000] |\n",
                "clf__gamma | [1, 0.1, 0.01, 0.001, 0.0001] |\n",
                "clf__kernel | ['rbf', 'poly', 'sigmoid', 'linear'] |\n",
                "\n",
                "##### **Best parameters:**\n",
                "\n",
                "Hyperparameter | Values |\n",
                "----------- | ----------- |\n",
                "clf__C | 100 |\n",
                "clf__gamma | 1 |\n",
                "clf__kernel | linear |\n",
                "\n",
                "\n",
                "##### **Test score:**\n",
                "Scores |   Accuracy | \tF1 Score |\n",
                "----------- | ----------- | ----------- |\n",
                "Pipeline |\t0.930998 |\t0.931106 |\n",
                "\n",
                "##### **Comment:** Comparing the scores of test 1 and 2, we came to the conclusion that both the f1_micro and accuracy scoring functions produce similar results. We choose to use the f1_micro in our next tests. For the next test we will narrow down the values for every hyperparameter to values closer to the optimal value from this test.\n",
                "\n",
                "<br/>\n",
                "\n",
                "#### **Test 3 HalvingRandomSearchCV with scoring = 'f1_micro'**\n",
                "\n",
                "\n",
                "Hyperparameter | Values |\n",
                "----------- | ----------- |\n",
                "clf__C | [90, 100, 500] |\n",
                "clf__gamma | [1.1, 1, 0.9] |\n",
                "clf__kernel | ['rbf', 'poly', 'sigmoid', 'linear'] |\n",
                "\n",
                "##### **Best parameters:**\n",
                "\n",
                "Hyperparameter | Values |\n",
                "----------- | ----------- |\n",
                "clf__C | 110 |\n",
                "clf__gamma | 1 |\n",
                "clf__kernel | linear |\n",
                "\n",
                "\n",
                "##### **Test score:**\n",
                "Scores |   Accuracy | \tF1 Score |\n",
                "----------- | ----------- | ----------- |\n",
                "Pipeline |\t0.937212 |\t0.937323 |\n",
                "\n",
                "##### **Comment:** The linear clf kernel performs always better and that's why we we pick it as the classifier kernel.\n",
                "\n",
                "#### **Test 4 HalvingRandomSearchCV with scoring = 'f1_micro'**\n",
                "\n",
                "\n",
                "Hyperparameter | Values |\n",
                "----------- | ----------- |\n",
                "clf__C | [90, 100, 110] |\n",
                "clf__gamma | [0.8, 0.9, 1] |\n",
                "clf__kernel | ['rbf', 'poly', 'sigmoid', 'linear'] |\n",
                "\n",
                "##### **Best parameters:**\n",
                "\n",
                "Hyperparameter | Values |\n",
                "----------- | ----------- |\n",
                "clf__C | 110 |\n",
                "clf__gamma | 1 |\n",
                "clf__kernel | linear |\n",
                "\n",
                "\n",
                "##### **Test score:**\n",
                "Scores |   Accuracy | \tF1 Score |\n",
                "----------- | ----------- | ----------- |\n",
                "Pipeline |\t0.937212 |\t0.937323 |\n",
                "\n",
                "##### **Comment:** The linear clf kernel performs always better and that's why we we pick it as the classifier kernel."
            ]
        },
        {
            "cell_type": "code",
            "execution_count": 8,
            "metadata": {
                "id": "v499vz4EdGfV"
            },
            "outputs": [
                {
                    "name": "stdout",
                    "output_type": "stream",
                    "text": [
                        "n_iterations: 3\n",
                        "n_required_iterations: 3\n",
                        "n_possible_iterations: 6\n",
                        "min_resources_: 80\n",
                        "max_resources_: 28912\n",
                        "aggressive_elimination: False\n",
                        "factor: 3\n",
                        "----------\n",
                        "iter: 0\n",
                        "n_candidates: 12\n",
                        "n_resources: 80\n",
                        "Fitting 10 folds for each of 12 candidates, totalling 120 fits\n",
                        "----------\n",
                        "iter: 1\n",
                        "n_candidates: 4\n",
                        "n_resources: 240\n",
                        "Fitting 10 folds for each of 4 candidates, totalling 40 fits\n",
                        "----------\n",
                        "iter: 2\n",
                        "n_candidates: 2\n",
                        "n_resources: 720\n",
                        "Fitting 10 folds for each of 2 candidates, totalling 20 fits\n"
                    ]
                },
                {
                    "data": {
                        "text/html": [
                            "<style>#sk-container-id-1 {color: black;background-color: white;}#sk-container-id-1 pre{padding: 0;}#sk-container-id-1 div.sk-toggleable {background-color: white;}#sk-container-id-1 label.sk-toggleable__label {cursor: pointer;display: block;width: 100%;margin-bottom: 0;padding: 0.3em;box-sizing: border-box;text-align: center;}#sk-container-id-1 label.sk-toggleable__label-arrow:before {content: \"▸\";float: left;margin-right: 0.25em;color: #696969;}#sk-container-id-1 label.sk-toggleable__label-arrow:hover:before {color: black;}#sk-container-id-1 div.sk-estimator:hover label.sk-toggleable__label-arrow:before {color: black;}#sk-container-id-1 div.sk-toggleable__content {max-height: 0;max-width: 0;overflow: hidden;text-align: left;background-color: #f0f8ff;}#sk-container-id-1 div.sk-toggleable__content pre {margin: 0.2em;color: black;border-radius: 0.25em;background-color: #f0f8ff;}#sk-container-id-1 input.sk-toggleable__control:checked~div.sk-toggleable__content {max-height: 200px;max-width: 100%;overflow: auto;}#sk-container-id-1 input.sk-toggleable__control:checked~label.sk-toggleable__label-arrow:before {content: \"▾\";}#sk-container-id-1 div.sk-estimator input.sk-toggleable__control:checked~label.sk-toggleable__label {background-color: #d4ebff;}#sk-container-id-1 div.sk-label input.sk-toggleable__control:checked~label.sk-toggleable__label {background-color: #d4ebff;}#sk-container-id-1 input.sk-hidden--visually {border: 0;clip: rect(1px 1px 1px 1px);clip: rect(1px, 1px, 1px, 1px);height: 1px;margin: -1px;overflow: hidden;padding: 0;position: absolute;width: 1px;}#sk-container-id-1 div.sk-estimator {font-family: monospace;background-color: #f0f8ff;border: 1px dotted black;border-radius: 0.25em;box-sizing: border-box;margin-bottom: 0.5em;}#sk-container-id-1 div.sk-estimator:hover {background-color: #d4ebff;}#sk-container-id-1 div.sk-parallel-item::after {content: \"\";width: 100%;border-bottom: 1px solid gray;flex-grow: 1;}#sk-container-id-1 div.sk-label:hover label.sk-toggleable__label {background-color: #d4ebff;}#sk-container-id-1 div.sk-serial::before {content: \"\";position: absolute;border-left: 1px solid gray;box-sizing: border-box;top: 0;bottom: 0;left: 50%;z-index: 0;}#sk-container-id-1 div.sk-serial {display: flex;flex-direction: column;align-items: center;background-color: white;padding-right: 0.2em;padding-left: 0.2em;position: relative;}#sk-container-id-1 div.sk-item {position: relative;z-index: 1;}#sk-container-id-1 div.sk-parallel {display: flex;align-items: stretch;justify-content: center;background-color: white;position: relative;}#sk-container-id-1 div.sk-item::before, #sk-container-id-1 div.sk-parallel-item::before {content: \"\";position: absolute;border-left: 1px solid gray;box-sizing: border-box;top: 0;bottom: 0;left: 50%;z-index: -1;}#sk-container-id-1 div.sk-parallel-item {display: flex;flex-direction: column;z-index: 1;position: relative;background-color: white;}#sk-container-id-1 div.sk-parallel-item:first-child::after {align-self: flex-end;width: 50%;}#sk-container-id-1 div.sk-parallel-item:last-child::after {align-self: flex-start;width: 50%;}#sk-container-id-1 div.sk-parallel-item:only-child::after {width: 0;}#sk-container-id-1 div.sk-dashed-wrapped {border: 1px dashed gray;margin: 0 0.4em 0.5em 0.4em;box-sizing: border-box;padding-bottom: 0.4em;background-color: white;}#sk-container-id-1 div.sk-label label {font-family: monospace;font-weight: bold;display: inline-block;line-height: 1.2em;}#sk-container-id-1 div.sk-label-container {text-align: center;}#sk-container-id-1 div.sk-container {/* jupyter's `normalize.less` sets `[hidden] { display: none; }` but bootstrap.min.css set `[hidden] { display: none !important; }` so we also need the `!important` here to be able to override the default hidden behavior on the sphinx rendered scikit-learn.org. See: https://github.com/scikit-learn/scikit-learn/issues/21755 */display: inline-block !important;position: relative;}#sk-container-id-1 div.sk-text-repr-fallback {display: none;}</style><div id=\"sk-container-id-1\" class=\"sk-top-container\"><div class=\"sk-text-repr-fallback\"><pre>HalvingRandomSearchCV(cv=10,\n",
                            "                      estimator=Pipeline(memory=&#x27;tmp&#x27;,\n",
                            "                                         steps=[(&#x27;selector&#x27;,\n",
                            "                                                 VarianceThreshold()),\n",
                            "                                                (&#x27;scaler&#x27;, MinMaxScaler()),\n",
                            "                                                (&#x27;rus&#x27;, RandomUnderSampler()),\n",
                            "                                                (&#x27;pca&#x27;, PCA()),\n",
                            "                                                (&#x27;clf&#x27;, SVC())]),\n",
                            "                      n_jobs=-1,\n",
                            "                      param_distributions={&#x27;clf__C&#x27;: [500],\n",
                            "                                           &#x27;clf__gamma&#x27;: [1.1, 1, 0.9],\n",
                            "                                           &#x27;clf__kernel&#x27;: [&#x27;rbf&#x27;, &#x27;poly&#x27;,\n",
                            "                                                           &#x27;sigmoid&#x27;,\n",
                            "                                                           &#x27;linear&#x27;]},\n",
                            "                      scoring=&#x27;f1_micro&#x27;, verbose=1)</pre><b>In a Jupyter environment, please rerun this cell to show the HTML representation or trust the notebook. <br />On GitHub, the HTML representation is unable to render, please try loading this page with nbviewer.org.</b></div><div class=\"sk-container\" hidden><div class=\"sk-item sk-dashed-wrapped\"><div class=\"sk-label-container\"><div class=\"sk-label sk-toggleable\"><input class=\"sk-toggleable__control sk-hidden--visually\" id=\"sk-estimator-id-1\" type=\"checkbox\" ><label for=\"sk-estimator-id-1\" class=\"sk-toggleable__label sk-toggleable__label-arrow\">HalvingRandomSearchCV</label><div class=\"sk-toggleable__content\"><pre>HalvingRandomSearchCV(cv=10,\n",
                            "                      estimator=Pipeline(memory=&#x27;tmp&#x27;,\n",
                            "                                         steps=[(&#x27;selector&#x27;,\n",
                            "                                                 VarianceThreshold()),\n",
                            "                                                (&#x27;scaler&#x27;, MinMaxScaler()),\n",
                            "                                                (&#x27;rus&#x27;, RandomUnderSampler()),\n",
                            "                                                (&#x27;pca&#x27;, PCA()),\n",
                            "                                                (&#x27;clf&#x27;, SVC())]),\n",
                            "                      n_jobs=-1,\n",
                            "                      param_distributions={&#x27;clf__C&#x27;: [500],\n",
                            "                                           &#x27;clf__gamma&#x27;: [1.1, 1, 0.9],\n",
                            "                                           &#x27;clf__kernel&#x27;: [&#x27;rbf&#x27;, &#x27;poly&#x27;,\n",
                            "                                                           &#x27;sigmoid&#x27;,\n",
                            "                                                           &#x27;linear&#x27;]},\n",
                            "                      scoring=&#x27;f1_micro&#x27;, verbose=1)</pre></div></div></div><div class=\"sk-parallel\"><div class=\"sk-parallel-item\"><div class=\"sk-item\"><div class=\"sk-label-container\"><div class=\"sk-label sk-toggleable\"><input class=\"sk-toggleable__control sk-hidden--visually\" id=\"sk-estimator-id-2\" type=\"checkbox\" ><label for=\"sk-estimator-id-2\" class=\"sk-toggleable__label sk-toggleable__label-arrow\">estimator: Pipeline</label><div class=\"sk-toggleable__content\"><pre>Pipeline(memory=&#x27;tmp&#x27;,\n",
                            "         steps=[(&#x27;selector&#x27;, VarianceThreshold()), (&#x27;scaler&#x27;, MinMaxScaler()),\n",
                            "                (&#x27;rus&#x27;, RandomUnderSampler()), (&#x27;pca&#x27;, PCA()), (&#x27;clf&#x27;, SVC())])</pre></div></div></div><div class=\"sk-serial\"><div class=\"sk-item\"><div class=\"sk-serial\"><div class=\"sk-item\"><div class=\"sk-estimator sk-toggleable\"><input class=\"sk-toggleable__control sk-hidden--visually\" id=\"sk-estimator-id-3\" type=\"checkbox\" ><label for=\"sk-estimator-id-3\" class=\"sk-toggleable__label sk-toggleable__label-arrow\">VarianceThreshold</label><div class=\"sk-toggleable__content\"><pre>VarianceThreshold()</pre></div></div></div><div class=\"sk-item\"><div class=\"sk-estimator sk-toggleable\"><input class=\"sk-toggleable__control sk-hidden--visually\" id=\"sk-estimator-id-4\" type=\"checkbox\" ><label for=\"sk-estimator-id-4\" class=\"sk-toggleable__label sk-toggleable__label-arrow\">MinMaxScaler</label><div class=\"sk-toggleable__content\"><pre>MinMaxScaler()</pre></div></div></div><div class=\"sk-item\"><div class=\"sk-estimator sk-toggleable\"><input class=\"sk-toggleable__control sk-hidden--visually\" id=\"sk-estimator-id-5\" type=\"checkbox\" ><label for=\"sk-estimator-id-5\" class=\"sk-toggleable__label sk-toggleable__label-arrow\">RandomUnderSampler</label><div class=\"sk-toggleable__content\"><pre>RandomUnderSampler()</pre></div></div></div><div class=\"sk-item\"><div class=\"sk-estimator sk-toggleable\"><input class=\"sk-toggleable__control sk-hidden--visually\" id=\"sk-estimator-id-6\" type=\"checkbox\" ><label for=\"sk-estimator-id-6\" class=\"sk-toggleable__label sk-toggleable__label-arrow\">PCA</label><div class=\"sk-toggleable__content\"><pre>PCA()</pre></div></div></div><div class=\"sk-item\"><div class=\"sk-estimator sk-toggleable\"><input class=\"sk-toggleable__control sk-hidden--visually\" id=\"sk-estimator-id-7\" type=\"checkbox\" ><label for=\"sk-estimator-id-7\" class=\"sk-toggleable__label sk-toggleable__label-arrow\">SVC</label><div class=\"sk-toggleable__content\"><pre>SVC()</pre></div></div></div></div></div></div></div></div></div></div></div></div>"
                        ],
                        "text/plain": [
                            "HalvingRandomSearchCV(cv=10,\n",
                            "                      estimator=Pipeline(memory='tmp',\n",
                            "                                         steps=[('selector',\n",
                            "                                                 VarianceThreshold()),\n",
                            "                                                ('scaler', MinMaxScaler()),\n",
                            "                                                ('rus', RandomUnderSampler()),\n",
                            "                                                ('pca', PCA()),\n",
                            "                                                ('clf', SVC())]),\n",
                            "                      n_jobs=-1,\n",
                            "                      param_distributions={'clf__C': [500],\n",
                            "                                           'clf__gamma': [1.1, 1, 0.9],\n",
                            "                                           'clf__kernel': ['rbf', 'poly',\n",
                            "                                                           'sigmoid',\n",
                            "                                                           'linear']},\n",
                            "                      scoring='f1_micro', verbose=1)"
                        ]
                    },
                    "execution_count": 8,
                    "metadata": {},
                    "output_type": "execute_result"
                }
            ],
            "source": [
                "from imblearn.under_sampling import RandomUnderSampler\n",
                "from imblearn.pipeline import Pipeline\n",
                "from sklearn.decomposition import PCA\n",
                "from sklearn.feature_selection import VarianceThreshold\n",
                "from sklearn.preprocessing import MinMaxScaler\n",
                "from sklearn.svm import SVC\n",
                "\n",
                "from sklearn.experimental import enable_halving_search_cv\n",
                "from sklearn.model_selection import HalvingRandomSearchCV\n",
                "\n",
                "\n",
                "# Initialize the transformers without hyperparameters\n",
                "selector = VarianceThreshold()\n",
                "scaler = MinMaxScaler()\n",
                "rus = RandomUnderSampler()\n",
                "pca = PCA()\n",
                "\n",
                "# Initialize the pipeline\n",
                "pipe_svc = Pipeline([('selector', selector), ('scaler', scaler), ('rus', rus), ('pca', pca), ('clf', SVC())], memory = 'tmp')\n",
                "\n",
                "# Define the hyperparameters\n",
                "param_grid_svc = {\n",
                "              'clf__C': [500], \n",
                "              'clf__gamma': [1.1, 1, 0.9],\n",
                "              'clf__kernel': ['rbf', 'poly', 'sigmoid', 'linear']} \n",
                "\n",
                "\n",
                "grid_svc = HalvingRandomSearchCV(pipe_svc, param_grid_svc, cv=10, n_jobs=-1, verbose=1, scoring='f1_micro')\n",
                "\n",
                "# Fit the grid search\n",
                "grid_svc.fit(X_train, y_train)"
            ]
        },
        {
            "cell_type": "code",
            "execution_count": 9,
            "metadata": {
                "id": "bHz2LXaYdTxX"
            },
            "outputs": [
                {
                    "name": "stdout",
                    "output_type": "stream",
                    "text": [
                        "0.8467918622848201\n",
                        "{'clf__kernel': 'linear', 'clf__gamma': 0.9, 'clf__C': 500}\n"
                    ]
                },
                {
                    "data": {
                        "text/markdown": [
                            "|          |   Accuracy |   F1 Score |\n",
                            "|:---------|-----------:|-----------:|\n",
                            "| Pipeline |    0.93229 |   0.932246 |"
                        ],
                        "text/plain": [
                            "<IPython.core.display.Markdown object>"
                        ]
                    },
                    "execution_count": 9,
                    "metadata": {},
                    "output_type": "execute_result"
                },
                {
                    "data": {
                        "image/png": "[encoded data removed]",
                        "text/plain": [
                            "<Figure size 640x480 with 1 Axes>"
                        ]
                    },
                    "metadata": {},
                    "output_type": "display_data"
                }
            ],
            "source": [
                "# # # fit the classifiers and print the accuracy and f1 score for each classifier and save them in a dataframe\n",
                "grid_svc_df = pd.DataFrame(columns=['Accuracy', 'F1 Score'])\n",
                "y_pred = grid_svc.best_estimator_.predict(X_test)\n",
                "grid_svc_df.loc[grid_svc.best_estimator_.__class__.__name__] = [accuracy_score(y_test, y_pred), f1_score(y_test, y_pred, average='weighted')]\n",
                "\n",
                "\n",
                "print(grid_svc.best_score_)\n",
                "print(grid_svc.best_params_)\n",
                "\n",
                "from IPython.display import Markdown as md\n",
                "\n",
                "\n",
                "# display the results of the classifiers in a comparison bar plot\n",
                "comparisonBarPlot = grid_svc_df.plot.bar()\n",
                "\n",
                "# display the results of the classifiers in a markdown table\n",
                "markDownTableResults = grid_svc_df.to_markdown()\n",
                "md(markDownTableResults)# # # # # # # # # # # "
            ]
        },
        {
            "cell_type": "code",
            "execution_count": null,
            "metadata": {
                "colab": {
                    "base_uri": "https://localhost:8080/"
                },
                "id": "WTvhS2V5tzMd",
                "outputId": "2354e6bb-c9dc-4748-911b-2607cc209cc2"
            },
            "outputs": [],
            "source": [
                "import optuna\n",
                "from sklearn.preprocessing import MinMaxScaler, StandardScaler\n",
                "from sklearn.decomposition import PCA\n",
                "from imblearn.under_sampling import RandomUnderSampler \n",
                "from sklearn.feature_selection import VarianceThreshold\n",
                "from imblearn.pipeline import Pipeline\n",
                "from sklearn.model_selection import cross_val_score\n",
                "import numpy as np\n",
                "from sklearn.neural_network import MLPClassifier\n",
                "from sklearn.svm import SVC\n",
                "\n",
                "\n",
                "# -- Define the objective function\n",
                "def objective(trial):\n",
                "\n",
                "    # -- Instantiate selector\n",
                "    selector_threshold = trial.suggest_float('selector__threshold', 0.0, 0.1)\n",
                "\n",
                "    selector = VarianceThreshold(threshold=selector_threshold)\n",
                "\n",
                "    # -- Instantiate UnderSampler\n",
                "    rus = RandomUnderSampler()\n",
                "\n",
                "    # -- Instantiate scaler\n",
                "    # (a) List scalers to chose from\n",
                "    scalers = trial.suggest_categorical(\"scalers\", ['minmax', 'standard'])\n",
                "\n",
                "    # (b) Define your scalers\n",
                "    if scalers == \"minmax\":\n",
                "        scaler = MinMaxScaler()\n",
                "    elif scalers == \"standard\":\n",
                "        scaler = StandardScaler()\n",
                "\n",
                "    # -- Instantiate dimensionality reduction\n",
                "     # (a) List all dimensionality reduction options\n",
                "    dim_red = trial.suggest_categorical(\"dim_red\", [\"PCA\", None])\n",
                "\n",
                "    # (b) Define the PCA algorithm and its hyperparameters\n",
                "    if dim_red == \"PCA\":\n",
                "        pca_n_components=trial.suggest_int(\"pca_n_components\", 50, 171)\n",
                "        dimen_red_algorithm=PCA(n_components=pca_n_components)\n",
                "    # (c) No dimensionality reduction option\n",
                "    else:\n",
                "        dimen_red_algorithm='passthrough'\n",
                "\n",
                "\n",
                "   # -- Instantiate estimator model\n",
                "    C=trial.suggest_float('clf__C', 0.5, 1000.0)\n",
                "    kernel=trial.suggest_categorical('clf__kernel', ['rbf', 'poly', 'sigmoid', 'linear'])\n",
                "    gamma=trial.suggest_float('clf__gamma', 0.001,1)\n",
                "\n",
                "    estimator = SVC(C=C, kernel=kernel, gamma=gamma)\n",
                "\n",
                "    ##########\n",
                "\n",
                "\n",
                "    # -- Make a pipeline\n",
                "    pipeline = Pipeline([('selector', selector), ('scaler', scaler), ('rus', rus), ('pca', dimen_red_algorithm), ('clf', estimator)], memory = 'tmp')\n",
                "\n",
                "    # -- Evaluate the score by cross-validation\n",
                "    score = cross_val_score(pipeline, X_train, y_train, scoring='accuracy', cv=5)\n",
                "    acc = score.mean() # calculate the mean of scores\n",
                "    return acc\n",
                "\n",
                "study = optuna.create_study(direction=\"maximize\") # maximise the score during tuning\n",
                "study.optimize(objective, n_trials=20) # run the objective function 20 times\n",
                "\n",
                "print(study.best_trial) # print the best performing pipeline"
            ]
        },
        {
            "cell_type": "code",
            "execution_count": 7,
            "metadata": {},
            "outputs": [
                {
                    "data": {
                        "text/markdown": [
                            "|          |   Accuracy |   F1 Score |\n",
                            "|:---------|-----------:|-----------:|\n",
                            "| Pipeline |   0.921717 |   0.921722 |"
                        ],
                        "text/plain": [
                            "<IPython.core.display.Markdown object>"
                        ]
                    },
                    "execution_count": 7,
                    "metadata": {},
                    "output_type": "execute_result"
                },
                {
                    "data": {
                        "image/png": "[encoded data removed]",
                        "text/plain": [
                            "<Figure size 640x480 with 1 Axes>"
                        ]
                    },
                    "metadata": {},
                    "output_type": "display_data"
                }
            ],
            "source": [
                "# parameters: {'selector__threshold': 0.004018792290066309, 'scalers': 'minmax', 'dim_red': None, 'clf__C': 272.19639794978974, 'clf__kernel': 'linear', 'clf__gamma': 0.20803325037611617}.\n",
                "\n",
                "\n",
                "from imblearn.under_sampling import RandomUnderSampler\n",
                "from imblearn.pipeline import Pipeline\n",
                "from sklearn.feature_selection import VarianceThreshold\n",
                "from sklearn.preprocessing import MinMaxScaler\n",
                "from sklearn.preprocessing import StandardScaler\n",
                "from sklearn.neural_network import MLPClassifier\n",
                "from sklearn.svm import SVC\n",
                "\n",
                "\n",
                "# Initialize the transformers without hyperparameters\n",
                "selector = VarianceThreshold(threshold=0.004018792290066309)\n",
                "scaler = MinMaxScaler()\n",
                "rus = RandomUnderSampler()\n",
                "\n",
                "# Initialize the pipeline\n",
                "pipe_svc_optuna = Pipeline([('selector', selector), ('scaler', scaler), ('rus', rus),  ('clf', SVC(C=272.19639794978974,kernel=\"linear\", gamma=0.20803325037611617))], memory = 'tmp')\n",
                "\n",
                "\n",
                "# Fit the grid search\n",
                "pipe_svc_optuna.fit(X_train, y_train)\n",
                "\n",
                "\n",
                "# # # fit the classifiers and print the accuracy and f1 score for each classifier and save them in a dataframe\n",
                "pipe_svc_optuna_df = pd.DataFrame(columns=['Accuracy', 'F1 Score'])\n",
                "y_pred = pipe_svc_optuna.predict(X_test)\n",
                "pipe_svc_optuna_df.loc[pipe_svc_optuna.__class__.__name__] = [accuracy_score(y_test, y_pred), f1_score(y_test, y_pred, average='weighted')]\n",
                "\n",
                "\n",
                "\n",
                "from IPython.display import Markdown as md\n",
                "\n",
                "\n",
                "# display the results of the classifiers in a comparison bar plot\n",
                "comparisonBarPlot = pipe_svc_optuna_df.plot.bar()\n",
                "\n",
                "# display the results of the classifiers in a markdown table\n",
                "markDownTableResults = pipe_svc_optuna_df.to_markdown()\n",
                "md(markDownTableResults)# # # # # # # # # # # \n",
                "\n",
                "\n",
                "\n"
            ]
        },
        {
            "cell_type": "markdown",
            "metadata": {},
            "source": [
                "### **Conclusion for SVM:**\n",
                "\n",
                "Results |   Accuracy | \tF1 Score |\n",
                "----------- | ----------- | ----------- |\n",
                "Out of the box |\t0.838673 |\t0.812597 |\n",
                "Hyperparameter Optimization |\t0.93229 |\t0.932246  |\n",
                "Optuna |\t0.921717 |\t0.921722 |\n",
                "\n",
                "As we can see, we achieved considerable increases in performance by using hyperparameter optimization. The manual hyperparameter optimization was the most effective and produced the best model. That would be our selection for the best SVM estimator for our final model."
            ]
        }
    ],
    "metadata": {
        "colab": {
            "provenance": []
        },
        "kernelspec": {
            "display_name": "Python 3.10.8 64-bit",
            "language": "python",
            "name": "python3"
        },
        "language_info": {
            "codemirror_mode": {
                "name": "ipython",
                "version": 3
            },
            "file_extension": ".py",
            "mimetype": "text/x-python",
            "name": "python",
            "nbconvert_exporter": "python",
            "pygments_lexer": "ipython3",
            "version": "3.10.8"
        },
        "vscode": {
            "interpreter": {
                "hash": "b0fa6594d8f4cbf19f97940f81e996739fb7646882a419484c72d19e05852a7e"
            }
        }
    },
    "nbformat": 4,
    "nbformat_minor": 0
}
