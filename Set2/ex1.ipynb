{
  "cells": [
    {
      "cell_type": "markdown",
      "metadata": {
        "id": "hLFXD3IePSyL"
      },
      "source": [
        "# Εργαστηριακή Άσκηση 2. Μη επιβλεπόμενη μάθηση. \n",
        "## Σύστημα συστάσεων βασισμένο στο περιεχόμενο\n",
        "## Σημασιολογική απεικόνιση δεδομένων με χρήση SOM \n",
        "Ημερομηνία εκφώνησης της άσκησης: 29 Νοεμβρίου 2022\n",
        "\n",
        "**Θα βρείτε το παρόν σε μορφή jupyter notebook ως συνημμένο στο τέλος της εκφώνησης.**\n"
      ]
    },
    {
      "cell_type": "code",
      "execution_count": 2,
      "metadata": {
        "id": "S5wbBzIYnird"
      },
      "outputs": [],
      "source": [
        "# !pip install --upgrade pip\n",
        "# !pip install --upgrade numpy\n",
        "# !pip install --upgrade pandas\n",
        "# !pip install --upgrade nltk\n",
        "# !pip install --upgrade scikit-learn\n",
        "# !pip install --upgrade joblib\n",
        "# !pip install --upgrade matplotlib\n",
        "\n",
        "# remove warnings\n",
        "import warnings\n",
        "warnings.filterwarnings('ignore')"
      ]
    },
    {
      "cell_type": "markdown",
      "metadata": {
        "id": "aViHqlQcPSyP"
      },
      "source": [
        "## Εισαγωγή του Dataset"
      ]
    },
    {
      "cell_type": "markdown",
      "metadata": {
        "id": "2ZVmdDExPSyQ"
      },
      "source": [
        "Το σύνολο δεδομένων με το οποίο θα δουλέψουμε είναι βασισμένο στο [Carnegie Mellon Movie Summary Corpus](http://www.cs.cmu.edu/~ark/personas/). Πρόκειται για ένα dataset με 22.301 περιγραφές ταινιών. Η περιγραφή κάθε ταινίας αποτελείται από τον τίτλο της, μια ή περισσότερες ετικέτες που χαρακτηρίζουν το είδος της ταινίας και τέλος τη σύνοψη της υπόθεσής της. Αρχικά εισάγουμε το dataset (χρησιμοποιήστε αυτούσιο τον κώδικα, δεν χρειάζεστε το αρχείο csv) στο dataframe `df_data_1`: "
      ]
    },
    {
      "cell_type": "code",
      "execution_count": 3,
      "metadata": {
        "id": "62SOj46gPSyS"
      },
      "outputs": [],
      "source": [
        "import pandas as pd\n",
        "\n",
        "dataset_url = \"https://drive.google.com/uc?export=download&id=1zo13kUAf-MDMPZmBDxq1FxWtZY01lsxD\"\n",
        "df_data_1 = pd.read_csv(dataset_url, sep='\\t',  header=None, quoting=3)\n"
      ]
    },
    {
      "cell_type": "markdown",
      "metadata": {
        "id": "7TAEZGdIPSyW"
      },
      "source": [
        "Κάθε ομάδα θα δουλέψει σε **ένα μοναδικό υποσύνολο 5.000 ταινιών** (διαφορετικό dataset για κάθε ομάδα) ως εξής:\n",
        "\n",
        "1. Κάθε ομάδα του εργαστηρίου νευρωνικών έχει έναν αριθμό στο helios. Θα βάλετε τον αριθμό αυτό στη μεταβλητή team_seed_number στο επόμενο κελί κώδικα.\n",
        "\n",
        "2. Το data frame `df_data_2` έχει γραμμές όσες και οι ομάδες και 5.000 στήλες. Σε κάθε ομάδα αντιστοιχεί η γραμμή του πίνακα με το `team_seed_number` της. Η γραμμή αυτή θα περιλαμβάνει 5.000 διαφορετικούς αριθμούς που αντιστοιχούν σε ταινίες του αρχικού dataset. \n",
        "\n",
        "3. Τρέξτε τον κώδικα. Θα προκύψουν τα μοναδικά για κάθε ομάδα  titles, categories, catbins, summaries και corpus με τα οποία θα δουλέψετε."
      ]
    },
    {
      "cell_type": "code",
      "execution_count": 4,
      "metadata": {
        "id": "2POlqDjkPSyY"
      },
      "outputs": [],
      "source": [
        "import numpy as np\n",
        "\n",
        "# Στο επόμενη γραμή βάλτε τον αριθμό της ομάδας στο εργαστήριο των νευρωνικών\n",
        "team_seed_number = 99\n",
        "\n",
        "movie_seeds_url = \"https://drive.google.com/uc?export=download&id=1g6F4TCHrs2wgtdOk7D3gtONaeirNt_Vo\"\n",
        "df_data_2 = pd.read_csv(movie_seeds_url, header=None)\n",
        "\n",
        "# επιλέγεται \n",
        "my_index = df_data_2.iloc[team_seed_number,:].values\n",
        "\n",
        "\n",
        "titles = df_data_1.iloc[:, [2]].values[my_index] # movie titles (string)\n",
        "categories = df_data_1.iloc[:, [3]].values[my_index] # movie categories (string)\n",
        "bins = df_data_1.iloc[:, [4]]\n",
        "catbins = bins[4].str.split(',', expand=True).values.astype(float)[my_index] # movie categories in binary form (1 feature per category)\n",
        "summaries =  df_data_1.iloc[:, [5]].values[my_index] # movie summaries (string)\n",
        "corpus = summaries[:,0].tolist() # list form of summaries\n",
        "corpus_df = pd.DataFrame(corpus) # dataframe version of corpus"
      ]
    },
    {
      "cell_type": "markdown",
      "metadata": {
        "id": "If66lkwxPSyb"
      },
      "source": [
        "- Ο πίνακας **titles** περιέχει τους τίτλους των ταινιών. Παράδειγμα: 'Sid and Nancy'.\n",
        "- O πίνακας **categories** περιέχει τις κατηγορίες (είδη) της ταινίας υπό τη μορφή string. Παράδειγμα: '\"Tragedy\",  \"Indie\",  \"Punk rock\",  \"Addiction Drama\",  \"Cult\",  \"Musical\",  \"Drama\",  \"Biopic \\[feature\\]\",  \"Romantic drama\",  \"Romance Film\",  \"Biographical film\"'. Παρατηρούμε ότι είναι μια comma separated λίστα strings, με κάθε string να είναι μια κατηγορία.\n",
        "- Ο πίνακας **catbins** περιλαμβάνει πάλι τις κατηγορίες των ταινιών αλλά σε δυαδική μορφή ([one hot encoding](https://hackernoon.com/what-is-one-hot-encoding-why-and-when-do-you-have-to-use-it-e3c6186d008f)). Έχει διαστάσεις 5.000 x 322 (όσες οι διαφορετικές κατηγορίες). Αν η ταινία ανήκει στο συγκεκριμένο είδος η αντίστοιχη στήλη παίρνει την τιμή 1, αλλιώς παίρνει την τιμή 0.\n",
        "- Ο πίνακας **summaries** και η λίστα **corpus** περιλαμβάνουν τις συνόψεις των ταινιών (η corpus είναι απλά ο summaries σε μορφή λίστας). Κάθε σύνοψη είναι ένα (συνήθως μεγάλο) string. Παράδειγμα: *'The film is based on the real story of a Soviet Internal Troops soldier who killed his entire unit  as a result of Dedovschina. The plot unfolds mostly on board of the prisoner transport rail car guarded by a unit of paramilitary conscripts.'*\n",
        "- το dataframe **corpus_df** που είναι απλά το corpus σε μορφή dataframe. Τα summaries βρίσκονται στην κολόνα 0. Πιθανώς να σας βολεύει να κάνετε κάποιες προεπεξεργασίες με dataframes.\n",
        "\n",
        "\n",
        "Θεωρούμε ως **ID** της κάθε ταινίας τον αριθμό γραμμής της ή το αντίστοιχο στοιχείο της λίστας. Παράδειγμα: για να τυπώσουμε τη σύνοψη της ταινίας με `ID=999` (την χιλιοστή) θα γράψουμε `print(corpus[999])`."
      ]
    },
    {
      "cell_type": "code",
      "execution_count": 5,
      "metadata": {
        "id": "k_7A3KXLp0qS"
      },
      "outputs": [
        {
          "name": "stdout",
          "output_type": "stream",
          "text": [
            "['Bioscope']\n",
            "['\"Drama\"']\n",
            "[0. 0. 0. 0. 0. 0. 0. 0. 0. 0. 0. 0. 0. 0. 0. 0. 0. 0. 0. 0. 0. 0. 0. 0.\n",
            " 0. 0. 0. 0. 0. 0. 0. 0. 0. 0. 0. 0. 0. 0. 0. 0. 0. 0. 0. 0. 0. 0. 0. 0.\n",
            " 0. 0. 0. 0. 0. 0. 0. 0. 0. 0. 0. 0. 0. 0. 0. 0. 0. 0. 0. 0. 0. 0. 0. 0.\n",
            " 0. 0. 0. 0. 0. 0. 0. 0. 0. 0. 0. 0. 0. 0. 0. 0. 0. 0. 0. 0. 0. 0. 0. 0.\n",
            " 0. 0. 0. 0. 0. 0. 0. 0. 0. 1. 0. 0. 0. 0. 0. 0. 0. 0. 0. 0. 0. 0. 0. 0.\n",
            " 0. 0. 0. 0. 0. 0. 0. 0. 0. 0. 0. 0. 0. 0. 0. 0. 0. 0. 0. 0. 0. 0. 0. 0.\n",
            " 0. 0. 0. 0. 0. 0. 0. 0. 0. 0. 0. 0. 0. 0. 0. 0. 0. 0. 0. 0. 0. 0. 0. 0.\n",
            " 0. 0. 0. 0. 0. 0. 0. 0. 0. 0. 0. 0. 0. 0. 0. 0. 0. 0. 0. 0. 0. 0. 0. 0.\n",
            " 0. 0. 0. 0. 0. 0. 0. 0. 0. 0. 0. 0. 0. 0. 0. 0. 0. 0. 0. 0. 0. 0. 0. 0.\n",
            " 0. 0. 0. 0. 0. 0. 0. 0. 0. 0. 0. 0. 0. 0. 0. 0. 0. 0. 0. 0. 0. 0. 0. 0.\n",
            " 0. 0. 0. 0. 0. 0. 0. 0. 0. 0. 0. 0. 0. 0. 0. 0. 0. 0. 0. 0. 0. 0. 0. 0.\n",
            " 0. 0. 0. 0. 0. 0. 0. 0. 0. 0. 0. 0. 0. 0. 0. 0. 0. 0. 0. 0. 0. 0. 0. 0.\n",
            " 0. 0. 0. 0. 0. 0. 0. 0. 0. 0. 0. 0. 0. 0. 0. 0. 0. 0. 0. 0. 0. 0. 0. 0.\n",
            " 0. 0. 0. 0. 0. 0. 0. 0. 0. 0.]\n",
            "Bioscope, set in the early years of the twentieth century, is a story of history entering the paths of memories and dreams. The story of villagers, made mute by colonialism and slavery, entering the garden of a new vision through a new machine, bioscope. The protagonist Diwakaran’s new journey starts with his acquisition of a bioscope. The Frenchman DuPont, who does bioscope shows on the coasts of Tamil Nadu, is the architect of his new journey. Diwakaran was stunned by early forms of cinema images. His relationship with DuPont and the bioscope start with his astonishment when he first saw moving images. It turns into a story of inseparable friendship. Divakaran purchases the machine from DuPont and intends to entertain his village folks with his films, but ultimately falls prey to superstitions and suspicions about the instrument.\n"
          ]
        }
      ],
      "source": [
        "ID = 999\n",
        "print(titles[ID])\n",
        "print(categories[ID])\n",
        "print(catbins[ID])\n",
        "print(corpus[ID])"
      ]
    },
    {
      "cell_type": "markdown",
      "metadata": {
        "id": "UTNgwBfjPSyc"
      },
      "source": [
        "# Εφαρμογή 1. Υλοποίηση συστήματος συστάσεων ταινιών βασισμένο στο περιεχόμενο\n",
        "<img src=\"http://clture.org/wp-content/uploads/2015/12/Netflix-Streaming-End-of-Year-Posts.jpg\" width=\"70%\">"
      ]
    },
    {
      "cell_type": "markdown",
      "metadata": {
        "id": "rnA2RP8GPSyf"
      },
      "source": [
        "Η πρώτη εφαρμογή που θα αναπτύξετε θα είναι ένα [σύστημα συστάσεων](https://en.wikipedia.org/wiki/Recommender_system) ταινιών βασισμένο στο περιεχόμενο (content based recommender system). Τα συστήματα συστάσεων στοχεύουν στο να προτείνουν αυτόματα στο χρήστη αντικείμενα από μια συλλογή τα οποία ιδανικά θέλουμε να βρει ενδιαφέροντα ο χρήστης. Η κατηγοριοποίηση των συστημάτων συστάσεων βασίζεται στο πώς γίνεται η επιλογή (filtering) των συστηνόμενων αντικειμένων. Οι δύο κύριες κατηγορίες είναι η συνεργατική διήθηση (collaborative filtering) όπου το σύστημα προτείνει στο χρήστη αντικείμενα που έχουν αξιολογηθεί θετικά από χρήστες που έχουν παρόμοιο με αυτόν ιστορικό αξιολογήσεων και η διήθηση με βάση το περιεχόμενο (content based filtering), όπου προτείνονται στο χρήστη αντικείμενα με παρόμοιο περιεχόμενο (με βάση κάποια χαρακτηριστικά) με αυτά που έχει προηγουμένως αξιολογήσει θετικά.\n",
        "\n",
        "Το σύστημα συστάσεων που θα αναπτύξετε θα βασίζεται στο **περιεχόμενο** και συγκεκριμένα στις συνόψεις των ταινιών (corpus). \n"
      ]
    },
    {
      "cell_type": "markdown",
      "metadata": {
        "id": "l3nZv-xueEtd"
      },
      "source": [
        "## Προεπεξεργασία\n",
        "\n",
        "Το πρώτο βήμα στην επεξεργασία μας είναι ο καθαρισμός των περιγραφών των ταινιών. \n",
        "\n",
        "Εκτυπώστε (αρκετές) διαφορετικές περιγραφές ταινιών για να δείτε πιθανά προβλήματα που θα πρέπει να αντιμετωπιστούν.\n",
        "\n",
        "Τα (ελάχιστα) βήματα καθαρισμού που προτείνουμε είναι:\n",
        "- μετατροπή όλων των χαρακτήρων σε πεζά,\n",
        "- αφαίρεση των stopwords. Εδώ σημειώστε ότι για το δεδομένο task του συστήματος συστάσεων που είναι η πρόταση ταινιών ίσως θα είχαν ενδιαφέρον και λίστες stopwords πέραν αυτών της κοινής γλώσσας.\n",
        "- αφαίρεση σημείων στίξης και ειδικών χαρακτρήρων (special characters). Αυτό δεν γίνεται μόνο με την punkt του NLTK. Θα μπορούσατε να βασιστείτε σε κανονικές εκφράσεις (regular expressions), και\n",
        "- αφαίρεση πολυ σύντομων συμβολοσειρών.\n",
        "\n",
        "Προσοχή: το corpus και τα τελικά tokens που θα το αποτελούν θα χρησιμοποιηθούν στη συνέχεια ως κλειδιά για να βρούμε εμφυτεύματα. Για το λόγο αυτό, πρέπει να είστε προσεκτικοί ως προς την εφαρμογή μεθόδων κανονικοποίησης (text normalization) όπως το stemming και το lemmatization."
      ]
    },
    {
      "cell_type": "code",
      "execution_count": 6,
      "metadata": {},
      "outputs": [
        {
          "name": "stderr",
          "output_type": "stream",
          "text": [
            "[nltk_data] Downloading package stopwords to\n",
            "[nltk_data]     /Users/nickvlachakis/nltk_data...\n",
            "[nltk_data]   Package stopwords is already up-to-date!\n",
            "[nltk_data] Downloading package wordnet to\n",
            "[nltk_data]     /Users/nickvlachakis/nltk_data...\n",
            "[nltk_data]   Package wordnet is already up-to-date!\n",
            "[nltk_data] Downloading package punkt to\n",
            "[nltk_data]     /Users/nickvlachakis/nltk_data...\n",
            "[nltk_data]   Package punkt is already up-to-date!\n",
            "[nltk_data] Downloading package omw-1.4 to\n",
            "[nltk_data]     /Users/nickvlachakis/nltk_data...\n",
            "[nltk_data]   Package omw-1.4 is already up-to-date!\n"
          ]
        },
        {
          "name": "stdout",
          "output_type": "stream",
          "text": [
            "Fetched a total of 2943 Male Names.\n",
            "Fetched a total of 5001 Female Names.\n"
          ]
        }
      ],
      "source": [
        "import nltk\n",
        "nltk.download('stopwords')\n",
        "nltk.download('wordnet')\n",
        "nltk.download('punkt')\n",
        "nltk.download('omw-1.4')\n",
        "from nltk.corpus import stopwords\n",
        "from nltk.stem import WordNetLemmatizer    \n",
        "# import contractions\n",
        "\n",
        "from nltk.tokenize import word_tokenize\n",
        "import urllib.request\n",
        "\n",
        "def get_names(url):\n",
        "    decoded_url = urllib.request.urlopen(url).read().decode()\n",
        "    name_list = decoded_url.split('\\n')\n",
        "    \n",
        "    names = []\n",
        "    for name in name_list:\n",
        "        if name and name[0] != '#': # ignore first lines with #\n",
        "            names.append(name)\n",
        "    return set(names)\n",
        "\n",
        "male_names = get_names(\"http://www.cs.cmu.edu/Groups/AI/util/areas/nlp/corpora/names/male.txt\")\n",
        "female_names = get_names(\"http://www.cs.cmu.edu/Groups/AI/util/areas/nlp/corpora/names/female.txt\")\n",
        "\n",
        "print('Fetched a total of '+str(len(male_names))+' Male Names.')\n",
        "print('Fetched a total of '+str(len(female_names))+' Female Names.')\n",
        "\n",
        "common_stopwords = set(stopwords.words('english'))\n",
        "\n",
        "# uselesess words for movies\n",
        "useless_words = {\n",
        "    'film', 'movie', 'one', 'two', 'three', 'four',\n",
        "    'five', 'six', 'seven', 'eight', 'nine', 'ten', 'first',\n",
        "    'second', 'third', 'fourth', 'fifth', 'sixth', 'seventh',\n",
        "    'eighth', 'ninth', 'tenth', 'story', 'protagonist', 'life',\n",
        "    'character', 'plot', 'time', 'year', 'role'\n",
        "}\n",
        "\n",
        "\n",
        "stopwords_all = set.union(common_stopwords, useless_words, male_names, female_names)\n",
        "\n",
        "clean_corpus = corpus_df\n",
        "\n",
        "# remove numbers\n",
        "clean_corpus[0] = clean_corpus[0].str.replace('\\d+', '')\n",
        "# remove punctuation and special characters\n",
        "clean_corpus[0] = clean_corpus[0].str.replace('[^\\w\\s]','')\n",
        "# use strip to remove spaces, including spaces at the beginning and the end of the string\n",
        "clean_corpus[0] = clean_corpus[0].str.strip()\n",
        "# convert to lowercase\n",
        "clean_corpus[0] = clean_corpus[0].str.lower()\n",
        "# replace any url links in corpus\n",
        "clean_corpus[0] = clean_corpus[0].str.replace(r'http\\S+', '')\n",
        "#  example -> don't -> do not \n",
        "# clean_corpus[0] = clean_corpus[0].apply(lambda x: ' '.join([contractions.fix(word) for word in x.split()]))\n",
        "\n",
        "# use word_tokenize for each row of the clean_corpus[0]\n",
        "words = clean_corpus[0].apply(lambda x: word_tokenize(x))\n",
        "# remove stopwords, very short words and very long words\n",
        "words = words.apply(lambda x: [word for word in x if word not in stopwords_all and len(word) > 3 and len(word) < 15])\n",
        "\n",
        "#lemmatize\n",
        "wordnet_lemmatizer = WordNetLemmatizer()\n",
        "words = words.apply(lambda x: [wordnet_lemmatizer.lemmatize(word) for word in x])\n",
        "# concatenate words back to a sentence\n",
        "clean_corpus[0] = words.apply(lambda x: ' '.join(x))\n",
        "\n"
      ]
    },
    {
      "cell_type": "markdown",
      "metadata": {
        "id": "DD5KuSKrxQ8I"
      },
      "source": [
        "## Μετατροπή σε TFIDF\n",
        "\n",
        "Το πρώτο βήμα θα είναι λοιπόν να μετατρέψετε το corpus σε αναπαράσταση tf-idf:"
      ]
    },
    {
      "cell_type": "code",
      "execution_count": 7,
      "metadata": {
        "id": "s5YP6XCZPSyh"
      },
      "outputs": [],
      "source": [
        "from sklearn.feature_extraction.text import TfidfVectorizer\n",
        "\n",
        "# fit TfidfVectorizer to corpus_df\n",
        "tfidf = TfidfVectorizer()\n",
        "tfidf.fit(clean_corpus[0])\n",
        "# transform clean_corpus\n",
        "corpus_tfidf = tfidf.transform(clean_corpus[0])\n"
      ]
    },
    {
      "cell_type": "markdown",
      "metadata": {
        "id": "H-uRZK3EPSyl"
      },
      "source": [
        "Η συνάρτηση [TfidfVectorizer](http://scikit-learn.org/stable/modules/generated/sklearn.feature_extraction.text.TfidfVectorizer.html) όπως καλείται εδώ **δεν είναι βελτιστοποιημένη**. Οι επιλογές των μεθόδων και παραμέτρων της μπορεί να έχουν **δραματική επίδραση στην ποιότητα των συστάσεων** και είναι διαφορετικές για κάθε dataset. Επίσης, οι επιλογές αυτές έχουν πολύ μεγάλη επίδραση και στη **διαστατικότητα και όγκο των δεδομένων**. Η διαστατικότητα των δεδομένων με τη σειρά της θα έχει πολύ μεγάλη επίδραση στους **χρόνους εκπαίδευσης**, ιδιαίτερα στη δεύτερη εφαρμογή της άσκησης.\n",
        "\n",
        "Προσοχή: ο TfidfVectorizer έχει κάποιες δυνατότητες προεπεξεργασίας παρόποιες με αυτές που αναφέραμε στην προηγούμενη ενότητα. Ό,τι προεπεξεργασία μπορείτε να κάνετε που χρειάζεται ως είσοδο μόνο το κάθε document ξεχωριστά, κάντε την στο πρώτο βήμα της προεπεξεργασίας. Αν χρειάζεται γνώση των συνολικών στατιστικών της συλλογής, κάντε την με τον TfidfVectorizer."
      ]
    },
    {
      "cell_type": "code",
      "execution_count": 8,
      "metadata": {
        "id": "y_Cw0brpnisF"
      },
      "outputs": [
        {
          "name": "stdout",
          "output_type": "stream",
          "text": [
            "(5000, 47563)\n"
          ]
        }
      ],
      "source": [
        "print(corpus_tfidf.shape)"
      ]
    },
    {
      "cell_type": "markdown",
      "metadata": {
        "id": "3LsmvSyVykTU"
      },
      "source": [
        "## Υλοποίηση του συστήματος συστάσεων\n",
        "\n",
        "Το σύστημα συστάσεων που θα υλοποιήσετε θα είναι μια συνάρτηση `content_recommender` με τρία ορίσματα: `target_movie`, `max_recommendations` και `corpus_type`. Στην `target_movie` περνάμε το ID μιας ταινίας-στόχου για την οποία μας ενδιαφέρει να βρούμε παρόμοιες ως προς το περιεχόμενο (τη σύνοψη) ταινίες, `max_recommendations` στο πλήθος.\n",
        "Υλοποιήστε τη συνάρτηση ως εξής: \n",
        "- για την ταινία-στόχο, θα υπολογίζετε την [ομοιότητα συνημιτόνου](https://en.wikipedia.org/wiki/Cosine_similarity) της με όλες τις ταινίες της συλλογής σας όπως αυτές αναπαριστώνται στο `corpus_type`.\n",
        "- με βάση την ομοιότητα συνημιτόνου που υπολογίσατε, δημιουργήστε ταξινομημένο πίνακα από το μεγαλύτερο στο μικρότερο, με τα indices (`ID`) των ταινιών. Παράδειγμα: αν η ταινία με index 1 έχει ομοιότητα συνημιτόνου με 3 ταινίες \\[0.2 1 0.6\\] (έχει ομοιότητα 1 με τον εαύτό της) ο ταξινομημένος αυτός πίνακας indices θα είναι \\[1 2 0\\].\n",
        "- Για την ταινία-στόχο εκτυπώστε: id, τίτλο, σύνοψη, κατηγορίες (categories)\n",
        "- Για τις `max_recommendations` ταινίες (πλην της ίδιας της ταινίας-στόχου που έχει cosine similarity 1 με τον εαυτό της) με τη μεγαλύτερη ομοιότητα συνημιτόνου (σε φθίνουσα σειρά), τυπώστε σειρά σύστασης (1 πιο κοντινή, 2 η δεύτερη πιο κοντινή κλπ), ομοιότητα συνημιτόνου, id, τίτλο, σύνοψη, και κατηγορίες (categories)\n"
      ]
    },
    {
      "cell_type": "code",
      "execution_count": 9,
      "metadata": {},
      "outputs": [
        {
          "name": "stdout",
          "output_type": "stream",
          "text": [
            "Target Movie ID:  3669\n",
            "Target Movie Title:  Oily Hare\n",
            "Target Movie Category:  ['\"Short Film\",  \"Family Film\",  \"Animation\"']\n",
            "Target Movie Summary:  Along Highway $101.00, approximately 531 miles from \"Dollar$, Texas\" and near \"Deepinahearta\", Texas, Bugs' rabbit hole in \"Deepinahola\", Texas upsets an oil tycoon, who sounds and acts like Yosemite Sam, because it isn't producing any oil. The tycoon pulls up to the hole in a green stretch limousine that is so long that it requires a long-distance telephone operator in the middle of the car to connect the tycoon to his chauffeur, Maverick, so he can tell Maverick  to stop the car. The tycoon sa...\n",
            "-----------------------------\n",
            "Movie ID:  2671\n",
            "Movie Title:  Mutiny On The Bunny\n",
            "Movie Category:  ['\"Short Film\",  \"Family Film\",  \"Comedy\",  \"Animation\"']\n",
            "Similarity:  42.36%\n",
            "Movie Summary:  In 18th-century England, the triple-masted schooner the \"Sad Sack\"  sits at the docks. Yosemite Sam's former crew member, a haggard, traumatized, disheveled man, escapes after stating to the audience: \"I was a human being, once...\". \"Shanghai Sam\" is ready to sail at high tide and needs a new crew. Seeing Bugs Bunny, Sam quickly puts up signs for a fake free trip around the world. On board, Bugs waves goodbye to a cheering crowd and is knocked out when Sam conks him over the head. Bugs finds him...\n",
            "-----------------------------\n",
            "Movie ID:  4943\n",
            "Movie Title:  Ballot Box Bunny\n",
            "Movie Category:  ['\"Comedy\"']\n",
            "Similarity:  41.44%\n",
            "Movie Summary:  Yosemite Sam is running for mayor of a small town, declaring such empty promises as: \"There's enough fresh air and sunshine in this great country of ours for everybody- and I'll see to it, that you'll get your share!\". Bugs Bunny is underneath the podium drinking carrot juice when Sam makes a pledge to make good on his previous promise \"to rid this country of every last rabbit\" if elected. Bugs then decides he needs to fight against Sam by running against him for mayor. Bugs proceeds to quickly ...\n",
            "-----------------------------\n",
            "Movie ID:  658\n",
            "Movie Title:  14 Carrot Rabbit\n",
            "Movie Category:  ['\"Short Film\",  \"Comedy\"']\n",
            "Similarity:  40.22%\n",
            "Movie Summary:  The basic plot of 14 Carrot Rabbit takes place during the gold rush in America, and centers on Yosemite Sam  whose attempts are to steal other people's gold. The story begins with an old man named Louie slouching over by a river to clean the gold he found in a pan. Sam suddenly appears, uses his gun and reputation to scare him away, and claims the gold. When he sees how little he has stolen from old Louie, he says \"Picking's mighty slim around here, hardly no reward for a day's work,\" even thoug...\n",
            "-----------------------------\n"
          ]
        }
      ],
      "source": [
        "from sklearn.metrics.pairwise import cosine_similarity\n",
        "import numpy as np\n",
        "\n",
        "def content_recommender(target_movie,max_recommendations,corpus_type):\n",
        "    # for target_movie calculate the cosine similarity with all other movies\n",
        "    similarity = cosine_similarity(corpus_type[target_movie], corpus_type)\n",
        "\n",
        "    # sort the similarity array in descending order\n",
        "    similarity_sorted = np.sort(similarity[0])[::-1]\n",
        "    # print(\"Similarity Sorted: \",similarity_sorted[0:max_recommendations+1])\n",
        "    # print('-----------------------------')\n",
        "\n",
        "    # get the indices of the top max_recommendations movies\n",
        "    indices = np.argsort(similarity[0])[::-1][1:max_recommendations+1]\n",
        "    \n",
        "    print(\"Target Movie ID: \",target_movie)\n",
        "    print(\"Target Movie Title: \",titles[target_movie][0])\n",
        "    print(\"Target Movie Category: \",categories[target_movie])\n",
        "    print(\"Target Movie Summary: \",corpus[target_movie][:500] + \"...\")\n",
        "    print('-----------------------------')\n",
        "    \n",
        "    # print the titles of the top max_recommendations movies\n",
        "    for i in range(0,max_recommendations):\n",
        "        print(\"Movie ID: \",indices[i])\n",
        "        print(\"Movie Title: \",titles[indices[i]][0])\n",
        "        print(\"Movie Category: \",categories[indices[i]])\n",
        "        print(\"Similarity: \",str(round(similarity[0][indices[i]] * 100, 2)) + \"%\")\n",
        "        print(\"Movie Summary: \",corpus[indices[i]][:500] + \"...\")\n",
        "        print('-----------------------------')\n",
        "\n",
        "        \n",
        "    return indices\n",
        "\n",
        "# call the content_recommender function\n",
        "indices = content_recommender(3669,3,corpus_tfidf)\n"
      ]
    },
    {
      "cell_type": "markdown",
      "metadata": {
        "id": "8IvHkTUHyu78"
      },
      "source": [
        "## Βελτιστοποίηση του TfidfVectorizer\n",
        "\n",
        "Αφού υλοποιήσετε τη συνάρτηση `content_recommender` χρησιμοποιήστε την για να βελτιστοποιήσετε την `TfidfVectorizer`. Συγκεκριμένα, αρχικά μπορείτε να δείτε τι επιστρέφει το σύστημα για τυχαίες ταινίες-στόχους και για ένα μικρό `max_recommendations` (2 ή 3). Αν σε κάποιες ταινίες το σύστημα μοιάζει να επιστρέφει σημασιολογικά κοντινές ταινίες σημειώστε το `ID` τους. Δοκιμάστε στη συνέχεια να βελτιστοποιήσετε την `TfidfVectorizer` για τα συγκεκριμένα `ID` ώστε να επιστρέφονται σημασιολογικά κοντινές ταινίες για μεγαλύτερο αριθμό `max_recommendations`. Παράλληλα, όσο βελτιστοποιείτε την `TfidfVectorizer`, θα πρέπει να λαμβάνετε καλές συστάσεις για μεγαλύτερο αριθμό τυχαίων ταινιών. \n",
        "\n",
        "Ταυτόχρονα, μια αντίρροπη κατά κάποιο τρόπο κατεύθυνση της βελτιστοποίησης είναι να χρησιμοποιείτε τις παραμέτρους του `TfidfVectorizer` έτσι ώστε να μειώνονται οι διαστάσεις του Vector Space Model μέχρι το σημείο που θα αρχίσει να εμφανίζονται επιπτώσεις στην ποιότητα των συστάσεων. \n",
        "\n",
        "\n"
      ]
    },
    {
      "attachments": {},
      "cell_type": "markdown",
      "metadata": {},
      "source": [
        "### Baseline tests\n",
        "\n",
        "We conducted some tests for several movies. Below you can find the results of our tests.\n",
        "\n",
        "Movie ID | Result |\n",
        "---|---|\n",
        "100 | The recommended movies are similar to the target movie. The system recommends movies that were all dramas (among other genres), just like our target movie. We have to note that the second is an animated movie, with much different plot than our's. |\n",
        "1000 | The recommended movies are not so similar to the target movie. The system recommends 2 movies that share common genres with our target movie and one that is not so similar to it. |\n",
        "238 | The recommended movies are not similar to the target movie. Only one of the recommended movies shares a common genre with our target movie. The other two movies are not at all similar to our target movie. We observed that, even though the movies do not have similar genres and plot, their main character has the same name (Jackson). We believe that this is the reason why the system recommends these movies. |\n",
        "\n",
        "\n"
      ]
    },
    {
      "cell_type": "code",
      "execution_count": 10,
      "metadata": {},
      "outputs": [
        {
          "name": "stdout",
          "output_type": "stream",
          "text": [
            "Test 1:\n",
            "\n",
            "Target Movie ID:  100\n",
            "Target Movie Title:  Jacknife\n",
            "Target Movie Category:  ['\"Drama\"']\n",
            "Target Movie Summary:  Joseph Megessey  is a Vietnam war veteran suffering post-Vietnam stress syndrome who is having trouble fitting in with society. He takes on the responsibility of drawing Dave, a fellow veteran now an alcoholic, out of his shell by coaxing him to enjoy life again, as well as urging him to face up to some of his darker memories. Megs finds himself attracted to Dave's meek sister Martha, who lives with Dave and takes care of him. This attraction leads to a love affair, much to Dave's disapproval. D...\n",
            "-----------------------------\n",
            "Movie ID:  2494\n",
            "Movie Title:  My Pal Gus\n",
            "Movie Category:  ['\"Drama\",  \"Comedy-drama\",  \"Comedy\",  \"Domestic Comedy\"']\n",
            "Similarity:  30.24%\n",
            "Movie Summary:   Bon-bon manufacturer Dave Jennings is so focused on his Los Angeles-based business that he neglects his precocious five-year-old son Gus, who is constantly creating havoc in order to get his father's attention. After Gus's latest escapade is cleaned up and paid for, Dave orders his long-suffering secretary, Ivy Tolliver, to find a new nurse for Gus, then leaves on a business trip. Upon his return, Dave learns that Ivy has placed Gus in the Playtime School, and that he must meet with the teacher...\n",
            "-----------------------------\n",
            "Movie ID:  3964\n",
            "Movie Title:  Alvin and the Chipmunks\n",
            "Movie Category:  ['\"Children\\'s/Family\",  \"Computer Animation\",  \"Musical\",  \"Children\\'s\",  \"Drama\",  \"Comedy\",  \"Music\",  \"Family Film\"']\n",
            "Similarity:  27.85%\n",
            "Movie Summary:  The tree that the chipmunks Alvin , Simon , and Theodore  live in is cut down and driven to Los Angeles. Once in L.A., the Chipmunks meet struggling songwriter David Seville ([[Jason Lee  who had his latest song rejected by JETT Records executive Ian Hawke , his old college roommate. Dave also once had a relationship with his next door neighbor, Claire Wilson . Dave also a former boss, Gail . After winding up at Dave's interview, the Chipmunks hop into his basket and follow him home. Once at hom...\n",
            "-----------------------------\n",
            "Movie ID:  199\n",
            "Movie Title:  The Weather Man\n",
            "Movie Category:  ['\"Drama\",  \"Comedy-drama\",  \"Tragicomedy\"']\n",
            "Similarity:  27.44%\n",
            "Movie Summary:  A successful weatherman at a Chicago news program, David Spritz  is well paid but garners little respect from people in the area who throw fast food at him, David suspects, because they're resentful of how easy his high-paying job is. Dave also feels overshadowed by his father, Pulitzer Prize-winning author Robert Spritzel , who is disappointed in Dave's apparent inability to grow up and deal with his two children. The situation worsens when Robert is diagnosed with lymphoma and given only a few...\n",
            "-----------------------------\n",
            "\n",
            "\n",
            "Test 2:\n",
            "\n",
            "\n",
            "Target Movie ID:  1000\n",
            "Target Movie Title:  Phone\n",
            "Target Movie Category:  ['\"Drama\",  \"Mystery\",  \"Horror\",  \"World cinema\"']\n",
            "Target Movie Summary:   After writing a series of articles about pedophilia, the journalist Ji-won receives threatening calls on her cellular and she changes her number. Her close friend Ho-jung and her husband Chang-hoon invite Ji-won to move to their house in Bang Bae that is empty and closed. When the young daughter of her friends Young-Su answers a phone call in her mobile phone, the girl screams and changes her behavior, feeling a great attraction for her father and rejecting her mother. Meanwhile Ji-won receives...\n",
            "-----------------------------\n",
            "Movie ID:  1977\n",
            "Movie Title:  Where Got Ghost?\n",
            "Movie Category:  ['\"Horror\",  \"Comedy\"']\n",
            "Similarity:  10.13%\n",
            "Movie Summary:  The film is made up of three omnibus horror tales laced with Singaporean humour. In sequence, they are \"Roadside Got Ghost\", \"Forest Got Ghost\" and \"House Got Ghost\".  Swindlers Cai, Fu and Shou are returning to Cai's house after a successful scam. Cai becomes hungry and tells his accomplices to buy him some food while he returned home. As it is late at night and they are too lazy to walk to the shops, Fu and Shou decide to steal some oranges from the roadside, placed there as offerings during t...\n",
            "-----------------------------\n",
            "Movie ID:  3790\n",
            "Movie Title:  I Got the Hook Up\n",
            "Movie Category:  ['\"Crime Fiction\",  \"Action/Adventure\",  \"Action\",  \"Comedy\"']\n",
            "Similarity:  9.75%\n",
            "Movie Summary:  Working out of their van, Black  and Blue ([[Anthony Johnson  deal in TV sets and boomboxes, but when a driver mistakenly drops off a cell phone shipment, Black and Blue are ready to dial \"C\" for cash, bringing in both a local hacker  and Black's girlfriend, Lorraine ,who works for a cellular phone company \"Cellular Two\" and becomes their inside connection. Business is on the upswing, but then the local crime boss, Roscoe ([[Friend , and his enforcer, T-Lay , have a deal go sour and blame Black ...\n",
            "-----------------------------\n",
            "Movie ID:  3011\n",
            "Movie Title:  The Killing Phone\n",
            "Movie Category:  ['\"Horror\"']\n",
            "Similarity:  9.55%\n",
            "Movie Summary:  The story happens after the mystery death of a young girl at a countryside school. Rumors circulate that her death was caused by a mysterious number 000-0000. The rumors spread throughout a university in Kampot, Cambodia, when a female student transfers from her old school which had \"mystery deaths\". However, the new death begins to happens when a group of IT students start to call 000-0000 for a wish after midnight. When every wish has been granted, the terrifying soul starts to kill them one b...\n",
            "-----------------------------\n",
            "\n",
            "\n",
            "Test 3:\n",
            "\n",
            "\n",
            "Target Movie ID:  238\n",
            "Target Movie Title:  Stargate\n",
            "Target Movie Category:  ['\"Thriller\",  \"Science Fiction\",  \"Action\",  \"Sci-Fi Adventure\",  \"Adventure\"']\n",
            "Target Movie Summary:  The film begins in 1928, where Professor Langford discovers a massive cover-stone ring in the sands of Giza, Egypt. In the present day, Langford's daughter Catherine offers Egyptologist Daniel Jackson, a down-on-his-luck linguistics professor, the chance to translate ancient Egyptian hieroglyphs that may prove his controversial theory regarding the Pyramid of Khufu. Jackson accepts and travels to a US Air Force installation inside Creek Mountain, Colorado. Jackson translates the hieroglyphs on t...\n",
            "-----------------------------\n",
            "Movie ID:  3751\n",
            "Movie Title:  Man In The Mirror: The Michael Jackson Story\n",
            "Movie Category:  ['\"Biography\",  \"Television movie\",  \"Musical\",  \"Drama\",  \"Biopic [feature]\",  \"Biographical film\"']\n",
            "Similarity:  27.82%\n",
            "Movie Summary:  Man in the Mirror picks up from where An American Dream left off. At the beginning of the telefilm, it is set to 1983 where pop icon Michael Jackson, and his album, Thriller becomes the biggest selling album of all-time. Michael  grew up in the spotlight as a member of the popular R&B combo the Jackson 5, but his youthful success came with a price—robbed of a normal childhood, as he grew to be a man, Jackson found himself increasingly eager to remake his life into the childhood he never had. In ...\n",
            "-----------------------------\n",
            "Movie ID:  3524\n",
            "Movie Title:  The Bronze Buckaroo\n",
            "Movie Category:  ['\"Western\"']\n",
            "Similarity:  26.99%\n",
            "Movie Summary:  Cowboy Bob Blake receives a letter from his friend Joe Jackson, asking for help. Blake and his men travel to Jackson's ranch, only to discover from Jackson's sister Betty that Joe has been missing for three weeks. Meanwhile Jackson's ranch hand  is learning to use ventriloquism to make the farm animals talk, and tries to convince the gullible Dusty to buy a talking mule. Blake discovers that Jackson is being held by a local land grabbing rancher, Buck Thorne, who  has discovered gold on Jackson'...\n",
            "-----------------------------\n",
            "Movie ID:  2873\n",
            "Movie Title:  G.I. Jane\n",
            "Movie Category:  ['\"Action\",  \"Drama\"']\n",
            "Similarity:  25.82%\n",
            "Movie Summary:  A Senate Armed Services Committee interviews a candidate for the position of Secretary of the Navy. Senator Lillian DeHaven  from Texas criticizes the Navy for not being gender-neutral. Behind the curtains, a deal is struck: If women compare favorably with men in a series of test cases, the military will integrate women fully into all branches of the Navy. The first test is the training course of the  U.S. Navy Combined Reconnaissance Team . Senator DeHaven hand-picks Lieutenant Jordan O'Neil , ...\n",
            "-----------------------------\n"
          ]
        },
        {
          "data": {
            "text/plain": [
              "array([3751, 3524, 2873])"
            ]
          },
          "execution_count": 10,
          "metadata": {},
          "output_type": "execute_result"
        }
      ],
      "source": [
        "print('Test 1:\\n')\n",
        "content_recommender(100,3,corpus_tfidf)\n",
        "print('\\n\\nTest 2:\\n\\n')\n",
        "content_recommender(1000,3,corpus_tfidf)\n",
        "print('\\n\\nTest 3:\\n\\n')\n",
        "content_recommender(238,3,corpus_tfidf)\n"
      ]
    },
    {
      "cell_type": "code",
      "execution_count": 11,
      "metadata": {},
      "outputs": [],
      "source": [
        "\n",
        "tfidf_optimized = TfidfVectorizer(max_df=0.2,min_df=0.01, stop_words=list(stopwords_all), ngram_range=(1,2))\n",
        "tfidf_optimized.fit(clean_corpus[0])\n",
        "corpus_tfidf_optimized = tfidf_optimized.transform(clean_corpus[0])\n",
        "\n"
      ]
    },
    {
      "attachments": {},
      "cell_type": "markdown",
      "metadata": {},
      "source": [
        "### Improved tests\n",
        "\n",
        "We conducted some tests for the same movies as before, but this time we used the improved `TfidfVectorizer`. Below you can find the results of our tests.\n",
        "\n",
        "\n",
        "Movie ID | Result |\n",
        "---|---|\n",
        "100 | As we can see, the results are much better than the baseline's. The recommended movies are still in the same genre and their plots are very similar to the target movie. All the recommended movies talk about similar topics (relationships between people) and they all make references to the vietnam war. |\n",
        "1000 | The recommended movies are much closer to the target movie. The summary of the recommended movies is quite similar to the target movie. The recommended movies share common genres and they all talk about specific events that mark a significant change in the plot of the movie. |\n",
        "238 | The recommended movies have much more similar plots to the target movie and all of them share common genres, comparing to the baseline's. The curent system not only avoids recommending movies that have the same character name, but also recommends movies that have similar plots. |\n",
        "\n"
      ]
    },
    {
      "cell_type": "code",
      "execution_count": 12,
      "metadata": {},
      "outputs": [
        {
          "name": "stdout",
          "output_type": "stream",
          "text": [
            "Test 1:\n",
            "\n",
            "Target Movie ID:  100\n",
            "Target Movie Title:  Jacknife\n",
            "Target Movie Category:  ['\"Drama\"']\n",
            "Target Movie Summary:  Joseph Megessey  is a Vietnam war veteran suffering post-Vietnam stress syndrome who is having trouble fitting in with society. He takes on the responsibility of drawing Dave, a fellow veteran now an alcoholic, out of his shell by coaxing him to enjoy life again, as well as urging him to face up to some of his darker memories. Megs finds himself attracted to Dave's meek sister Martha, who lives with Dave and takes care of him. This attraction leads to a love affair, much to Dave's disapproval. D...\n",
            "-----------------------------\n",
            "Movie ID:  342\n",
            "Movie Title:  New Jerusalem\n",
            "Movie Category:  ['\"Drama\"']\n",
            "Similarity:  22.35%\n",
            "Movie Summary:  The film focuses on the relationship between an Irish immigrant , a veteran of the U.S. war in Afghanistan, and his American co-worker, an evangelical Christian ...\n",
            "-----------------------------\n",
            "Movie ID:  2506\n",
            "Movie Title:  In Country\n",
            "Movie Category:  ['\"Family Drama\",  \"Period piece\",  \"Drama\",  \"War film\",  \"Coming of age\",  \"Romance Film\"']\n",
            "Similarity:  21.05%\n",
            "Movie Summary:  Recent high school graduate Samantha Hughes, 17, lives in fictional Hopewell, Kentucky with her uncle Emmett Smith, a laid-back Vietnam veteran with post-traumatic stress disorder. Samantha's father, Dwayne, was killed in Vietnam at 21 after marrying and impregnating Samantha's mother, Irene. Samantha finds some old photographs, medals, and letters of her father, and becomes obsessed with finding out more about him. Irene, who has moved to Lexington, Kentucky with her second husband, wants Saman...\n",
            "-----------------------------\n",
            "Movie ID:  771\n",
            "Movie Title:  Redwood Curtain\n",
            "Movie Category:  ['\"Drama\"']\n",
            "Similarity:  20.95%\n",
            "Movie Summary:  In her search for her biological father, an Amerasian piano prodigy comes to California's redwood forests to an area populated by Vietnam veterans unable to reintegrate into society....\n",
            "-----------------------------\n",
            "\n",
            "\n",
            "Test 2:\n",
            "\n",
            "\n",
            "Target Movie ID:  1000\n",
            "Target Movie Title:  Phone\n",
            "Target Movie Category:  ['\"Drama\",  \"Mystery\",  \"Horror\",  \"World cinema\"']\n",
            "Target Movie Summary:   After writing a series of articles about pedophilia, the journalist Ji-won receives threatening calls on her cellular and she changes her number. Her close friend Ho-jung and her husband Chang-hoon invite Ji-won to move to their house in Bang Bae that is empty and closed. When the young daughter of her friends Young-Su answers a phone call in her mobile phone, the girl screams and changes her behavior, feeling a great attraction for her father and rejecting her mother. Meanwhile Ji-won receives...\n",
            "-----------------------------\n",
            "Movie ID:  1341\n",
            "Movie Title:  One Missed Call\n",
            "Movie Category:  ['\"Japanese Movies\",  \"Horror\",  \"World cinema\",  \"Supernatural\"']\n",
            "Similarity:  36.06%\n",
            "Movie Summary:  In Tokyo, during an evening get-together with friends, Okazaki Yoko's  cell phone suddenly rings in an eerie, unusual tone, cartoon styled. Not recognizing the tone, Yoko doesn't pick up soon enough and the call goes into \"voice mail\" . When she sees that the call/message was from her own phone number and dated two days into the future, both she and her friend Nakamura Yumi  listen intently to the message. What they hear is the voice of Yoko in casual chit-chat, followed by a horrendous scream a...\n",
            "-----------------------------\n",
            "Movie ID:  1192\n",
            "Movie Title:  Chaappa Kurish\n",
            "Movie Category:  ['\"Thriller\"']\n",
            "Similarity:  31.6%\n",
            "Movie Summary:  The film puts the scanner on the strangeness of reality in a busy city  in Kerala, teeming with life. It deals with issues that are real, contemporary, and quite complex. The film revolves around the lives of two people in extremes. On one end is Arjun , who is excavating riches by being in the booming construction business in Kochi. He wants to be successful at any price. He moves around in plush chauffer driven cars, uses state-of-the-art phones, and flirts with the telemarketing ladies. He ha...\n",
            "-----------------------------\n",
            "Movie ID:  1977\n",
            "Movie Title:  Where Got Ghost?\n",
            "Movie Category:  ['\"Horror\",  \"Comedy\"']\n",
            "Similarity:  26.1%\n",
            "Movie Summary:  The film is made up of three omnibus horror tales laced with Singaporean humour. In sequence, they are \"Roadside Got Ghost\", \"Forest Got Ghost\" and \"House Got Ghost\".  Swindlers Cai, Fu and Shou are returning to Cai's house after a successful scam. Cai becomes hungry and tells his accomplices to buy him some food while he returned home. As it is late at night and they are too lazy to walk to the shops, Fu and Shou decide to steal some oranges from the roadside, placed there as offerings during t...\n",
            "-----------------------------\n",
            "\n",
            "\n",
            "Test 3:\n",
            "\n",
            "\n",
            "Target Movie ID:  238\n",
            "Target Movie Title:  Stargate\n",
            "Target Movie Category:  ['\"Thriller\",  \"Science Fiction\",  \"Action\",  \"Sci-Fi Adventure\",  \"Adventure\"']\n",
            "Target Movie Summary:  The film begins in 1928, where Professor Langford discovers a massive cover-stone ring in the sands of Giza, Egypt. In the present day, Langford's daughter Catherine offers Egyptologist Daniel Jackson, a down-on-his-luck linguistics professor, the chance to translate ancient Egyptian hieroglyphs that may prove his controversial theory regarding the Pyramid of Khufu. Jackson accepts and travels to a US Air Force installation inside Creek Mountain, Colorado. Jackson translates the hieroglyphs on t...\n",
            "-----------------------------\n",
            "Movie ID:  2390\n",
            "Movie Title:  Wing Commander\n",
            "Movie Category:  ['\"Science Fiction\",  \"Adventure\"']\n",
            "Similarity:  31.11%\n",
            "Movie Summary:  It is the year 2654 and an interstellar war is raging between the Terran Confederation and the cat-like alien Kilrathi. Christopher Blair  and Todd Marshall  are cocky young pilots assigned to the small merchant ship Diligent, commanded by Commodore Taggart . A massive Kilrathi armada attacks a remote human base and captures its navigation computer, through which it will be able to locate Earth. Admiral Tolwyn  orders the Diligent to proceed to the carrier Tiger Claw. He directs Blair, whose par...\n",
            "-----------------------------\n",
            "Movie ID:  255\n",
            "Movie Title:  Journey to the Center of the Earth\n",
            "Movie Category:  ['\"Action/Adventure\",  \"Science Fiction\",  \"Fantasy\",  \"Indie\",  \"Adventure\"']\n",
            "Similarity:  30.97%\n",
            "Movie Summary:  The film follows two intertwined subplots: an advanced drilling operation that is taking place in North America, and a rescue mission to save a research team that has been teleported 600&nbsp;km beneath the Earth's crust. The drill, a fully American project, is powerful enough to drill through solid rock at a fast pace and is used to try and rescue the team from their fate. The operation begins, but the drill accidentally breaks through the Earth's crust and into the very centre of the Earth, wh...\n",
            "-----------------------------\n",
            "Movie ID:  4785\n",
            "Movie Title:  WALL-E\n",
            "Movie Category:  ['\"Romantic comedy\",  \"Science Fiction\",  \"Adventure\",  \"Doomsday film\",  \"Computer Animation\",  \"Animation\",  \"Satire\",  \"Fantasy\",  \"Comedy\",  \"Adventure Comedy\",  \"Family Film\",  \"Sci-Fi Adventure\",  \"Romance Film\"']\n",
            "Similarity:  30.96%\n",
            "Movie Summary:  In 2805, Earth is covered in garbage due to decades of mass consumerism facilitated by the megacorporation Buy n Large. BnL evacuated Earth's population in fully automated starliners in 2105, leaving behind trash compactor Waste Allocation Load Lifter – Earth Class “WALL-E” robots to clean the planet, but they eventually stopped operating and Earth was left abandoned. One WALL-E unit has managed to remain active by repairing itself using parts from other broken units. It has also developed senti...\n",
            "-----------------------------\n"
          ]
        },
        {
          "data": {
            "text/plain": [
              "array([2390,  255, 4785])"
            ]
          },
          "execution_count": 12,
          "metadata": {},
          "output_type": "execute_result"
        }
      ],
      "source": [
        "print('Test 1:\\n')\n",
        "content_recommender(100,3,corpus_tfidf_optimized)\n",
        "print('\\n\\nTest 2:\\n\\n')\n",
        "content_recommender(1000,3,corpus_tfidf_optimized)\n",
        "print('\\n\\nTest 3:\\n\\n')\n",
        "content_recommender(238,3,corpus_tfidf_optimized)"
      ]
    },
    {
      "cell_type": "markdown",
      "metadata": {
        "id": "PSQ2tCs_hbaH"
      },
      "source": [
        "## Βαθιά μάθηση: δημιουργία corpora με χρήση word emmbeddings\n",
        "\n",
        "Η προσέγγιση της κατασκευής μόνο μέσω tfidf του συστήματος συστάσεων έχει διάφορα μειονεκτήματα. Θα μας ενδιέφερε λοιπόν να δούμε αν μπορούμε να χρησιμοποιήσουμε για τις λέξεις **εμφυτεύματα (embeddings)**, δηλαδή τις πυκνές διανυσματικές αναπαραστάσεις για τις λέξεις που μας δίνει το μοντέλο **Word2Vec**\n",
        "\n",
        "Ωστόσο, το dataset της κάθε ομάδας είναι πολύ μικρό για να εξάγουμε τα δικά μας word embeddings (και να είναι καλά). Για το λόγο αυτό θα χρησιμοποιήσουμε τη μεθοδολογία της Βαθιάς Μάθησης που είναι η **Μεταφορά Μάθησης (Transfer Learning).**.\n",
        "\n",
        "Στη μεταφορά μάθησης ουσιαστικά μεταφέρουμε τη γνώση που έχει αποκτήσει ένα ήδη εκπαιδευμένο (και κατά κανόνα πολύ μεγάλο) σύστημα. Η μεταφορά γίνεται διαμέσου των τιμών των βαρών που έχει προσδιορίσει μετά το πέρας της εκπαίδευσης.\n",
        "\n",
        "Στην περίπτωσή μας, δεν μας ενδιαφέρουν τόσο τα ίδια τα βάρη των μοντέλων από τα οποία θα κάνουμε μεταφορά μάθησης. Κάτι τέτοιο θα μας ενδιέφερε αν π.χ. θέλαμε να συνεχίσουμε την εκπαίδευση στα δικά μας κείμενα. Μας ενδιαφέρουν όμως τα ίδια τα εμφυτεύματα, δηλαδή τα embeddings (διανύσματα διαστάσεων $m$) που έχει μάθει το νευρωνικό για το λεξιλόγιο του (vocabulary). To vocabulary σε τέτοια μεγάλα νευρωνικά θα είναι πιθανότατα υπερσύνολο του δικού μας."
      ]
    },
    {
      "cell_type": "markdown",
      "metadata": {
        "id": "6UFGxnb9iknm"
      },
      "source": [
        "### Μεταφορά μάθησης εμφυτευμάτων\n",
        "\n"
      ]
    },
    {
      "cell_type": "markdown",
      "metadata": {
        "id": "G3Z28edwj4wF"
      },
      "source": [
        "#### Εμφυτεύματα του Gensim-data\n",
        "Το Gensim περιλαμβάνει αρκετά προεκπαιδευμένα μοντέλα εμφυτευμάτων Word2Vec. Με το επόμενο κελί παίρνουμε τη λίστα τους."
      ]
    },
    {
      "cell_type": "code",
      "execution_count": 13,
      "metadata": {
        "id": "UX9ZkHSvi3Mi"
      },
      "outputs": [
        {
          "name": "stdout",
          "output_type": "stream",
          "text": [
            "['fasttext-wiki-news-subwords-300', 'conceptnet-numberbatch-17-06-300', 'word2vec-ruscorpora-300', 'word2vec-google-news-300', 'glove-wiki-gigaword-50', 'glove-wiki-gigaword-100', 'glove-wiki-gigaword-200', 'glove-wiki-gigaword-300', 'glove-twitter-25', 'glove-twitter-50', 'glove-twitter-100', 'glove-twitter-200', '__testing_word2vec-matrix-synopsis']\n"
          ]
        }
      ],
      "source": [
        "# !pip install -U gensim\n",
        "import gensim.downloader as gensim_api\n",
        "print(list(gensim_api.info()['models'].keys()))"
      ]
    },
    {
      "cell_type": "markdown",
      "metadata": {
        "id": "mS0XEVWUi_0e"
      },
      "source": [
        "Τα μοντέλα αυτά βρίσκονται στο [αποθετήριο Gensim-data](https://github.com/RaRe-Technologies/gensim-data) όπου μπορείτε να βρείτε και την τεκμηρίωσή τους. Η φόρτωση των μοντέλων αυτών γίνεται με τη συνάρτηση `gensim.downloader.load`."
      ]
    },
    {
      "cell_type": "markdown",
      "metadata": {
        "id": "IfNs5fMAkADF"
      },
      "source": [
        "#### Άλλα εμφυτεύμαατα\n",
        "Μπορείτε να βρείτε προεκπαιδευμένα εμφυτεύματα και από πηγές εκτός του Gensim. Για παράδειγμα:\n",
        "\n",
        "- [Google News dataset](https://code.google.com/archive/p/word2vec/). Πρόκειται για προ-εκπαιδευμένα διανύσματα που έχουν εκπαιδευτεί σε μέρος του συνόλου δεδομένων Google News (περίπου 100 δισεκατομμύρια λέξεις). Το μοντέλο περιέχει διανύσματα 300 διαστάσεων για 3 εκατομμύρια λέξεις και φράσεις.\n",
        "- [Amazon BlazingText](https://docs.aws.amazon.com/sagemaker/latest/dg/blazingtext.html). Το BlazingText δεν είναι μόνο προεκπαιδευμένα εμφυτεύματα αλλα και βελτιστοποιημένες υλοποιήσεις των αλγορίθμων Word2vec για την επεξεργασία κειμένου. Προυπόθεση είναι να δουλέψει κανείς στο SageMaker.\n",
        "\n",
        "Οι διαδικασίες φόρτωσης embeddings από εξωτερικά δεδομένα μπορεί να είναι ελαφρά διαφορετικές από αυτή του Gensim.\n",
        "\n"
      ]
    },
    {
      "cell_type": "markdown",
      "metadata": {
        "id": "qkkZE41d_DjX"
      },
      "source": [
        "#### Παρατηρήσεις\n",
        "\n",
        "*   Επαναλαμβάνουμε ότι στην εργασία αυτή δεν μας ενδιαφέρουν τα ίδια τα μοντέλα αλλά το να μπορούμε για μία λέξη του λεξιλογίου μας να μπορούμε να βρούμε το embedding (διάνυσμα) που της αντιστοιχεί στο εκάστοτε προεκπαιδευμένο μοντέλο. \n",
        "\n",
        "*   Επίσης, δεν θα χρησιμοποιήσουμε την `Phrases` για να βρούμε bigrams στο dataset μας όπως θα ήταν το ορθότερο, καθώς αυτό θα απαιτούσε την συνέχιση της εκπαίδευσης του μοντέλου σε νέο λεξιλόγιο με πολύ λίγα νέα δεδομένα.\n"
      ]
    },
    {
      "cell_type": "markdown",
      "metadata": {
        "id": "aF6bQOziqISL"
      },
      "source": [
        " ### Δημιουργία corpora βασισμένων στα εμφυτεύματα\n",
        "\n",
        "Για να μπορέσουμε να ενσωματώσουμε τη γνώση που υπάρχει στα προεκπαιδευμένα εμφυτεύματα στο δικό μας corpus θα προχωρήσουμε όπως περιγράφεται ακολούθως.\n",
        "\n",
        "Για κάθε περιγραφή ταινίας $d$, η οποία αποτελείται από τις $N_d$ λέξεις $w_i$, το  $tfidf$ της κάθε λέξης $w_i$ δίνεται από τη σχέση:\n",
        "\n",
        "$$ tfidf(w_i) = tf(w_i,d) \\cdot idf(w_i)$$\n",
        "\n",
        "Ταυτόχρονα, σε κάθε λέξη $w_i$ αντιστοιχεί ένα διάνυσμα $W2V(w_i)$ από το μοντέλο εμφυτευμάτων που έχουμε εισάγει. Τα διανύσματα εμφυτευμάτων $W2V$ θα έχουν διάσταση $m$, ανάλογα το μοντέλο. \n",
        "\n",
        "Για κάθε ταινία d, μπορούμε να δημιουργήσουμε μια διανυσματική αναπαράσταση $W2V(d)$ διαστάσεων $m$ χρησιμοποιώντας το $tfidf(w_i)$ ως συντελεστή βαρύτητας για κάθε εμφύτευμα $W2V(w_i)$:\n",
        "\n",
        "$$ W2V(d) = \\frac{tfidf(w_1)\\cdot W2V(w_i) + tfidf(w_2)\\cdot W2V(w_2) + \\dotsc  + tfidf(w_{N_{d}})\\cdot W2V(w_{N_{d}})}{tfidf(w_1)+tfidf(w_2)+ \\dotsc + tfidf(w_{N_{d}})}$$\n"
      ]
    },
    {
      "cell_type": "markdown",
      "metadata": {
        "id": "Umbd7mv__be8"
      },
      "source": [
        "#### build_tfw2v\n",
        "\n",
        "Υλοποιήστε μια συνάρτηση `build_tfw2v` με ορίσματα:\n",
        "- `corpus` που θα είναι το προεπεξεργασμένο dataset σας,\n",
        "- `vectors` που θα είναι το μοντέλο που θα σας δίνει τα διανύσματα των εμφυτεύσεων vectors, και \n",
        "- `embeddings_size` που θα είναι η διάσταση των εμφυτευμάτων $m$.\n",
        "\n",
        "H συνάρτηση αυτή θα επιστρέφει ένα νέο corpus που θα είναι ένας πίνακας 5000 (όσες οι ταινίες σας) x $m$ (το η διάσταση των εμφυτευμάτων). Ανάλογα ποιο μοντέλο χρησιμποιείτε για transfer learning ο πίνακας αυτός θα είναι διαφορετικός.\n",
        "\n",
        "Μπορείτε πλεόν να καλείτε την `content_recommender` με διαφορετικά corpora στο όρισμα `corpus_type`. Σημειώστε ότι στο TFidfVectorizer χρησιμοποιουμε τη σειριακή μορφή των numpy arrays και ίσως σας χρησιμεύσει η `sparse.csr_matrix()` από την Scipy."
      ]
    },
    {
      "cell_type": "code",
      "execution_count": 14,
      "metadata": {},
      "outputs": [],
      "source": [
        "# This block is used to download the model and store it locally. Should be run on the first time that the notebook is run \n",
        "# or every time we need to change model.\n",
        "\n",
        "\n",
        "# import joblib\n",
        "# model = gensim_api.load(\"glove-wiki-gigaword-200\") # load glove twitter model of 200 dimensional vectors\n",
        "# joblib.dump(model, 'model.pkl') \n"
      ]
    },
    {
      "cell_type": "code",
      "execution_count": 15,
      "metadata": {},
      "outputs": [],
      "source": [
        "\n",
        "# This block is used to load the model from the local storage. Should be run every time the notebook is run after the first time.\n",
        "\n",
        "import joblib\n",
        "model = joblib.load('model.pkl')\n",
        "\n"
      ]
    },
    {
      "cell_type": "code",
      "execution_count": 16,
      "metadata": {},
      "outputs": [],
      "source": [
        "from scipy.sparse import csr_matrix\n",
        "\n",
        "\n",
        "# function that returns a new corpus using the ew2v embeddings provided\n",
        "def build_tfw2v(corpus, vectors, embedding_size):\n",
        "    # We will use the optimal tf-idf vectorizer from the previous section. We initialize it again so that\n",
        "    # this function can be run independently.\n",
        "    tfidf_vectorizer = TfidfVectorizer(max_df=0.2,min_df=0.01, stop_words=list(stopwords_all), ngram_range=(1,2))\n",
        "    tfidf_vectorizer.fit(corpus[0])\n",
        "    corpus_tfidf = tfidf_vectorizer.transform(corpus[0])\n",
        "\n",
        "\n",
        "\n",
        "    final_corpus = np.zeros((len(corpus), embedding_size)) \n",
        "    \n",
        "    corpus_tokenized = corpus[0].apply(lambda x: word_tokenize(x))\n",
        "\n",
        "    # iterate through each text in corpus with index\n",
        "    for index, description  in enumerate(corpus_tokenized):\n",
        "        w2v_numerator = np.zeros(embedding_size)\n",
        "        w2v_denominator = 0\n",
        "        for word in corpus_tokenized[index]:\n",
        "            if word in tfidf_vectorizer.vocabulary_:\n",
        "                idx = tfidf_vectorizer.vocabulary_[word] # index of word in tf-idf matrix\n",
        "            else:\n",
        "                continue\n",
        "\n",
        "            word_tfidf = corpus_tfidf[index, idx] # tf-idf of word\n",
        "\n",
        "            if word in vectors.index_to_key: # check if word exists in the Word2Vec model\n",
        "                w2v_numerator += word_tfidf * vectors[word]\n",
        "                w2v_denominator += word_tfidf\n",
        "            else:\n",
        "                continue\n",
        "                \n",
        "        final_corpus[index,:] = w2v_numerator/w2v_denominator\n",
        "\n",
        "    \n",
        "    return final_corpus\n",
        "\n",
        "\n",
        "\n",
        "tfw2v_corpus = build_tfw2v(clean_corpus, vectors = model, embedding_size = model.vectors.shape[1])"
      ]
    },
    {
      "cell_type": "code",
      "execution_count": 17,
      "metadata": {},
      "outputs": [
        {
          "name": "stdout",
          "output_type": "stream",
          "text": [
            "Target Movie ID:  100\n",
            "Target Movie Title:  Jacknife\n",
            "Target Movie Category:  ['\"Drama\"']\n",
            "Target Movie Summary:  Joseph Megessey  is a Vietnam war veteran suffering post-Vietnam stress syndrome who is having trouble fitting in with society. He takes on the responsibility of drawing Dave, a fellow veteran now an alcoholic, out of his shell by coaxing him to enjoy life again, as well as urging him to face up to some of his darker memories. Megs finds himself attracted to Dave's meek sister Martha, who lives with Dave and takes care of him. This attraction leads to a love affair, much to Dave's disapproval. D...\n",
            "-----------------------------\n",
            "Movie ID:  342\n",
            "Movie Title:  New Jerusalem\n",
            "Movie Category:  ['\"Drama\"']\n",
            "Similarity:  22.35%\n",
            "Movie Summary:  The film focuses on the relationship between an Irish immigrant , a veteran of the U.S. war in Afghanistan, and his American co-worker, an evangelical Christian ...\n",
            "-----------------------------\n",
            "Movie ID:  2506\n",
            "Movie Title:  In Country\n",
            "Movie Category:  ['\"Family Drama\",  \"Period piece\",  \"Drama\",  \"War film\",  \"Coming of age\",  \"Romance Film\"']\n",
            "Similarity:  21.05%\n",
            "Movie Summary:  Recent high school graduate Samantha Hughes, 17, lives in fictional Hopewell, Kentucky with her uncle Emmett Smith, a laid-back Vietnam veteran with post-traumatic stress disorder. Samantha's father, Dwayne, was killed in Vietnam at 21 after marrying and impregnating Samantha's mother, Irene. Samantha finds some old photographs, medals, and letters of her father, and becomes obsessed with finding out more about him. Irene, who has moved to Lexington, Kentucky with her second husband, wants Saman...\n",
            "-----------------------------\n",
            "Movie ID:  771\n",
            "Movie Title:  Redwood Curtain\n",
            "Movie Category:  ['\"Drama\"']\n",
            "Similarity:  20.95%\n",
            "Movie Summary:  In her search for her biological father, an Amerasian piano prodigy comes to California's redwood forests to an area populated by Vietnam veterans unable to reintegrate into society....\n",
            "-----------------------------\n",
            "Movie ID:  4244\n",
            "Movie Title:  The Slaughter Rule\n",
            "Movie Category:  ['\"Sports\",  \"Drama\",  \"Coming of age\",  \"Indie\"']\n",
            "Similarity:  17.22%\n",
            "Movie Summary:  A teenager at a personal crossroads finds himself questioning the things that have given his life meaning in this independent coming-of-age drama. Roy Chutney  is a high school senior in the fictional Montana town of Blue Springs. Roy does not have an especially close relationship with his mother Evangelline , and he has not seen his father in years. That does not prevent Roy from feeling emotionally devastated when he learns that his father has killed himself, and Roy's self-esteem takes a beat...\n",
            "-----------------------------\n",
            "Movie ID:  1862\n",
            "Movie Title:  A Foreign Field\n",
            "Movie Category:  ['\"Drama\",  \"Comedy-drama\",  \"Comedy\",  \"Indie\"']\n",
            "Similarity:  17.18%\n",
            "Movie Summary:  Cyril  and Waldo , who are British and American, respectively, have both returned to France in search of the same woman  with whom they each had a rendezvous in 1944 . Cyril is accompanied by fellow veteran Amos , while Waldo has his petty daughter  and her henpecked husband  in tow. The two groups encounter one another, and after some conflict find common ground in old sorrows. Along the way they meet the recently widowed Lisa , who has come in search of her brother's grave....\n",
            "-----------------------------\n"
          ]
        },
        {
          "data": {
            "text/plain": [
              "array([ 342, 2506,  771, 4244, 1862])"
            ]
          },
          "execution_count": 17,
          "metadata": {},
          "output_type": "execute_result"
        }
      ],
      "source": [
        "content_recommender(100,5,corpus_tfidf_optimized)\n"
      ]
    },
    {
      "cell_type": "markdown",
      "metadata": {
        "id": "NPVK7Z5c1p5F"
      },
      "source": [
        "## Ανάλυση αποτελεσμάτων\n",
        "\n",
        "### Σύστημα συστάσεων βασισμένο μόνο στο tfidf\n",
        "\n",
        "- Σε markdown περιγράψτε τι προεπεξεργασία κάνετε στα κείμενα και γιατί.\n",
        "\n",
        "- Περιγράψτε πως προχωρήσατε στις επιλογές σας για τη βελτιστοποίηση της `TfidfVectorizer`. \n",
        "\n",
        "- [Cherry-picking:](https://www.wikiwand.com/en/Cherry_picking) Δώσετε παραδείγματα (IDs) από τη συλλογή σας που επιστρέφουν καλά αποτελέσματα μέχρι `max_recommendations` (τουλάχιστον 5) και σχολιάστε.\n",
        "\n",
        "- [Nit-picking:](https://en.wikipedia.org/wiki/Nitpicking) Δώστε παραδείγματα (IDs) από τη συλλογή σας που επιστρέφουν κακά αποτελέσματα και σχολιάστε.\n",
        "\n",
        "- Ποια είναι συνολικά τα πλεονεκτήματα και μειονεκτήματα ενός recommender βασισμένου στο tfidf;"
      ]
    },
    {
      "attachments": {},
      "cell_type": "markdown",
      "metadata": {},
      "source": [
        "### Preprocessing\n",
        "\n",
        "The preprocessing steps we took are:\n",
        "\n",
        "- Remove all the numbers\n",
        "- Remove all the punctuation\n",
        "- Remove spaces from the beginning and end of the string\n",
        "- Convert all characters to lowercase\n",
        "- Remove URLs\n",
        "- Expand contractions\n",
        "- Remove stopwords (including common names, common stopwords from the english language and stopwords that are common in movie corpuses)\n",
        "- Remove all the words that are less than 4 characters long\n",
        "- Remove all the words that are more than 15 characters long\n",
        "- Lemmatize the words\n"
      ]
    },
    {
      "attachments": {},
      "cell_type": "markdown",
      "metadata": {},
      "source": [
        "### TfidfVectorizer optimization\n",
        "\n",
        "In order to optimize the TfidfVectorizer we tried different values for the **max_df** and **min_df** parameters. We found that the values  max_df=0.2 and min_df=0.01 worked really well for our dataset and significantly reduced the size of the vectorizer's vocabulary, making it faster to fit to our data. We also tried different values for the ngram_range parameter but we found that the best results are achieved with **ngram_range**=(1,2). Further increasing the ngram_range parameter did not improve the results, so we selected 2 as the upper bound. The lower bound had to be 1 (testing with values greater than 1 showed really bad results)."
      ]
    },
    {
      "attachments": {},
      "cell_type": "markdown",
      "metadata": {},
      "source": [
        "### Cherry-picking\n",
        "\n",
        "Below we have 5 movies that the recommender system returns good results for. \n",
        "\n",
        "Movie ID | Movie Title | Comment\n",
        "--- | --- | ---\n",
        "125 | Final Destination | The recommendation system worked well for this movie, since all of the recommended movies were thrillers and action films. Four out of the five recommendations shared a common plot theme that revolved around aviation.\n",
        "1254 | Larki Panjaban | The movies recommended by the system all fall in the drama genre and all of them have important Indian characters.\n",
        "2000 | Hangman's Curse | All of the recommended movies share the same plot theme, which is school. In all of the movies the main characters are either students or have a connection to a school. The movies do not have so similar gernes.\n"
      ]
    },
    {
      "cell_type": "code",
      "execution_count": 18,
      "metadata": {},
      "outputs": [
        {
          "name": "stdout",
          "output_type": "stream",
          "text": [
            "Demo 1:\n",
            "\n",
            "Target Movie ID:  125\n",
            "Target Movie Title:  Final Destination\n",
            "Target Movie Category:  ['\"Thriller\",  \"Horror\",  \"Supernatural\",  \"Cult\",  \"Slasher\",  \"Teen\"']\n",
            "Target Movie Summary:  Alex Browning, a senior high school student, boards Volée Airlines Flight 180 with his classmates and teachers for their senior trip from John F. Kennedy International Airport in New York City to Charles de Gaulle International Airport in Paris. Before the plane takes off, Alex has a premonition that the flight will explode, killing everyone on board. As events from his vision express themselves in reality, he panics and attempts to stop the flight. The resulting commotion leads to the removal o...\n",
            "-----------------------------\n",
            "Movie ID:  1762\n",
            "Movie Title:  Final Destination 2\n",
            "Movie Category:  ['\"Thriller\",  \"Horror\",  \"Supernatural\",  \"Cult\",  \"Slasher\",  \"Teen\"']\n",
            "Similarity:  37.25%\n",
            "Movie Summary:  One year after the explosion of Flight 180, college student Kimberly Corman heads to Daytona Beach with her friends for their spring break. While driving, Kimberly has a premonition of a pile-up along Route 23, killing everyone involved. Aghast, she stalls her car and prevents lottery winner Evan Lewis, widow Nora Carpenter and her son Tim, businesswoman Kat Jennings, stoner Rory Peters, pregnant Isabella Hudson, teacher Eugene Dix, and cop Thomas Burke from entering the highway. While Thomas qu...\n",
            "-----------------------------\n",
            "Movie ID:  27\n",
            "Movie Title:  Pandora's Clock\n",
            "Movie Category:  ['\"Action Thrillers\",  \"Thriller\",  \"Disaster\",  \"Action\",  \"Drama\"']\n",
            "Similarity:  31.49%\n",
            "Movie Summary:  The story begins in the mountains of Bavaria, Germany, where wildlife documentarian Ernest Helms  is filming local wildlife. While filming, he discovers a man attempting to break into his rental car. After foiling the man's attempt, Helms prepares to drive away but is thwarted by the man smashing the driver's window. Helms, however, succeeds in escaping the crazed man, but receives a minor cut on his hand. A few days later, in Frankfurt, Germany, Captain James Holland , amidst preparations for h...\n",
            "-----------------------------\n",
            "Movie ID:  763\n",
            "Movie Title:  Miracle Landing\n",
            "Movie Category:  ['\"Disaster\",  \"Action\",  \"Drama\",  \"Docudrama\",  \"Television movie\"']\n",
            "Similarity:  29.78%\n",
            "Movie Summary:  The story begins in February 1988, in a flight simulator with two pilots facing the challenge of landing a crippled jet that experiences a cabin decompression, an engine fire and a loss of hydraulics. The three emergency situations foreshadow the events of Paradise Airlines 243, taking place two months later. The story follows three crew members. *Madeleine \"Mimi\" Tompkins, a First Officer pilot for Paradise Airlines, who has been selected for training to become a full Captain in the airline, ha...\n",
            "-----------------------------\n",
            "Movie ID:  2205\n",
            "Movie Title:  Airport 1975\n",
            "Movie Category:  ['\"Thriller\",  \"Ensemble Film\",  \"Action/Adventure\",  \"Drama\",  \"Disaster\",  \"Action\",  \"Airplanes and airports\"']\n",
            "Similarity:  28.75%\n",
            "Movie Summary:  Columbia Air Lines' Flight 409 is a Boeing 747-100 en route from Washington Dulles International Airport to Los Angeles International Airport. Scott Freeman, meanwhile, is a New Mexican businessman with an urgent sales meeting in Boise, Idaho. Failure to make this meeting threatens half his sales commissions for the coming year. He is en route in his private Beechcraft Baron. However, an occluded front has the entire West Coast socked in, with Los Angeles reporting zero visibility. That not only...\n",
            "-----------------------------\n",
            "Movie ID:  3190\n",
            "Movie Title:  Air America\n",
            "Movie Category:  ['\"Adventure\",  \"Action Comedy\",  \"Action/Adventure\",  \"Period piece\",  \"Comedy\",  \"War film\",  \"Action\",  \"Airplanes and airports\"']\n",
            "Similarity:  26.18%\n",
            "Movie Summary:  In late 1969, Billy Covington  works as a helicopter traffic pilot for a Los Angeles radio station, and the FAA suspends his pilot's license after breaking several safety regulations on the job. His piloting skills, bravery and disregard for the law are noticed by a mysterious government agent, who tells Billy that he can get his license back if he accepts a job in Laos working for a \"strictly civilian\" company called Air America; the stranger insists that \"there is no war in Laos, you can take ...\n",
            "-----------------------------\n",
            "\n",
            "\n",
            "Demo 2:\n",
            "\n",
            "\n",
            "Target Movie ID:  1254\n",
            "Target Movie Title:  Larki Panjaban\n",
            "Target Movie Category:  ['\"Drama\"']\n",
            "Target Movie Summary:  A simple, love story between a Sikh girl  and a Muslim boy. In August 1947 in what was the final cynical act of a collapsing empire, the British left India divided. Arbitrary lines were drawn on the map of India, dividing not only the country but also provinces, in particular Punjab. The results of partition were catastrophic. All in the name of religion and nationalism people who had lived together in harmony for centuries committed mindless acts of violence against each other. All the blood sp...\n",
            "-----------------------------\n",
            "Movie ID:  92\n",
            "Movie Title:  Tamas\n",
            "Movie Category:  ['\"Drama\"']\n",
            "Similarity:  25.12%\n",
            "Movie Summary:  The film is about the exodus of a Sikh and Hindu family to India, in the backdrop of riot-stricken Pakistan, at the time of Partition of India in 1947. It shows a gruesome side of politics, and the compassionate side of humanity that survives any carnage.Govind Nihalani Speak on Tamas Rediff.com, July1 2, 2003..The Guardian , Tuesday September 9, 2003...\n",
            "-----------------------------\n",
            "Movie ID:  2036\n",
            "Movie Title:  Aa Ab Laut Chalen\n",
            "Movie Category:  ['\"Musical\",  \"Drama\",  \"Romance Film\",  \"World cinema\"']\n",
            "Similarity:  23.0%\n",
            "Movie Summary:  Rohan Khanna  is a jobless graduate living with his grandfather  and his mother . Rohan has been tirelessly looking for a decent job without success. One day, Rohan's neighbor, Ranjit arrives to bring his parents to America. Ranjit lives in America, owns a motel, a home, a car, and is married to an American woman. He wishes to keep his parents in America to live in peace. After listening to Rohan's desire for a job, he suggests that Rohan should move to America. Ranjit promises Rohan success and...\n",
            "-----------------------------\n",
            "Movie ID:  2240\n",
            "Movie Title:  Pardesi\n",
            "Movie Category:  ['\"Historical fiction\",  \"Adventure\"']\n",
            "Similarity:  21.32%\n",
            "Movie Summary:  The film tells the story of Afanasy Nikitin , a 15th century, Russian trader who travelled to India , and falls in love with an Indian girl Champa ....\n",
            "-----------------------------\n",
            "Movie ID:  4287\n",
            "Movie Title:  After the Wedding\n",
            "Movie Category:  ['\"Family Drama\",  \"Drama\",  \"World cinema\"']\n",
            "Similarity:  20.41%\n",
            "Movie Summary:  Jacob Petersen manages an Indian orphanage. With a small staff, he works as hard as he can to keep the orphanage afloat, and is personally invested in the young charges - in particular, Pramod, a young boy Jacob has cared for since the boy's birth. The orphanage has been in danger of collapse for eight years and now faces bankruptcy. A Danish corporation offers a substantial donation to maintain the orphanage, with the caveat that Jacob return to Denmark  to personally receive the funds. Apparen...\n",
            "-----------------------------\n",
            "Movie ID:  859\n",
            "Movie Title:  Something Like a War\n",
            "Movie Category:  ['\"Gender Issues\",  \"Culture & Society\"']\n",
            "Similarity:  20.08%\n",
            "Movie Summary:  While examining India's family planning or population control programs, it also focuses on the coerced sterilizations  of women in India and on the opinions of Indian women of these programs and the traditional family life of Indian women. The film documents the state of reproductive rights for women in India that juxtaposes the detachment of science next to a new form of oppression for women....\n",
            "-----------------------------\n",
            "\n",
            "\n",
            "Demo 3:\n",
            "\n",
            "\n",
            "Target Movie ID:  2000\n",
            "Target Movie Title:  Hangman's Curse\n",
            "Target Movie Category:  ['\"Thriller\",  \"Horror\",  \"Supernatural\",  \"Psychological thriller\",  \"Mystery\",  \"Crime Thriller\",  \"Teen\"']\n",
            "Target Movie Summary:  The setting of the film takes place at John R. Rogers High School in Spokane, Washington. Ten years prior, student Abel Frye took his life through suicide. A victim of bullying, Frye ended his life by hanging himself on the school property. Fast forward to the current day, several student football players  are becoming gravely ill. Just before they fall into a coma, each victim is heard screaming the spirit's name. Abel Frye. In an effort to get to the bottom of the haunting, the school turns to...\n",
            "-----------------------------\n",
            "Movie ID:  1400\n",
            "Movie Title:  Spring Break '83\n",
            "Movie Category:  ['\"Comedy\"']\n",
            "Similarity:  40.34%\n",
            "Movie Summary:  Four friends who were bullied by their graduating high school class seek revenge against the now freshman college students while on Spring break during 1983....\n",
            "-----------------------------\n",
            "Movie ID:  2012\n",
            "Movie Title:  Sukeban Deka The Movie\n",
            "Movie Category:  ['\"Thriller\",  \"Japanese Movies\",  \"World cinema\",  \"Animation\",  \"Action/Adventure\",  \"Anime\",  \"Action\"']\n",
            "Similarity:  40.07%\n",
            "Movie Summary:  A revolutionary takes over a remote school, makes it into a prison, and attempts to convert its students into terrorists. A young yoyo-wielding \"delinquent\" student named Saki seeks to stop this with the help of her friends. However they must first lead all the students to safety....\n",
            "-----------------------------\n",
            "Movie ID:  2191\n",
            "Movie Title:  High School Musical: El Desafío\n",
            "Movie Category:  ['\"Musical\"']\n",
            "Similarity:  36.35%\n",
            "Movie Summary:  A new school year begins at the High School Argentina , and the students return from the summer vacations. Fer, the captain of the school rugby team, the Jaguars, discovers that Agus, his neighbor and classmate, has changed a lot over the summer. Delfi, however, continues being vain and wastes her time dominating her poor brother, Walter, and her associates Alicia, Clara and Valeria, or, as she prefers to call them, \"The Invisibles\". The principal of the school and Ms. D'Arts, the art teacher, i...\n",
            "-----------------------------\n",
            "Movie ID:  4090\n",
            "Movie Title:  Aarakshan\n",
            "Movie Category:  ['\"Thriller\",  \"Drama\",  \"Bollywood\"']\n",
            "Similarity:  33.24%\n",
            "Movie Summary:  In 2008, Deepak Kumar  is at an interview for the teacher's post at an affluent school. The interviewers turn him down when they discover his low-caste roots. Deepak relates the incident to his mentor, Dr. Prabhakar Anand . Dr Anand, the legendary principal of renowned STM college, offers Deepak an interim job as a teacher at STM. Deepak is comforted by his friend, Sushant , and his girlfriend Poorbi , who is Dr. Anand's daughter. The state minister, Baburam, wishes to enroll his no-good nephew ...\n",
            "-----------------------------\n",
            "Movie ID:  2335\n",
            "Movie Title:  Goldfish Warning!\n",
            "Movie Category:  ['\"Short Film\",  \"Anime\"']\n",
            "Similarity:  33.24%\n",
            "Movie Summary:  Chitose Fujinomiya, former heiress and currently an orphan, has been kicked out of her super elite school, Tokai no Gakuen , and shunned by her former friends. She is sent to a rural public school, Inaka no Chugakko , where even pigs, oxen and chickens are students. The only possession she has left is a pink goldfish named Gyopi, given to her by her beloved father, and very valuable. Her family's attorney attempts to steal Gyopi, but is foiled by Chitose's new schoolmates, namely Wapiko, a simpl...\n",
            "-----------------------------\n"
          ]
        },
        {
          "data": {
            "text/plain": [
              "array([1400, 2012, 2191, 4090, 2335])"
            ]
          },
          "execution_count": 18,
          "metadata": {},
          "output_type": "execute_result"
        }
      ],
      "source": [
        "print('Demo 1:\\n')\n",
        "content_recommender(125,5,corpus_tfidf_optimized)\n",
        "print('\\n\\nDemo 2:\\n\\n')\n",
        "content_recommender(1254,5,corpus_tfidf_optimized)\n",
        "print('\\n\\nDemo 3:\\n\\n')\n",
        "content_recommender(2000,5,corpus_tfidf_optimized)"
      ]
    },
    {
      "attachments": {},
      "cell_type": "markdown",
      "metadata": {},
      "source": [
        "### Nit-picking\n",
        "\n",
        "Below we have 5 movies that the recommender system returns bad results for.\n",
        "\n",
        "Movie ID | Movie Title | Comment\n",
        "--- | --- | ---\n",
        "13 | Adwa | The recommender system did not work well for this movie, since it recommended movies that were not even in the same genre. The first two recommendations were accurate, and shared the shame gerne and similar plots (difficulties of people in African countries) with our target movie. However, the other three recommendations were completely different gernes and had plots that revolved around Italian characters and events that take place in Italy. This happens because the target movie is a documentary about some heroic victories of the Ethiopian army against the Italians, so the system is not able to understand that the movie is a documentary about Ethiopia and not a movie focused on Italy.\n",
        "128 | Conqueror of Atlantis | The movies that the system recommended did not share much common ground with the target movie. Except for the first one, all the other recommendations do not have the same gerne as the target. Additionaly there is no pattern or anything common in the plots of the recommended movies.\n",
        "999 | Bioscope | Same as the previous example, the recommended movies were not so similar to the target. Only the first one had similarities in the plot, but other than that none of the movies satisfied us.\n",
        "\n"
      ]
    },
    {
      "cell_type": "code",
      "execution_count": 19,
      "metadata": {},
      "outputs": [
        {
          "name": "stdout",
          "output_type": "stream",
          "text": [
            "Demo 1:\n",
            "\n",
            "Target Movie ID:  13\n",
            "Target Movie Title:  Adwa\n",
            "Target Movie Category:  ['\"Documentary\"']\n",
            "Target Movie Summary:  In 1896, Ethiopia, largely armed with spears and knives, defeats a well-equipped and organized Italian military bent on colonization. On March 2, 1896, the Italians embarked on the final European conquest of an African nation, Ethiopia. With brilliant military intelligence and gallant generals at the helm, united and willed, the Ethiopian people rose their way to triumph over the Italians at the Battle of Adwa. The event ignited a lasting flame of hope, of freedom and independence in the hearts ...\n",
            "-----------------------------\n",
            "Movie ID:  2263\n",
            "Movie Title:  500 Years Later\n",
            "Movie Category:  ['\"History\",  \"Indie\",  \"Documentary\"']\n",
            "Similarity:  40.4%\n",
            "Movie Summary:  Crime, drugs, HIV/AIDS, poor education, inferiority complex, low expectation, poverty, corruption, poor health, and underdevelopment plagues people of African descent globally. 500 years later from the onset of slavery and subsequent colonialism, Africans are still struggling for basic freedom. Filmed in five continents, and over twenty countries, 500 Years Later engages the retrospective voice, told from the African vantage-point....\n",
            "-----------------------------\n",
            "Movie ID:  1188\n",
            "Movie Title:  Amistad\n",
            "Movie Category:  ['\"History\",  \"Historical fiction\",  \"Mystery\",  \"Period piece\",  \"Drama\",  \"Costume drama\",  \"Courtroom Drama\"']\n",
            "Similarity:  34.6%\n",
            "Movie Summary:  The film begins in the depths of the schooner La Amistad, a slave-ship carrying captured West Africans into slavery. The film's protagonist, Sengbe Pieh , most known by his Mende name, \"Cinqué\" , painstakingly picks a nail out of the ship's structure and uses it to pick the lock on his shackles. Freeing a number of his companions, Cinquè initiates a rebellion on board the storm-tossed vessel. In the ensuing fighting, several Africans and most of the ship's crew are killed, except Ruiz and Montez...\n",
            "-----------------------------\n",
            "Movie ID:  4937\n",
            "Movie Title:  Sex with a Smile\n",
            "Movie Category:  ['\"Comedy film\"']\n",
            "Similarity:  32.12%\n",
            "Movie Summary:  An Italian anthology film sex comedy that features a series of five short comedic sketches that parody Italian sexual mores....\n",
            "-----------------------------\n",
            "Movie ID:  38\n",
            "Movie Title:  Gruber's Journey\n",
            "Movie Category:  ['\"Drama\"']\n",
            "Similarity:  24.16%\n",
            "Movie Summary:  The film centers on an Italian writer named Curzio Malaparte, who was a member of the Italian Fascist Party. Malaparte is assigned to cover the Russian front for the Italian news service, and travels with Colonel Freitag of the Wehrmacht and the deputy commander of the local Romanian garrison to Romania. He suffers from a serious allergy and is sent to consult world-class allergist, Dr. Josef Gruber in Iaşi, but Gruber is missing. Suffering terribly from his allergy, Malaparte desperately seeks ...\n",
            "-----------------------------\n",
            "Movie ID:  683\n",
            "Movie Title:  Berberian Sound Studio\n",
            "Movie Category:  ['\"Horror\"']\n",
            "Similarity:  24.08%\n",
            "Movie Summary:  The film centres on the character of Gilderoy , a British Foley artist working on the audio track for an Italian giallo film, The Equestrian Vortex....\n",
            "-----------------------------\n",
            "\n",
            "\n",
            "Demo 2:\n",
            "\n",
            "\n",
            "Target Movie ID:  128\n",
            "Target Movie Title:  Conqueror of Atlantis\n",
            "Target Movie Category:  ['\"Science Fiction\",  \"Fantasy\",  \"Adventure\"']\n",
            "Target Movie Summary:  After a ship wreckage Hercules finds himself on a unknown coast. He is found by princess Virna which takes care of the wounded Hercules. After a nightly assault Virna disappeared. Hercules starts to search her and finally finds her in Atlantis where Virna had been selected to become the new heires after the current Queen Ming. Hercules gets captured by Ming's amazon guard....\n",
            "-----------------------------\n",
            "Movie ID:  2811\n",
            "Movie Title:  MirrorMask\n",
            "Movie Category:  ['\"Science Fiction\",  \"Fantasy Adventure\",  \"Adventure\",  \"Family Drama\",  \"Fantasy\",  \"Drama\",  \"Family Film\"']\n",
            "Similarity:  25.36%\n",
            "Movie Summary:  Helena  works with her parents  at their family circus, but desires to run away and join real life. At the next performance, after Helena and her mother have a heated argument, Helena's mother collapses and is taken to the hospital. Ten days later, while Helena is staying with her grandmother, she finds that the doctors determine that Helena's mother requires an operation, and Helena can only blame herself for the situation. That night, she wakes up in a dream-like state and leaves her building ...\n",
            "-----------------------------\n",
            "Movie ID:  4148\n",
            "Movie Title:  The Thief of Bagdad\n",
            "Movie Category:  ['\"Adventure\",  \"Costume drama\",  \"Action/Adventure\",  \"Fantasy\",  \"Drama\",  \"Family Film\",  \"Action\"']\n",
            "Similarity:  24.68%\n",
            "Movie Summary:  The film's backstory is told in flashback, mimicking the style of the Arabian Nights. Ahmad , the naive King of Bagdad, is convinced by his evil Grand Vizier, Jaffar , to go out into the city disguised as a poor man to get to know his subjects . Jaffar then has Ahmad thrown into a dungeon, where he is joined by the young thief Abu , who arranges their escape. They flee to Basra, where Ahmad becomes acquainted with its Princess . However, Jaffar also journeys to Basra, for he desires the Princess...\n",
            "-----------------------------\n",
            "Movie ID:  3091\n",
            "Movie Title:  The Warrior\n",
            "Movie Category:  ['\"Wuxia\",  \"World cinema\",  \"History\",  \"Action/Adventure\",  \"Martial Arts Film\",  \"Drama\",  \"War film\",  \"Action\",  \"Chinese Movies\"']\n",
            "Similarity:  23.29%\n",
            "Movie Summary:  In 1375, a small political envoy travels to Ming China to meet the emperor. Mistaken for spies, the envoy is arrested. Their prisoner transport is attacked by Mongol marauders, who kill the Chinese guards and allow the Koreans to live. All the Korean ambassadors have died, leaving the inexperienced general Choi-Jung to take charge. The soldiers arm themselves and quickly discover that the Mongols have kidnapped the Ming emperor's daughter. They ambush the Mongols and rescue the princess. Yeo-sol...\n",
            "-----------------------------\n",
            "Movie ID:  2618\n",
            "Movie Title:  Queen of the Jungle\n",
            "Movie Category:  ['\"Indie\",  \"Black-and-white\"']\n",
            "Similarity:  21.54%\n",
            "Movie Summary:  David Worth travels into Africa to find his old friend Joan Lawrence, who disappeared in a hot air balloon as a child while the pair were with an expedition searching for radium deposits. Unknown to David, she was discovered by an African tribe and became their queen....\n",
            "-----------------------------\n",
            "Movie ID:  2366\n",
            "Movie Title:  Peau d'Âne\n",
            "Movie Category:  ['\"World cinema\",  \"Musical\",  \"Fantasy\",  \"Comedy\",  \"Drama\",  \"Romantic drama\",  \"Romance Film\",  \"Family Film\"']\n",
            "Similarity:  19.25%\n",
            "Movie Summary:  The King  promises his dying Queen that after her death he will only marry a woman as beautiful and virtuous as she. Pressed by his advisers to remarry and produce an heir, he comes to the conclusion that the only way to fulfil his promise is to marry his own daughter, the Princess . Following the advice of her godmother, the Lilac Fairy , the Princess demands a series of seemingly impossible nuptial gifts, in the hope that her father will be forced to give up his plans of marriage. However, the...\n",
            "-----------------------------\n",
            "\n",
            "\n",
            "Demo 3:\n",
            "\n",
            "\n",
            "Target Movie ID:  999\n",
            "Target Movie Title:  Bioscope\n",
            "Target Movie Category:  ['\"Drama\"']\n",
            "Target Movie Summary:  Bioscope, set in the early years of the twentieth century, is a story of history entering the paths of memories and dreams. The story of villagers, made mute by colonialism and slavery, entering the garden of a new vision through a new machine, bioscope. The protagonist Diwakaran’s new journey starts with his acquisition of a bioscope. The Frenchman DuPont, who does bioscope shows on the coasts of Tamil Nadu, is the architect of his new journey. Diwakaran was stunned by early forms of cinema ima...\n",
            "-----------------------------\n",
            "Movie ID:  4291\n",
            "Movie Title:  Peuple en marche\n",
            "Movie Category:  ['\"Documentary\"']\n",
            "Similarity:  23.25%\n",
            "Movie Summary:  In 1962, René Vautier, together with some Algerian friends, organized an audiovisual formation center to encourage a \"dialogue in images\" between the two factions. A film was edited from that experience, but the French police partially destroyed it. The images that were saved represent an unprecedented historical document: They tell of the Algerian War and the history of the ALN , as well as showing life after the war and, particularly, the reconstruction of the cities and the countryside after ...\n",
            "-----------------------------\n",
            "Movie ID:  1818\n",
            "Movie Title:  The Animatrix\n",
            "Movie Category:  ['\"Science Fiction\",  \"Japanese Movies\",  \"Adventure\",  \"Animation\",  \"Anime\",  \"Drama\",  \"Action\"']\n",
            "Similarity:  23.12%\n",
            "Movie Summary:  The plot-summaries of the shorts are listed below in the order that they run in the DVD release, which is not the chronological order. Chronologically, the order would be: *The Second Renaissance - a prequel set generations before the original film, The Matrix, relating how humans built artificially intelligent Machines, the apocalyptic war between the two, ending with the Machines enslaving the human race and the initial creation of The Matrix virtual reality. *A Detective Story - a stand-alone...\n",
            "-----------------------------\n",
            "Movie ID:  1050\n",
            "Movie Title:  The Flying Machine\n",
            "Movie Category:  ['\"Family Film\",  \"Adventure\",  \"Animation\"']\n",
            "Similarity:  23.06%\n",
            "Movie Summary:  A family takes a journey across the globe on a strange and amazing flying machine, experiencing a series of adventures along the way....\n",
            "-----------------------------\n",
            "Movie ID:  3500\n",
            "Movie Title:  Postmen in the Mountains\n",
            "Movie Category:  ['\"Drama\",  \"Chinese Movies\",  \"World cinema\"']\n",
            "Similarity:  21.13%\n",
            "Movie Summary:  The film is set in the mountainous regions of the western Hunan province in the early 1980s. At the film's start, a young man  begins his first journey as a postman at the mountainous rural areas of the aforesaid regions. His father , a veteran postman forced to retire due to a bad knee, decides to accompany him together with the family's faithful dog, Buddy. The father walks his son through the nitty-gritty of the job, and the son realizes the mailman job entails not just the sending of letters...\n",
            "-----------------------------\n",
            "Movie ID:  884\n",
            "Movie Title:  The Matrix Revolutions\n",
            "Movie Category:  ['\"Thriller\",  \"Science Fiction\",  \"Adventure\",  \"Action/Adventure\",  \"Martial Arts Film\",  \"Action\"']\n",
            "Similarity:  20.67%\n",
            "Movie Summary:   Neo and Bane's bodies lie unconscious in the medical bay of the ship Mjolnir. Neo's digital self, meanwhile, finds itself trapped in a virtual subway station – a transition zone between the Matrix and the Machine City. In that subway station, he meets a \"family\" of programs, including a girl named Sati, whose father tells Neo the subway is controlled by the Trainman, an exiled program loyal to the Merovingian. When Neo tries to board a train with the family, the Trainman refuses and overpowers ...\n",
            "-----------------------------\n"
          ]
        },
        {
          "data": {
            "text/plain": [
              "array([4291, 1818, 1050, 3500,  884])"
            ]
          },
          "execution_count": 19,
          "metadata": {},
          "output_type": "execute_result"
        }
      ],
      "source": [
        "print('Demo 1:\\n')\n",
        "content_recommender(13,5,corpus_tfidf_optimized)\n",
        "print('\\n\\nDemo 2:\\n\\n')\n",
        "content_recommender(128,5,corpus_tfidf_optimized)\n",
        "print('\\n\\nDemo 3:\\n\\n')\n",
        "content_recommender(999,5,corpus_tfidf_optimized)"
      ]
    },
    {
      "attachments": {},
      "cell_type": "markdown",
      "metadata": {},
      "source": [
        "### Tfidf based recommender pros and cons\n",
        "\n",
        "|Pros|Cons|\n",
        "|---|---|\n",
        "|It can handle synonyms and polysemy well | The vectors can be very large, take up lots of space |\n",
        "|It's easy to calculate the similarity of two documents | It may not handle sparse data well|\n",
        "|It can handle large datasets,the training times are not so large | TF-IDF is based on the bag-of-words (BoW) model, therefore it does not capture position in text, semantics, co-occurrences in different documents, et|\n",
        "| |Cannot capture semantics|\n"
      ]
    },
    {
      "cell_type": "markdown",
      "metadata": {
        "id": "zPBW9WH56I-y"
      },
      "source": [
        "### Σύγκριση και σχολιασμός με recommenders βασισμένων στο Word2Vec\n",
        "\n",
        "- Υλoποιήστε recommenders που βασίζονται σε μεταφορά μάθησης και εμφυτεύματα. Χρησιμοποιήστε παραδείγματα για να υποδείξετε δυνατά και αδύναμα σημεία τους.\n",
        "\n",
        "- Μπορείτε να σχολιάσετε τα recommenders που βασίζονται στο Word2Vec σε σχέση με το απλό μοντέλο tfidf, εξετάζοντας τις συστάσεις για ίδια ID.\n",
        "\n",
        "- Μπορείτε επίσης να εξετάσετε συγκριτικά τα Word2Vec recommenders μεταξύ τους και πάλι βασιζόμενοι σε παραδείγματα.\n",
        "\n",
        "- Οι παρατηρήσεις σας θα βασίζονται στην ανάλυση των ποιοτικών χαρακτηριστικών που είναι η σειρά και το σύνολο των συστάσεων. Ωστόσο, μπορείτε να συμπεριλάβετε και ποσοτικά χαρακτηριστικά όπως τους χρονους loading και συγκρότησης του corpus αλλά και της διαστατικότητας $m$.\n",
        "\n",
        "Χρησιμοποιήστε όποια μορφή reporting κρίνετε καταλληλότερη: κείμενο, πίνακες, διαγράμματα.\n"
      ]
    },
    {
      "cell_type": "markdown",
      "metadata": {
        "id": "4irg4K-IPSym"
      },
      "source": [
        "## Πρακτικό tip - persistence αντικειμένων με joblib.dump\n",
        "\n",
        "Καθώς στην δεύτερη εργασία καλείστε να δημιουργήσετε διάφορα corpora των οποίων η δημιουργία παίρνει χρόνο, υπάρχει ένας εύκολος τρόπος να αποθηκεύουμε μεταβλητές σε dump files και να τις διαβάζουμε απευθείας.\n",
        "\n",
        "H βιβλιοθήκη [joblib](https://pypi.python.org/pypi/joblib) της Python δίνει κάποιες εξαιρετικά χρήσιμες ιδιότητες στην ανάπτυξη κώδικα: pipelining, παραλληλισμό, caching και variable persistence. Τις τρεις πρώτες ιδιότητες τις είδαμε στην πρώτη άσκηση. Στην παρούσα άσκηση θα μας φανεί χρήσιμη η τέταρτη, το persistence των αντικειμένων. Συγκεκριμένα μπορούμε με:\n",
        "\n",
        "```python\n",
        "joblib.dump(my_object, 'my_object.pkl') \n",
        "```\n",
        "\n",
        "να αποθηκεύσουμε οποιοδήποτε αντικείμενο-μεταβλητή (εδώ το `my_object`) απευθείας πάνω στο filesystem ως αρχείο, το οποίο στη συνέχεια μπορούμε να ανακαλέσουμε ως εξής:\n",
        "\n",
        "```python\n",
        "my_object = joblib.load('my_object.pkl')\n",
        "```\n",
        "\n",
        "Μπορούμε έτσι να ανακαλέσουμε μεταβλητές ακόμα και αφού κλείσουμε και ξανανοίξουμε το notebook, χωρίς να χρειαστεί να ακολουθήσουμε ξανά όλα τα βήματα ένα - ένα για την παραγωγή τους, κάτι ιδιαίτερα χρήσιμο αν αυτή η διαδικασία είναι χρονοβόρα.\n",
        "\n",
        "Ας αποθηκεύσουμε το `corpus_tf_idf` και στη συνέχεια ας το ανακαλέσουμε."
      ]
    },
    {
      "cell_type": "code",
      "execution_count": 20,
      "metadata": {
        "id": "aESOPYQaPSyo",
        "scrolled": true
      },
      "outputs": [],
      "source": [
        "# import joblib\n",
        "\n",
        "# joblib.dump(corpus_tf_idf, 'corpus_tf_idf.pkl') "
      ]
    },
    {
      "cell_type": "markdown",
      "metadata": {
        "id": "7_rAEj5ZPSy1"
      },
      "source": [
        "\n",
        "\n",
        "Μπορείτε με ένα απλό `!ls` να δείτε ότι το αρχείο `corpus_tf_idf.pkl` υπάρχει στο filesystem σας (== persistence):"
      ]
    },
    {
      "cell_type": "code",
      "execution_count": 21,
      "metadata": {
        "id": "ZhwXmTEIPSy3",
        "scrolled": true
      },
      "outputs": [],
      "source": [
        "# !ls -lh"
      ]
    },
    {
      "cell_type": "markdown",
      "metadata": {
        "id": "cey5AbkO475S"
      },
      "source": [
        "και μπορούμε να τα διαβάσουμε με `joblib.load`"
      ]
    },
    {
      "cell_type": "code",
      "execution_count": 22,
      "metadata": {
        "id": "DSJPTKY8PSyu"
      },
      "outputs": [],
      "source": [
        "# corpus_tf_idf = joblib.load('corpus_tf_idf.pkl')"
      ]
    },
    {
      "cell_type": "markdown",
      "metadata": {
        "id": "zHOQtO83PSy9"
      },
      "source": [
        "# Εφαρμογή 2.  Τοπολογική και σημασιολογική απεικόνιση της ταινιών με χρήση SOM\n",
        "<img src=\"https://i.imgur.com/Z4FdurD.jpg\" width=\"60%\">"
      ]
    },
    {
      "cell_type": "markdown",
      "metadata": {
        "id": "UB_clmizPSy-"
      },
      "source": [
        "## Δημιουργία dataset\n",
        "Στη δεύτερη εφαρμογή θα βασιστούμε στις τοπολογικές ιδιότητες των Self Organizing Maps (SOM) για να φτιάξουμε ενά χάρτη (grid) δύο διαστάσεων όπου θα απεικονίζονται όλες οι ταινίες της συλλογής της ομάδας με τρόπο χωρικά συνεκτικό ως προς το περιεχόμενο και κυρίως το είδος τους (ο παραπάνω χάρτης είναι ενδεικτικός, δεν αντιστοιχεί στο dataset μας). \n",
        "\n",
        "Διαλέξτε για την αναπαράσταση των documents αυτήν που πιστεύετε απέδωσε καλύτερα στο πρώτα σκέλος της άσκησης. Έστω ότι αυτή είναι η `my_best_corpus`.\n",
        "\n",
        "Η έτοιμη συνάρτηση `build_final_set` θα ενώσει την αναπαράσταση που θα της δώσετε ως όρισμα `mycorpus` με τις binarized κατηγορίες `catbins` των ταινιών ως επιπλέον κολόνες (χαρακτηριστικά). Συνεπώς, κάθε ταινία αναπαρίσταται στο Vector Space Model από τα χαρακτηριστικά της αναπαράστασης `mycorpus` και τις κατηγορίες της.\n",
        "\n",
        "Τέλος, η συνάρτηση δέχεται ένα ορισμα για το πόσες ταινίες να επιστρέψει, με default τιμή όλες τις ταινίες (5000). Αυτό είναι χρήσιμο για να μπορείτε αν θέλετε να φτιάχνετε μικρότερα σύνολα δεδομένων ώστε να εκπαιδεύεται ταχύτερα το SOM. \n",
        "\n",
        "Θα τρέχουμε τη συνάρτηση με `final_set = build_final_set(my_best_corpus)`."
      ]
    },
    {
      "cell_type": "code",
      "execution_count": 23,
      "metadata": {
        "id": "U-FDDOkQPSzA"
      },
      "outputs": [],
      "source": [
        "def build_final_set(mycorpus, doc_limit = 5000, tf_idf_only=False):\n",
        "    # convert sparse tf_idf to dense tf_idf representation\n",
        "    dense_tf_idf = mycorpus.toarray()[0:doc_limit,:]\n",
        "    if tf_idf_only:\n",
        "        # use only tf_idf\n",
        "        final_set = dense_tf_idf\n",
        "    else:\n",
        "        # append the binary categories features horizontaly to the (dense) tf_idf features\n",
        "        final_set = np.hstack((dense_tf_idf, catbins[0:doc_limit,:]))\n",
        "    # η somoclu θέλει δεδομ΄ένα σε float32\n",
        "    return np.array(final_set, dtype=np.float32)"
      ]
    },
    {
      "cell_type": "code",
      "execution_count": 24,
      "metadata": {},
      "outputs": [],
      "source": [
        "my_best_corpus = corpus_tfidf_optimized\n",
        "final_set = build_final_set(my_best_corpus)"
      ]
    },
    {
      "cell_type": "markdown",
      "metadata": {
        "id": "KjvPPENS_dYL"
      },
      "source": [
        "Στο επόμενο κελί, τυπώνουμε τις διαστάσεις του τελικού dataset μας. **Χωρίς βελτιστοποίηση του TFIDF** θα έχουμε περίπου 50.000 χαρακτηριστικά και ο θα είναι ανέφικτο να προχωρήσουμε στην εκπαίδευση του SOM."
      ]
    },
    {
      "cell_type": "code",
      "execution_count": 25,
      "metadata": {
        "id": "fvEgNn-L-jEw"
      },
      "outputs": [
        {
          "data": {
            "text/plain": [
              "(5000, 2424)"
            ]
          },
          "execution_count": 25,
          "metadata": {},
          "output_type": "execute_result"
        }
      ],
      "source": [
        "final_set.shape"
      ]
    },
    {
      "cell_type": "markdown",
      "metadata": {
        "id": "8tikdip0PSzQ"
      },
      "source": [
        "## Εκπαίδευση χάρτη SOM\n",
        "\n",
        "Θα δουλέψουμε με τη βιβλιοθήκη SOM [\"Somoclu\"](http://somoclu.readthedocs.io/en/stable/index.html). Εισάγουμε τις somoclu και matplotlib και λέμε στη matplotlib να τυπώνει εντός του notebook (κι όχι σε pop up window)."
      ]
    },
    {
      "cell_type": "code",
      "execution_count": 26,
      "metadata": {
        "id": "oX9rzxGSPSzR"
      },
      "outputs": [
        {
          "name": "stdout",
          "output_type": "stream",
          "text": [
            "Warning: the binary library cannot be imported. You cannot train maps, but you can load and analyze ones that you have already saved.\n",
            "If you installed Somoclu with pip on macOS, this typically means missing a linked library. If you compiled Somoclu with GCC, please make sure you have set DYLD_LIBRARY_PATH to include the GCC path. For more information, please refer to the documentation.\n"
          ]
        }
      ],
      "source": [
        "# install somoclu\n",
        "# !pip install --upgrade somoclu\n",
        "# import sompoclu, matplotlib\n",
        "import somoclu\n",
        "import matplotlib\n",
        "# we will plot inside the notebook and not in separate window\n",
        "%matplotlib inline"
      ]
    },
    {
      "cell_type": "markdown",
      "metadata": {
        "id": "EqBfn0ijPSzX"
      },
      "source": [
        "Καταρχάς διαβάστε το [function reference](http://somoclu.readthedocs.io/en/stable/reference.html) του somoclu. Θα δoυλέψουμε με χάρτη τύπου planar, παραλληλόγραμμου σχήματος νευρώνων με τυχαία αρχικοποίηση (όλα αυτά είναι default). Μπορείτε να δοκιμάσετε διάφορα μεγέθη χάρτη ωστόσο όσο ο αριθμός των νευρώνων μεγαλώνει, μεγαλώνει και ο χρόνος εκπαίδευσης. Για το training δεν χρειάζεται να ξεπεράσετε τα 100 epochs. Σε γενικές γραμμές μπορούμε να βασιστούμε στις default παραμέτρους μέχρι να έχουμε τη δυνατότητα να οπτικοποιήσουμε και να αναλύσουμε ποιοτικά τα αποτελέσματα. Ξεκινήστε με ένα χάρτη 10 x 10, 100 epochs training και ένα υποσύνολο των ταινιών (π.χ. 2000). Χρησιμοποιήστε την `time` για να έχετε μια εικόνα των χρόνων εκπαίδευσης. "
      ]
    },
    {
      "cell_type": "code",
      "execution_count": 27,
      "metadata": {},
      "outputs": [],
      "source": [
        "# import time\n",
        "\n",
        "# subset = build_final_set(my_best_corpus, doc_limit=2000)\n",
        "# rows,columns = 10,10\n",
        "# epochs = 100\n",
        "# som = somoclu.Somoclu(columns, rows, compactsupport=False)\n",
        "\n",
        "# start = time.time()\n",
        "# som.train(subset, epochs = epochs)\n",
        "# end = time.time()\n",
        "# print(\"Training time: %.2f seconds\" % (end - start))\n",
        "\n"
      ]
    },
    {
      "cell_type": "code",
      "execution_count": 28,
      "metadata": {},
      "outputs": [],
      "source": [
        "# joblib.dump(som, 'som.pkl')\n",
        "som = joblib.load('som.pkl')"
      ]
    },
    {
      "cell_type": "markdown",
      "metadata": {
        "id": "ntd2GE9SaHiS"
      },
      "source": [
        "\n",
        "## Best matching units\n",
        "\n",
        "Μετά από κάθε εκπαίδευση αποθηκεύστε σε μια μεταβλητή τα best matching units (bmus) για κάθε ταινία. Τα bmus μας δείχνουν σε ποιο νευρώνα ανήκει η κάθε ταινία. **Προσοχή: η σύμβαση των συντεταγμένων των νευρώνων στη Somoclu είναι (στήλη, γραμμή) δηλαδή το ανάποδο από την Python**. Με χρήση της [np.unique](https://docs.scipy.org/doc/numpy-1.13.0/reference/generated/numpy.unique.html) (μια πολύ χρήσιμη συνάρτηση στην άσκηση) αποθηκεύστε τα μοναδικά best matching units και τους δείκτες τους (indices) προς τις ταινίες. \n",
        "\n",
        "Σημειώστε ότι μπορεί να έχετε λιγότερα μοναδικά bmus από αριθμό νευρώνων γιατί μπορεί σε κάποιους νευρώνες να μην έχουν ανατεθεί ταινίες. Ως αριθμό νευρώνα θα θεωρήσουμε τον αριθμό γραμμής στον πίνακα μοναδικών bmus.\n"
      ]
    },
    {
      "cell_type": "code",
      "execution_count": 29,
      "metadata": {},
      "outputs": [],
      "source": [
        "bmus, indices = np.unique(som.bmus,axis=0,return_index=True)"
      ]
    },
    {
      "cell_type": "markdown",
      "metadata": {
        "id": "grzqcyHyaKdg"
      },
      "source": [
        "\n",
        "## Ομαδοποίηση (clustering)\n",
        "\n",
        "Τυπικά, η ομαδοποίηση σε ένα χάρτη SOM προκύπτει από το unified distance matrix (U-matrix): για κάθε κόμβο υπολογίζεται η μέση απόστασή του από τους γειτονικούς κόμβους. Εάν χρησιμοποιηθεί μπλε χρώμα στις περιοχές του χάρτη όπου η τιμή αυτή είναι χαμηλή (μικρή απόσταση) και κόκκινο εκεί που η τιμή είναι υψηλή (μεγάλη απόσταση), τότε μπορούμε να πούμε ότι οι μπλε περιοχές αποτελούν clusters και οι κόκκινες αποτελούν σύνορα μεταξύ clusters.\n",
        "\n",
        "To somoclu δίνει την επιπρόσθετη δυνατότητα να κάνουμε ομαδοποίηση των νευρώνων χρησιμοποιώντας οποιονδήποτε αλγόριθμο ομαδοποίησης του scikit-learn. Στην άσκηση θα χρησιμοποιήσουμε τον k-Means. Για τον αρχικό σας χάρτη δοκιμάστε ένα k=20 ή 25. Οι δύο προσεγγίσεις ομαδοποίησης είναι διαφορετικές, οπότε περιμένουμε τα αποτελέσματα να είναι κοντά αλλά όχι τα ίδια.\n"
      ]
    },
    {
      "cell_type": "code",
      "execution_count": 34,
      "metadata": {},
      "outputs": [],
      "source": [
        "from sklearn.cluster import KMeans\n",
        "som.cluster(KMeans(n_clusters=20))"
      ]
    },
    {
      "cell_type": "markdown",
      "metadata": {
        "id": "2nupuqcuaMe3"
      },
      "source": [
        "\n",
        "## Αποθήκευση του SOM\n",
        "\n",
        "Επειδή η αρχικοποίηση του SOM γίνεται τυχαία και το clustering είναι και αυτό στοχαστική διαδικασία, οι θέσεις και οι ετικέτες των νευρώνων και των clusters θα είναι διαφορετικές κάθε φορά που τρέχετε τον χάρτη, ακόμα και με τις ίδιες παραμέτρους. Για να αποθηκεύσετε ένα συγκεκριμένο som και clustering χρησιμοποιήστε και πάλι την `joblib`. Μετά την ανάκληση ενός SOM θυμηθείτε να ακολουθήσετε τη διαδικασία για τα bmus.\n"
      ]
    },
    {
      "cell_type": "code",
      "execution_count": 36,
      "metadata": {},
      "outputs": [],
      "source": [
        "# joblib.dump(som, 'som.pkl') \n",
        "som = joblib.load('som.pkl')"
      ]
    },
    {
      "cell_type": "markdown",
      "metadata": {
        "id": "ejX0Qs18aRHU"
      },
      "source": [
        "\n",
        "## Οπτικοποίηση U-matrix, clustering και μέγεθος clusters\n",
        "\n",
        "Για την εκτύπωση του U-matrix χρησιμοποιήστε τη `view_umatrix` με ορίσματα `bestmatches=True` και `figsize=(15, 15)` ή `figsize=(20, 20)`. Τα διαφορετικά χρώματα που εμφανίζονται στους κόμβους αντιπροσωπεύουν τα διαφορετικά clusters που προκύπτουν από τον k-Means. Μπορείτε να εμφανίσετε τη λεζάντα του U-matrix με το όρισμα `colorbar`. Μην τυπώνετε τις ετικέτες (labels) των δειγμάτων, είναι πολύ μεγάλος ο αριθμός τους.\n",
        "\n",
        "Για μια δεύτερη πιο ξεκάθαρη οπτικοποίηση του clustering τυπώστε απευθείας τη μεταβλητή `clusters`.\n",
        "\n",
        "Τέλος, χρησιμοποιώντας πάλι την `np.unique` (με διαφορετικό όρισμα) και την `np.argsort` (υπάρχουν και άλλοι τρόποι υλοποίησης) εκτυπώστε τις ετικέτες των clusters (αριθμοί από 0 έως k-1) και τον αριθμό των νευρώνων σε κάθε cluster, με φθίνουσα ή αύξουσα σειρά ως προς τον αριθμό των νευρώνων. Ουσιαστικά είναι ένα εργαλείο για να βρίσκετε εύκολα τα μεγάλα και μικρά clusters. \n",
        "\n",
        "Ακολουθεί ένα μη βελτιστοποιημένο παράδειγμα για τις τρεις προηγούμενες εξόδους:\n",
        "\n",
        "<img src=\"https://image.ibb.co/i0tsfR/umatrix_s.jpg\" width=\"35%\">\n",
        "<img src=\"https://image.ibb.co/nLgHEm/clusters.png\" width=\"35%\">\n",
        "\n"
      ]
    },
    {
      "cell_type": "code",
      "execution_count": 37,
      "metadata": {},
      "outputs": [
        {
          "data": {
            "image/png": "[encoded data removed]",
            "text/plain": [
              "<Figure size 1500x1500 with 2 Axes>"
            ]
          },
          "metadata": {},
          "output_type": "display_data"
        }
      ],
      "source": [
        "som.view_umatrix(bestmatches=True, colorbar=True,figsize=(15, 15))\n",
        "matplotlib.pyplot.show()"
      ]
    },
    {
      "cell_type": "code",
      "execution_count": 80,
      "metadata": {},
      "outputs": [
        {
          "name": "stdout",
          "output_type": "stream",
          "text": [
            "[[12 12 12 10 10 10  4 18 18 18]\n",
            " [ 3 12 12 10 10 10  4  4 18 18]\n",
            " [ 3  3  3  3 10 10  9  9 18 18]\n",
            " [ 3  3  3 19 19 19 16  9 13 13]\n",
            " [ 8  3  1  1 19  7  7 13 13 13]\n",
            " [ 8  8  1 14 14  7 18 18  6  6]\n",
            " [ 8  8  1 14 14 14  0  0  0  6]\n",
            " [ 8 17 14 11 11  0  0  0  0 15]\n",
            " [17 17  2 11 11  5  5  5 15 15]\n",
            " [17 17  2  2 11  5  5  5 15 15]]\n",
            "-------------------------------------\n",
            "{16: 1, 9: 3, 2: 3, 7: 3, 4: 3, 6: 3, 19: 4, 1: 4, 11: 5, 12: 5, 13: 5, 15: 5, 17: 5, 8: 6, 14: 6, 5: 6, 0: 7, 10: 8, 3: 9, 18: 9}\n"
          ]
        }
      ],
      "source": [
        "# clustering visualization by printing the clusters variable\n",
        "print(som.clusters)\n",
        "print(\"-------------------------------------\")\n",
        "# returns a set with keys being the cluster labels and values being the number of elements in each cluster with values sorted in ascending order\n",
        "clusters, counts = np.unique(som.clusters, return_counts=True)\n",
        "sorted_counts = np.argsort(counts)\n",
        "cluster_counts = {clusters[i]: counts[i] for i in sorted_counts}\n",
        "print(cluster_counts)\n",
        "\n"
      ]
    },
    {
      "cell_type": "markdown",
      "metadata": {
        "id": "fMO_KcQYaTv-"
      },
      "source": [
        "\n",
        "## Σημασιολογική ερμηνεία των clusters\n",
        "\n",
        "Προκειμένου να μελετήσουμε τις τοπολογικές ιδιότητες του SOM και το αν έχουν ενσωματώσει σημασιολογική πληροφορία για τις ταινίες διαμέσου της διανυσματικής αναπαράστασης του tf-idf, των εμφυτευμάτων και των κατηγοριών, χρειαζόμαστε ένα κριτήριο ποιοτικής επισκόπησης των clusters. \n",
        "\n",
        "Θα υλοποιήσουμε το εξής κριτήριο: Λαμβάνουμε όρισμα έναν αριθμό (ετικέτα) cluster. Για το cluster αυτό βρίσκουμε όλους τους νευρώνες που του έχουν ανατεθεί από τον k-Means. Για όλους τους νευρώνες αυτούς βρίσκουμε όλες τις ταινίες που τους έχουν ανατεθεί (για τις οποίες αποτελούν bmus). Για όλες αυτές τις ταινίες τυπώνουμε ταξινομημένη τη συνολική στατιστική όλων των ειδών (κατηγοριών) και τις συχνότητές τους. Αν το cluster διαθέτει καλή συνοχή και εξειδίκευση, θα πρέπει κάποιες κατηγορίες να έχουν σαφώς μεγαλύτερη συχνότητα από τις υπόλοιπες. Θα μπορούμε τότε να αναθέσουμε αυτήν/ές την/τις κατηγορία/ες ως ετικέτες κινηματογραφικού είδους στο cluster.\n",
        "\n",
        "Μπορείτε να υλοποιήσετε τη συνάρτηση αυτή όπως θέλετε. Μια πιθανή διαδικασία θα μπορούσε να είναι η ακόλουθη:\n",
        "\n",
        "1. Ορίζουμε συνάρτηση `print_categories_stats` που δέχεται ως είσοδο λίστα με ids ταινιών. Δημιουργούμε μια κενή λίστα συνολικών κατηγοριών. Στη συνέχεια, για κάθε ταινία επεξεργαζόμαστε το string `categories` ως εξής: δημιουργούμε μια λίστα διαχωρίζοντας το string κατάλληλα με την `split` και αφαιρούμε τα whitespaces μεταξύ ετικετών με την `strip`. Προσθέτουμε τη λίστα αυτή στη συνολική λίστα κατηγοριών με την `extend`. Τέλος χρησιμοποιούμε πάλι την `np.unique` για να μετρήσουμε συχνότητα μοναδικών ετικετών κατηγοριών και ταξινομούμε με την `np.argsort`. Τυπώνουμε τις κατηγορίες και τις συχνότητες εμφάνισης ταξινομημένα. Χρήσιμες μπορεί να σας φανούν και οι `np.ravel`, `np.nditer`, `np.array2string` και `zip`.\n",
        "\n",
        "2. Ορίζουμε τη βασική μας συνάρτηση `print_cluster_neurons_movies_report` που δέχεται ως όρισμα τον αριθμό ενός cluster. Με τη χρήση της `np.where` μπορούμε να βρούμε τις συντεταγμένες των bmus που αντιστοιχούν στο cluster και με την `column_stack` να φτιάξουμε έναν πίνακα bmus για το cluster. Προσοχή στη σειρά (στήλη - σειρά) στον πίνακα bmus. Για κάθε bmu αυτού του πίνακα ελέγχουμε αν υπάρχει στον πίνακα μοναδικών bmus που έχουμε υπολογίσει στην αρχή συνολικά και αν ναι προσθέτουμε το αντίστοιχο index του νευρώνα σε μια λίστα. Χρήσιμες μπορεί να είναι και οι `np.rollaxis`, `np.append`, `np.asscalar`. Επίσης πιθανώς να πρέπει να υλοποιήσετε ένα κριτήριο ομοιότητας μεταξύ ενός bmu και ενός μοναδικού bmu από τον αρχικό πίνακα bmus.\n",
        "\n",
        "3. Υλοποιούμε μια βοηθητική συνάρτηση `neuron_movies_report`. Λαμβάνει ένα σύνολο νευρώνων από την `print_cluster_neurons_movies_report` και μέσω της `indices` φτιάχνει μια λίστα με το σύνολο ταινιών που ανήκουν σε αυτούς τους νευρώνες. Στο τέλος καλεί με αυτή τη λίστα την `print_categories_stats` που τυπώνει τις στατιστικές των κατηγοριών.\n",
        "\n",
        "Μπορείτε βέβαια να προσθέσετε οποιαδήποτε επιπλέον έξοδο σας βοηθάει. Μια χρήσιμη έξοδος είναι πόσοι νευρώνες ανήκουν στο cluster και σε πόσους και ποιους από αυτούς έχουν ανατεθεί ταινίες.\n",
        "\n",
        "Θα επιτελούμε τη σημασιολογική ερμηνεία του χάρτη καλώντας την `print_cluster_neurons_movies_report` με τον αριθμός ενός cluster που μας ενδιαφέρει. \n",
        "\n",
        "Παράδειγμα εξόδου για ένα cluster (μη βελτιστοποιημένος χάρτης, ωστόσο βλέπετε ότι οι μεγάλες κατηγορίες έχουν σημασιολογική  συνάφεια):\n",
        "\n",
        "```\n",
        "Overall Cluster Genres stats:  \n",
        "[('\"Horror\"', 86), ('\"Science Fiction\"', 24), ('\"B-movie\"', 16), ('\"Monster movie\"', 10), ('\"Creature Film\"', 10), ('\"Indie\"', 9), ('\"Zombie Film\"', 9), ('\"Slasher\"', 8), ('\"World cinema\"', 8), ('\"Sci-Fi Horror\"', 7), ('\"Natural horror films\"', 6), ('\"Supernatural\"', 6), ('\"Thriller\"', 6), ('\"Cult\"', 5), ('\"Black-and-white\"', 5), ('\"Japanese Movies\"', 4), ('\"Short Film\"', 3), ('\"Drama\"', 3), ('\"Psychological thriller\"', 3), ('\"Crime Fiction\"', 3), ('\"Monster\"', 3), ('\"Comedy\"', 2), ('\"Western\"', 2), ('\"Horror Comedy\"', 2), ('\"Archaeology\"', 2), ('\"Alien Film\"', 2), ('\"Teen\"', 2), ('\"Mystery\"', 2), ('\"Adventure\"', 2), ('\"Comedy film\"', 2), ('\"Combat Films\"', 1), ('\"Chinese Movies\"', 1), ('\"Action/Adventure\"', 1), ('\"Gothic Film\"', 1), ('\"Costume drama\"', 1), ('\"Disaster\"', 1), ('\"Docudrama\"', 1), ('\"Film adaptation\"', 1), ('\"Film noir\"', 1), ('\"Parody\"', 1), ('\"Period piece\"', 1), ('\"Action\"', 1)]```\n",
        "   "
      ]
    },
    {
      "cell_type": "markdown",
      "metadata": {
        "id": "lq4QrImhaa7E"
      },
      "source": [
        "\n",
        "## Tips για το SOM και το clustering\n",
        "\n",
        "- Για την ομαδοποίηση ένα U-matrix καλό είναι να εμφανίζει και μπλε-πράσινες περιοχές (clusters) και κόκκινες περιοχές (ορίων). Παρατηρήστε ποια σχέση υπάρχει μεταξύ αριθμού ταινιών στο final set, μεγέθους grid και ποιότητας U-matrix.\n",
        "- Για το k του k-Means προσπαθήστε να προσεγγίζει σχετικά τα clusters του U-matrix (όπως είπαμε είναι διαφορετικοί μέθοδοι clustering). Μικρός αριθμός k δεν θα σέβεται τα όρια. Μεγάλος αριθμός θα δημιουργεί υπο-clusters εντός των clusters που φαίνονται στο U-matrix. Το τελευταίο δεν είναι απαραίτητα κακό, αλλά μεγαλώνει τον αριθμό clusters που πρέπει να αναλυθούν σημασιολογικά.\n",
        "- Σε μικρούς χάρτες και με μικρά final sets δοκιμάστε διαφορετικές παραμέτρους για την εκπαίδευση του SOM. Σημειώστε τυχόν παραμέτρους που επηρεάζουν την ποιότητα του clustering για το dataset σας ώστε να τις εφαρμόσετε στους μεγάλους χάρτες.\n",
        "- Κάποια τοπολογικά χαρακτηριστικά εμφανίζονται ήδη σε μικρούς χάρτες. Κάποια άλλα χρειάζονται μεγαλύτερους χάρτες. Δοκιμάστε μεγέθη 20x20, 25x25 ή και 30x30 και αντίστοιχη προσαρμογή των k. Όσο μεγαλώνουν οι χάρτες, μεγαλώνει η ανάλυση του χάρτη αλλά μεγαλώνει και ο αριθμός clusters που πρέπει να αναλυθούν.\n"
      ]
    },
    {
      "cell_type": "markdown",
      "metadata": {
        "id": "x4IUl8O8ayVf"
      },
      "source": [
        "\n",
        "\n",
        "## Ανάλυση τοπολογικών ιδιοτήτων χάρτη SOM\n",
        "\n",
        "Μετά το πέρας της εκπαίδευσης και του clustering θα έχετε ένα χάρτη με τοπολογικές ιδιότητες ως προς τα είδη των ταίνιών της συλλογής σας, κάτι αντίστοιχο με την εικόνα στην αρχή της Εφαρμογής 2 αυτού του notebook. Η συγκεκριμένη εικόνα είναι μόνο για εικονογράφιση, δεν είναι χάρτης SOM καιδεν έχει καμία σχέση με τη συλλογή δεδομένων και τις κατηγορίες μας.\n",
        "\n",
        "Για τον τελικό χάρτη SOM που θα παράξετε για τη συλλογή σας, αναλύστε σε markdown με συγκεκριμένη αναφορά σε αριθμούς clusters και τη σημασιολογική ερμηνεία τους τις εξής τρεις τοπολογικές ιδιότητες του SOM: \n",
        "\n",
        "1. Δεδομένα που έχουν μεγαλύτερη πυκνότητα πιθανότητας στο χώρο εισόδου τείνουν να απεικονίζονται με περισσότερους νευρώνες στο χώρο μειωμένης διαστατικότητας. Δώστε παραδείγματα από συχνές και λιγότερο συχνές κατηγορίες ταινιών. Χρησιμοποιήστε τις στατιστικές των κατηγοριών στη συλλογή σας και τον αριθμό κόμβων που χαρακτηρίζουν.\n",
        "2. Μακρινά πρότυπα εισόδου τείνουν να απεικονίζονται απομακρυσμένα στο χάρτη. Υπάρχουν χαρακτηριστικές κατηγορίες ταινιών που ήδη από μικρούς χάρτες τείνουν να τοποθετούνται σε διαφορετικά ή απομονωμένα σημεία του χάρτη.\n",
        "3. Κοντινά πρότυπα εισόδου τείνουν να απεικονίζονται κοντά στο χάρτη. Σε μεγάλους χάρτες εντοπίστε είδη ταινιών και κοντινά τους υποείδη.\n",
        "\n",
        "Προφανώς τοποθέτηση σε 2 διαστάσεις που να σέβεται μια απόλυτη τοπολογία δεν είναι εφικτή, αφενός γιατί δεν υπάρχει κάποια απόλυτη εξ ορισμού για τα κινηματογραφικά είδη ακόμα και σε πολλές διαστάσεις, αφετέρου γιατί πραγματοποιούμε μείωση διαστατικότητας.\n",
        "\n",
        "Εντοπίστε μεγάλα clusters και μικρά clusters που δεν έχουν σαφή χαρακτηριστικά. Εντοπίστε clusters συγκεκριμένων ειδών που μοιάζουν να μην έχουν τοπολογική συνάφεια με γύρω περιοχές. Προτείνετε πιθανές ερμηνείες.\n",
        "\n",
        "\n",
        "Τέλος, εντοπίστε clusters που έχουν κατά την άποψή σας ιδιαίτερο ενδιαφέρον στη συλλογή της ομάδας σας (data exploration / discovery value) και σχολιάστε.\n"
      ]
    },
    {
      "cell_type": "markdown",
      "metadata": {
        "id": "tYjxGR5DawIy"
      },
      "source": [
        "\n",
        "# Τελική παράδοση άσκησης\n",
        "\n",
        "- Θα παραδώσετε στο helios το παρόν notebook επεξεργασμένο ή ένα ή δύο νέα zipαρισμένα με τις απαντήσεις σας για τα ζητούμενα και των δύο εφαρμογών. \n",
        "- Θυμηθείτε ότι η ανάλυση του χάρτη στο markdown με αναφορά σε αριθμούς clusters πρέπει να αναφέρεται στον τελικό χάρτη με τα κελιά ορατά που θα παραδώσετε αλλιώς ο χάρτης που θα προκύψει θα είναι διαφορετικός και τα labels των clusters δεν θα αντιστοιχούν στην ανάλυσή σας. \n",
        "- Μην ξεχάσετε στην αρχή ένα κελί markdown με **τα στοιχεία της ομάδας σας**."
      ]
    },
    {
      "cell_type": "markdown",
      "metadata": {
        "id": "UHhCkvxjnitd"
      },
      "source": [
        "<table>\n",
        "  <tr><td align=\"center\">\n",
        "    <font size=\"4\">Παρακαλούμε διατρέξτε βήμα-βήμα το notebook για να μην ξεχάσετε παραδοτέα</font>\n",
        "</td>\n",
        "  </tr>\n",
        "</table>"
      ]
    }
  ],
  "metadata": {
    "colab": {
      "provenance": [],
      "toc_visible": true
    },
    "kernelspec": {
      "display_name": "Python 3",
      "language": "python",
      "name": "python3"
    },
    "language_info": {
      "codemirror_mode": {
        "name": "ipython",
        "version": 3
      },
      "file_extension": ".py",
      "mimetype": "text/x-python",
      "name": "python",
      "nbconvert_exporter": "python",
      "pygments_lexer": "ipython3",
      "version": "3.10.8"
    },
    "vscode": {
      "interpreter": {
        "hash": "b0fa6594d8f4cbf19f97940f81e996739fb7646882a419484c72d19e05852a7e"
      }
    }
  },
  "nbformat": 4,
  "nbformat_minor": 0
}
